{
 "cells": [
  {
   "cell_type": "markdown",
   "metadata": {},
   "source": [
    "기한: 3월 15일 (금) 18:30\n",
    "\n",
    "\n",
    "과제: 핸즈온 4장 모델 훈련 p.157-202 필사하여 깃허브에 업로드한 뒤, 깃허브 링크를 댓글로 달아주세요."
   ]
  },
  {
   "cell_type": "markdown",
   "metadata": {},
   "source": [
    "# Chapter4. 모델 훈련"
   ]
  },
  {
   "cell_type": "markdown",
   "metadata": {},
   "source": [
    "-------------------\n",
    "##### 1. 선형회귀\n",
    "선형 모델을 훈련시키는 두 가지 방법\n",
    "1. 공식을 사용하여 최적 모델 파라미터를 해석적으로 구한다.\n",
    "2. 경사하강법(GD)을 사용하여 최적 모델 파라미터를 구한다.\n",
    "\n",
    "(* 최적 모델 파라미터란 훈련 세트에 대해 비용 함수를 최소화하는 모델 파라미터를 말한다.)\n",
    "\n",
    "##### 2. 다항회귀\n",
    "다항회귀는 선형회귀보다 파라미터가 많아 과적합되기 쉽다.\n",
    "\n",
    "따라서 학습 곡선을 사용하여 모델이 과적합되는지 감지하는 방법과 과적합을 감소시킬 수 있는 규제기법을 알아볼 것이다.\n",
    "\n",
    "\n",
    "\n",
    "##### 3. 로지스틱 회귀 & 소프트맥스 회귀\n",
    "--------------------------"
   ]
  },
  {
   "cell_type": "markdown",
   "metadata": {},
   "source": [
    "## 4.1 선형 회귀"
   ]
  },
  {
   "cell_type": "markdown",
   "metadata": {},
   "source": [
    "##### 선형 회귀 모델의 예측\n",
    "ŷ = θ · x\n",
    "\n",
    "- ŷ : 예측값\n",
    "- n : 특성의 수\n",
    "- xi : i번째 특성값\n",
    "- x : x0부터 xn까지를 담은 샘플의 특성 벡터.\n",
    "- θ : 편향(θ0)과 θ1부터 θn까지의 특성 가중치를 담은 모델의 파라미터 벡터"
   ]
  },
  {
   "cell_type": "markdown",
   "metadata": {},
   "source": [
    "##### 선형 회귀 모델 훈련\n",
    "1. 모델이 훈련 데이터에 얼마나 잘 들어맞는지 측정한다.\n",
    "    회귀에서 가장 널리 사용되는 성능 측정 지표는 RMSE이다. 따라서 RMSE를 최소화하는 θ를 찾아야한다. 실제로는 MSE를 최소화하는 것이 같은 결과를 내면서 더 간단하다."
   ]
  },
  {
   "cell_type": "markdown",
   "metadata": {},
   "source": [
    "-------\n",
    "### 4.1.1 정규방정식 (normal equation)"
   ]
  },
  {
   "cell_type": "markdown",
   "metadata": {},
   "source": [
    "비용 함수를 최소화 하는 θ값을 찾기 위한 해석적인 방법이다.\n",
    "\n",
    "즉 바로 결과를 얻을 수 있는 수학 공식이다."
   ]
  },
  {
   "cell_type": "markdown",
   "metadata": {},
   "source": [
    "- np.random.rand() : [0, 1)의 범위에서 균등하게 추출하여 N차원 배열을 생성\n",
    "\n",
    "- np.random.randn() : 표준정규분포표에서 임의의 수를 추출한뒤, 그 수를 바탕으로 하는 N차원 배열을 생성"
   ]
  },
  {
   "cell_type": "markdown",
   "metadata": {},
   "source": [
    "##### 1. 선형처럼 보이는 데이터 생성"
   ]
  },
  {
   "cell_type": "code",
   "execution_count": 3,
   "metadata": {},
   "outputs": [],
   "source": [
    "import numpy as np\n",
    "\n",
    "X = 2 * np.random.rand(100, 1)\n",
    "y = 4 + 3 * X + np.random.randn(100, 1)"
   ]
  },
  {
   "cell_type": "markdown",
   "metadata": {},
   "source": [
    "##### 2. 정규방정식을 사용하여 θ-hat 계산\n",
    "\n",
    ": 넘파이 선형 대수 모듈인 np.linalg 의 inv() 함수를 통해 역행렬 계산하고 dot() 메서드를 사용해 행렬 곱셈을 한다."
   ]
  },
  {
   "cell_type": "code",
   "execution_count": 6,
   "metadata": {},
   "outputs": [],
   "source": [
    "X_b = np.c_[np.ones((100, 1)), X]  # 모든 샘플에 x0 = 1을 추가합니다.\n",
    "theta_best = np.linalg.inv(X_b.T.dot(X_b)).dot(X_b.T).dot(y)"
   ]
  },
  {
   "cell_type": "code",
   "execution_count": 7,
   "metadata": {},
   "outputs": [
    {
     "data": {
      "text/plain": [
       "array([[3.99499277],\n",
       "       [2.89825065]])"
      ]
     },
     "execution_count": 7,
     "metadata": {},
     "output_type": "execute_result"
    }
   ],
   "source": [
    "theta_best"
   ]
  },
  {
   "cell_type": "markdown",
   "metadata": {},
   "source": [
    "정규 방정식으로 계산한 값을 확인해보니 θ0 = 3.99, θ1 = 2.89로 매우 비슷하지만 잡음 때문에 원래 함수의 파라미터인 θ0 = 4, θ1 = 3을 정확하게 재현하지는 못했다."
   ]
  },
  {
   "cell_type": "markdown",
   "metadata": {},
   "source": [
    "##### 3. θ-hat을 사용한 예측"
   ]
  },
  {
   "cell_type": "code",
   "execution_count": 8,
   "metadata": {},
   "outputs": [
    {
     "data": {
      "text/plain": [
       "array([[3.99499277],\n",
       "       [9.79149408]])"
      ]
     },
     "execution_count": 8,
     "metadata": {},
     "output_type": "execute_result"
    }
   ],
   "source": [
    "X_new = np.array([[0], [2]])\n",
    "X_new_b = np.c_[np.ones((2,1)), X_new]  # 모든 샘플에 x0 = 1을 추가합니다.\n",
    "y_predict = X_new_b.dot(theta_best)\n",
    "y_predict"
   ]
  },
  {
   "cell_type": "code",
   "execution_count": 9,
   "metadata": {},
   "outputs": [
    {
     "data": {
      "image/png": "[encoded data removed]",
      "text/plain": [
       "<Figure size 640x480 with 1 Axes>"
      ]
     },
     "metadata": {},
     "output_type": "display_data"
    }
   ],
   "source": [
    "# 모델의 예측을 그래프로 나타내기\n",
    "import matplotlib.pyplot as plt\n",
    "\n",
    "plt.plot(X_new, y_predict, \"r-\")\n",
    "plt.plot(X, y, \"b.\")\n",
    "plt.axis([0, 2, 0, 15])\n",
    "plt.show()"
   ]
  },
  {
   "cell_type": "markdown",
   "metadata": {},
   "source": [
    "사이킷런에서 선형 회귀 수행하기"
   ]
  },
  {
   "cell_type": "code",
   "execution_count": 10,
   "metadata": {},
   "outputs": [
    {
     "data": {
      "text/plain": [
       "array([[3.99499277],\n",
       "       [9.79149408]])"
      ]
     },
     "execution_count": 10,
     "metadata": {},
     "output_type": "execute_result"
    }
   ],
   "source": [
    "from sklearn.linear_model import LinearRegression\n",
    "lin_reg = LinearRegression()\n",
    "lin_reg.fit(X, y)\n",
    "lin_reg.intercept_, lin_reg.coef_\n",
    "\n",
    "lin_reg.predict(X_new)"
   ]
  },
  {
   "cell_type": "code",
   "execution_count": 11,
   "metadata": {},
   "outputs": [
    {
     "data": {
      "text/plain": [
       "array([[3.99499277],\n",
       "       [2.89825065]])"
      ]
     },
     "execution_count": 11,
     "metadata": {},
     "output_type": "execute_result"
    }
   ],
   "source": [
    "theta_best_svd, residuals, rank, s = np.linalg.lstsq(X_b, y, rcond = 1e-6)\n",
    "theta_best_svd"
   ]
  },
  {
   "cell_type": "code",
   "execution_count": 9,
   "metadata": {},
   "outputs": [
    {
     "data": {
      "text/plain": [
       "array([[4.18426709],\n",
       "       [2.87121526]])"
      ]
     },
     "execution_count": 9,
     "metadata": {},
     "output_type": "execute_result"
    }
   ],
   "source": [
    "np.linalg.pinv(X_b).dot(y)"
   ]
  },
  {
   "cell_type": "markdown",
   "metadata": {},
   "source": [
    "- 유사 역행렬 (무어-펜로즈 역행렬)\n",
    "\n",
    ": 특잇값 분해(SVD) 라 부르는 표준 행렬 분해 기법을 사용해 계산된다.\n"
   ]
  },
  {
   "cell_type": "markdown",
   "metadata": {},
   "source": [
    "----\n",
    "### 4.1.2 계산 복잡도 (computational complexity)"
   ]
  },
  {
   "cell_type": "markdown",
   "metadata": {},
   "source": [
    "1) \n",
    "정규 방정식은 (n+1)x(n+1) 크기가 되는 X.T*X 의 역행렬을 계산한다. (n : 특성 수)\n",
    "\n",
    "역행렬을 계산하는 \"계산 복잡도\"는 일반적으로 O(n^2.4) 에서 O(n^3) 사이이다.\n",
    "\n",
    "ex. 특성 수가 2배로 늘어나면 계산 시간이 대략 2^2.4 = 5.3배 에서 2^3 = 8배로 증가한다\n",
    "\n",
    "2) \n",
    "\n",
    "사이킷런의 LinearRegression 클래스가 사용하는 SVD 방법은 약 O(n^2)으로, 특성 수가 2배로 늘어나면 계산시간이 대략 4배가 된다.\n",
    "\n",
    "3) \n",
    "정규 방정식이나 다른 알고리즘으로 학습된 선형 회귀 모델은 예측이 매우 빠르다. 예측 계산 복잡도는 샘플 수(m)와 특성 수(n)에 선형적이다. 만약 예측하려는 샘플이 2배로 늘어나면, 혹은 특성 수가 2배로 늘어나면 걸리는 시간도 거의 2배가 된다."
   ]
  },
  {
   "cell_type": "markdown",
   "metadata": {},
   "source": [
    "----\n",
    "## 4.2 경사 하강법 (Gradient Descent)"
   ]
  },
  {
   "cell_type": "markdown",
   "metadata": {},
   "source": [
    "- 특성이 매우 많고 훈련 샘플이 너무 많아 메모리에 모두 담을 수 없을 때 적합하다.\n",
    "- 여러 종류의 문제에서 최적의 해법을 찾을 수 있는 일반적인 최적화 알고리즘이다.\n",
    "- 기본 아이디어 : 비용 함수를 최소화하기 위해 반복해서 파라미터를 조정하는 것이다.\n",
    "\n",
    "1. 파라미터 벡터 θ에 대해 비용 함수(MSE 등)의 현재 그래디언트를 계산한다\n",
    "2. 그래디언트가 감소하는 방향으로 진행한다.\n",
    "3. 그래디언트가 0이 되면 최솟값에 도달한 것이다.\n",
    "\n",
    "+θ는 임의의 값으로 시작해서 **무작위 초기화**(random initialization)라고 하기도 한다."
   ]
  },
  {
   "cell_type": "markdown",
   "metadata": {},
   "source": [
    "##### 1. 학습률 파라미터\n",
    "- 스텝의 크기를 의미\n",
    "- 학습률이 너무 작으면 알고리즘이 수렴하기까지 많은 반복이 필요하므로 시간이 오래 걸린다.\n",
    "- 학습률이 너무 크면 골짜기를 가로질러 이전보다 높은 곳으로 올라갈 수도 있다.\n",
    "\n",
    "##### 2. 경사 하강법의 두 가지 문제점\n",
    "1. 알고리즘이 전역 최솟값보다 지역 최솟값에 가까운 지점에서 시작하면 덜 좋은 지역 최솟값에 수렴한다.\n",
    "2. 알고리즘이 평탄한 지역에서 시작하면 평탄한 지역을 지나기 위해 시간이 오래 걸리고 일찍 멈추게 되어 전역 최솟값에 도달하지 못한다.\n",
    "\n",
    "##### 3. 볼록 함수\n",
    "다행히 선형 회귀를 위한 MSE 비용 함수는 곡선에서 어떤 두 점을 선택해 선을 그어도 가로지르지 않는 볼록 함수이다.\n",
    "\n",
    "- 이는 지역 최솟값이 없고 하나의 전역 최솟값만 있다는 뜻이다.\n",
    "\n",
    "- 또한 연속된 함수이고 기울기가 갑자기 변하지 않는다.\n",
    "\n",
    "-> 이 두 사실로부터 경사 하강법이 전역 최솟값에 가깝게 접근할 수 있다는 것을 보장한다.\n",
    "\n",
    "(학습률이 너무 높지 않고 충분한 시간이 주어진다는 가정 하에)\n",
    "\n",
    "##### 4. 특성 스케일에 따른 비용함수\n",
    "비용 함수는 그릇 모양을 하고 있지만 특성들의 스케일에 따라 모양이 달라진다.\n",
    "\n",
    "따라서 경사 하강법을 사용할 때는 반드시 모든 특성이 같은 스케일을 갖도록 만들어야한다.\n",
    "\n",
    "그렇지 않으면 수렴하는 데 시간이 훨씬 오래 걸린다.\n",
    "\n",
    "ex. 사이킷런의 StandardScaler를 사용하여 스케일을 같게 만들 수 있다."
   ]
  },
  {
   "cell_type": "markdown",
   "metadata": {},
   "source": [
    "----\n",
    "### 4.2.1 배치 경사 하강법"
   ]
  },
  {
   "cell_type": "markdown",
   "metadata": {},
   "source": [
    "##### 1. 편도 함수 (partial derivative)\n",
    "- 경사 하강법을 구현하려면 각 모델 파라미터에 대해 비용 함수의 그래디언트를 계산해야 한다.\n",
    "- 다시 말해 θ가 조금 변경될 때 비용 함수가 얼마나 바뀌는지 계산해야 한다.\n",
    "- 이는 '동쪽을 바라봤을 때 발밑에 느껴지는 산의 기울기는 얼마인가?'와 같은 질문이다."
   ]
  },
  {
   "cell_type": "markdown",
   "metadata": {},
   "source": [
    "##### 2. 배치 경사 하강법 (batch gradient descent)\n",
    "- 매 경사 하강법 스텝에서 전체 훈련 세트 X에 대해 계산한다.\n",
    "- 큰 훈련 세트에서는 아주 느리다.\n",
    "- 그러나 경사 하강법은 특성 수에 민감하지 않다. 따라서 수많은 특성에서 선형 회귀를 훈련시키려면 정규방정식이나 SVD 분해보다 경사 하강법을 사용하는 편이 훨씬 빠르다.\n",
    "- 위로 향하는 그레디언트 벡터가 구해지면 반대 방향인 아래로 가야한다.\n",
    "- 내려가는 스텝의 크기를 결정하기 위해 그레디언트 벡터에 학습률을 곱한다."
   ]
  },
  {
   "cell_type": "code",
   "execution_count": 10,
   "metadata": {},
   "outputs": [],
   "source": [
    "eta = 0.1   # 학습률\n",
    "n_iterations = 1000\n",
    "m = 100\n",
    "\n",
    "theta = np.random.randn(2,1)   # 무작위 초기화\n",
    "\n",
    "for iteration in range(n_iterations):\n",
    "  gradients = 2/m * X_b.T.dot(X_b.dot(theta) - y)\n",
    "  theta = theta - eta * gradients"
   ]
  },
  {
   "cell_type": "code",
   "execution_count": 11,
   "metadata": {},
   "outputs": [
    {
     "data": {
      "text/plain": [
       "array([[4.18426709],\n",
       "       [2.87121526]])"
      ]
     },
     "execution_count": 11,
     "metadata": {},
     "output_type": "execute_result"
    }
   ],
   "source": [
    "theta"
   ]
  },
  {
   "cell_type": "markdown",
   "metadata": {},
   "source": [
    "정규방정식으로 찾은 것과 정확히 같은 결과를 낸다. 경사 하강법이 완벽하게 작동한 것이다.\n",
    "\n",
    "---\n",
    "\n",
    "그럼 학습률을 바꾸어 경사 하강법을 진행해보자."
   ]
  },
  {
   "cell_type": "markdown",
   "metadata": {},
   "source": [
    "1. 학습률 = 0.02\n",
    "\n",
    "2. 학습률 = 0.1\n",
    "\n",
    "3. 학습률 = 0.5\n",
    "\n",
    "1번은 학습률이 너무 낮다. 알고리즘은 최적점에 도달하겠지만 시간이 오래 걸린다.\n",
    " \n",
    "2번은 학습률이 적당하다. 반복 몇 번 만에 최적점에 수렴했다.\n",
    "\n",
    "3번은 학습률이 너무 높다. 스텝마다 최적점에서 멀어져 발산한다. "
   ]
  },
  {
   "cell_type": "markdown",
   "metadata": {},
   "source": [
    "##### 3. 그리드 탐색\n",
    "이처럼 적절한 학습률을 찾으려면 그리드 탐색을 사용한다. 하지만 그리드 탐색에서 수렴하는 데 너무 오래 걸리는 모델을 막기 위해 반복 횟수를 제한해야한다.\n",
    "\n",
    "- 반복 횟수 지정 방법\n",
    ": 반복 횟수를 아주 크게 지정하고 그래디언트 벡터가 아주 작아지면, 즉 벡터의 노름이 어떤  값(허용오차)보다 작아지면 경사 하강법이 거의 최솟값에 도달한 것이므로 알고리즘 중지한다."
   ]
  },
  {
   "cell_type": "markdown",
   "metadata": {},
   "source": [
    "-----\n",
    "### 4.2.2 확률적 경사 하강법"
   ]
  },
  {
   "cell_type": "markdown",
   "metadata": {},
   "source": [
    "##### 1. 배치 경사 하강법의 문제점\n",
    "- 매 스텝에서 전체 훈련 세트를 사용해 그래디언트를 계산한다는 사실\n",
    "- 훈련 세트가 커지면 매우 느려진다.\n",
    "\n",
    "##### 2. 확률적 경사 하강법의 장점\n",
    "- 매 스텝에서 한 개의 샘플을 무작위로 선택하고 해당 샘플에 대한 그래디언트를 계산한다.\n",
    "- 매 반복에서 다뤄야 할 데이터가 매우 적기 때문에 한 번에 하나의 샘플을 처리하면 알고리즘이 훨씬 빠르다.\n",
    "- 매 반복에서 하나의 샘플만 메모리에 있으면 되므로 매우 큰 훈련 세트도 훈련시킬 수 있다.\n",
    "\n",
    "##### 3. 확률적 경사 하강법의 단점\n",
    "- 확률적(무작위적)이기 때문에 배치 경사 하강법보다 훨씬 불안정하다.\n",
    "- 시간이 지나면 최솟값에 근접하겠지만 요동이 지속되며 최솟값에 안착하지 못할 것이다.\n",
    "- 알고리즘이 멈출 때 좋은 파라미터는 구해지겠지만 최적치는 아니다.\n",
    "- 무작위성은 지역 최솟값에서 탈출시켜줘서 좋지만 알고리즘을 전역 최솟값에 다다르지 못하게 한다는 점에서는 좋지 않다.\n",
    "\n",
    "##### 4. 딜레마 해결 방법 : 학습률을 점진적으로 감소시키기\n",
    "-  담금질 기법 알고리즘과 유사\n",
    "- 학습 스케쥴 : 매 반복에서 학습률을 결정하는 함수\n",
    "- 학습률이 너무 빨리 줄어들면 지역 최솟값에 갇히거나 중간에 멈춰버릴 수 있다.\n",
    "- 학습률이 너무 천천히 줄어들면 오랫동안 최솟값 주변을 맴돌거나 훈련을 너무 일찍 중지하여 지역 최솟값에 머무를 수 있다."
   ]
  },
  {
   "cell_type": "markdown",
   "metadata": {},
   "source": [
    "------\n",
    "\n",
    "확률적 경사 하강법 구현\n"
   ]
  },
  {
   "cell_type": "code",
   "execution_count": 12,
   "metadata": {},
   "outputs": [],
   "source": [
    "n_epochs = 50   # 각 반복 = 에포크\n",
    "t0, t1 = 5, 50   # 학습 스케줄 하이퍼파라미터\n",
    "\n",
    "def learning_schedule(t):\n",
    "  return t0 / (t + t1)\n",
    "\n",
    "theta = np.random.randn(2, 1)   # 무작위 초기화\n",
    "\n",
    "for epoch in range(n_epochs):\n",
    "  for i in range(m):\n",
    "    random_index = np.random.randint(m)\n",
    "    xi = X_b[random_index:random_index+1]\n",
    "    yi = y[random_index:random_index+1]\n",
    "    gradients = 2 * xi.T.dot(xi.dot(theta) - yi)\n",
    "    eta = learning_schedule(epoch * m + i)\n",
    "    theta = theta - eta * gradients"
   ]
  },
  {
   "cell_type": "markdown",
   "metadata": {},
   "source": [
    "- epoch(에포크) : 일반적으로 한 반복에서 m번(훈련세트 샘플 수만큼) 되풀이 되고, 이때 각 반복을 epoch라고 한다.\n",
    "\n",
    "배치 경사 하강법 코드가 전체 훈련 세트에 대해 10000번 반복하는 동안 이 코드는 훈련 세트에서 50번만 반복하고도 매우 좋은 값에 도달했다."
   ]
  },
  {
   "cell_type": "code",
   "execution_count": 13,
   "metadata": {},
   "outputs": [
    {
     "data": {
      "text/plain": [
       "array([[4.15519598],\n",
       "       [2.85587598]])"
      ]
     },
     "execution_count": 13,
     "metadata": {},
     "output_type": "execute_result"
    }
   ],
   "source": [
    "theta"
   ]
  },
  {
   "cell_type": "markdown",
   "metadata": {},
   "source": [
    "샘플을 무작위로 선택하기 때문에 어떤 샘플은 한 에포크에서 여러 번 선택될 수 있고 어떤 샘플은 전혀 선택되지 못할 수도 있다. 알고리즘이 에포크마다 모든 샘플을 사용하게 하려면 훈련 세트를 섞은 후 차례대로 하나씩 선택하고 다음 에포크에서 다시 섞는 식의 방법을 사용할 수 있다. 그러나 이렇게 하면 보통 더 늦게 수렴된다."
   ]
  },
  {
   "cell_type": "markdown",
   "metadata": {},
   "source": [
    "- SGDRegressor\n",
    "\n",
    ": 사이킷런에서 SGD 방식으로 선형 회귀를 사용하려면 기본값으로 제곱 오차 비용 함수를 최적화하는  SGDRegressor 클래스를 사용한다."
   ]
  },
  {
   "cell_type": "code",
   "execution_count": 14,
   "metadata": {},
   "outputs": [
    {
     "data": {
      "text/html": [
       "<style>#sk-container-id-1 {color: black;}#sk-container-id-1 pre{padding: 0;}#sk-container-id-1 div.sk-toggleable {background-color: white;}#sk-container-id-1 label.sk-toggleable__label {cursor: pointer;display: block;width: 100%;margin-bottom: 0;padding: 0.3em;box-sizing: border-box;text-align: center;}#sk-container-id-1 label.sk-toggleable__label-arrow:before {content: \"▸\";float: left;margin-right: 0.25em;color: #696969;}#sk-container-id-1 label.sk-toggleable__label-arrow:hover:before {color: black;}#sk-container-id-1 div.sk-estimator:hover label.sk-toggleable__label-arrow:before {color: black;}#sk-container-id-1 div.sk-toggleable__content {max-height: 0;max-width: 0;overflow: hidden;text-align: left;background-color: #f0f8ff;}#sk-container-id-1 div.sk-toggleable__content pre {margin: 0.2em;color: black;border-radius: 0.25em;background-color: #f0f8ff;}#sk-container-id-1 input.sk-toggleable__control:checked~div.sk-toggleable__content {max-height: 200px;max-width: 100%;overflow: auto;}#sk-container-id-1 input.sk-toggleable__control:checked~label.sk-toggleable__label-arrow:before {content: \"▾\";}#sk-container-id-1 div.sk-estimator input.sk-toggleable__control:checked~label.sk-toggleable__label {background-color: #d4ebff;}#sk-container-id-1 div.sk-label input.sk-toggleable__control:checked~label.sk-toggleable__label {background-color: #d4ebff;}#sk-container-id-1 input.sk-hidden--visually {border: 0;clip: rect(1px 1px 1px 1px);clip: rect(1px, 1px, 1px, 1px);height: 1px;margin: -1px;overflow: hidden;padding: 0;position: absolute;width: 1px;}#sk-container-id-1 div.sk-estimator {font-family: monospace;background-color: #f0f8ff;border: 1px dotted black;border-radius: 0.25em;box-sizing: border-box;margin-bottom: 0.5em;}#sk-container-id-1 div.sk-estimator:hover {background-color: #d4ebff;}#sk-container-id-1 div.sk-parallel-item::after {content: \"\";width: 100%;border-bottom: 1px solid gray;flex-grow: 1;}#sk-container-id-1 div.sk-label:hover label.sk-toggleable__label {background-color: #d4ebff;}#sk-container-id-1 div.sk-serial::before {content: \"\";position: absolute;border-left: 1px solid gray;box-sizing: border-box;top: 0;bottom: 0;left: 50%;z-index: 0;}#sk-container-id-1 div.sk-serial {display: flex;flex-direction: column;align-items: center;background-color: white;padding-right: 0.2em;padding-left: 0.2em;position: relative;}#sk-container-id-1 div.sk-item {position: relative;z-index: 1;}#sk-container-id-1 div.sk-parallel {display: flex;align-items: stretch;justify-content: center;background-color: white;position: relative;}#sk-container-id-1 div.sk-item::before, #sk-container-id-1 div.sk-parallel-item::before {content: \"\";position: absolute;border-left: 1px solid gray;box-sizing: border-box;top: 0;bottom: 0;left: 50%;z-index: -1;}#sk-container-id-1 div.sk-parallel-item {display: flex;flex-direction: column;z-index: 1;position: relative;background-color: white;}#sk-container-id-1 div.sk-parallel-item:first-child::after {align-self: flex-end;width: 50%;}#sk-container-id-1 div.sk-parallel-item:last-child::after {align-self: flex-start;width: 50%;}#sk-container-id-1 div.sk-parallel-item:only-child::after {width: 0;}#sk-container-id-1 div.sk-dashed-wrapped {border: 1px dashed gray;margin: 0 0.4em 0.5em 0.4em;box-sizing: border-box;padding-bottom: 0.4em;background-color: white;}#sk-container-id-1 div.sk-label label {font-family: monospace;font-weight: bold;display: inline-block;line-height: 1.2em;}#sk-container-id-1 div.sk-label-container {text-align: center;}#sk-container-id-1 div.sk-container {/* jupyter's `normalize.less` sets `[hidden] { display: none; }` but bootstrap.min.css set `[hidden] { display: none !important; }` so we also need the `!important` here to be able to override the default hidden behavior on the sphinx rendered scikit-learn.org. See: https://github.com/scikit-learn/scikit-learn/issues/21755 */display: inline-block !important;position: relative;}#sk-container-id-1 div.sk-text-repr-fallback {display: none;}</style><div id=\"sk-container-id-1\" class=\"sk-top-container\"><div class=\"sk-text-repr-fallback\"><pre>SGDRegressor(eta0=0.1, penalty=None)</pre><b>In a Jupyter environment, please rerun this cell to show the HTML representation or trust the notebook. <br />On GitHub, the HTML representation is unable to render, please try loading this page with nbviewer.org.</b></div><div class=\"sk-container\" hidden><div class=\"sk-item\"><div class=\"sk-estimator sk-toggleable\"><input class=\"sk-toggleable__control sk-hidden--visually\" id=\"sk-estimator-id-1\" type=\"checkbox\" checked><label for=\"sk-estimator-id-1\" class=\"sk-toggleable__label sk-toggleable__label-arrow\">SGDRegressor</label><div class=\"sk-toggleable__content\"><pre>SGDRegressor(eta0=0.1, penalty=None)</pre></div></div></div></div></div>"
      ],
      "text/plain": [
       "SGDRegressor(eta0=0.1, penalty=None)"
      ]
     },
     "execution_count": 14,
     "metadata": {},
     "output_type": "execute_result"
    }
   ],
   "source": [
    "from sklearn.linear_model import SGDRegressor\n",
    "sgd_reg = SGDRegressor(max_iter = 1000, tol = 1e-3, penalty = None, eta0 = 0.1)  # max_iter : 최대 에포크 횟수. tol : 손실이 줄어들 때까지 실행되는 기준. eta0 : 학습률. penalty : 규제\n",
    "sgd_reg.fit(X, y.ravel())"
   ]
  },
  {
   "cell_type": "code",
   "execution_count": 15,
   "metadata": {},
   "outputs": [
    {
     "data": {
      "text/plain": [
       "(array([4.21028806]), array([2.90267706]))"
      ]
     },
     "execution_count": 15,
     "metadata": {},
     "output_type": "execute_result"
    }
   ],
   "source": [
    "sgd_reg.intercept_, sgd_reg.coef_"
   ]
  },
  {
   "cell_type": "markdown",
   "metadata": {},
   "source": [
    "여기서도 정규방정식으로 구한 값과 매우 비슷한 값을 얻었다."
   ]
  },
  {
   "cell_type": "markdown",
   "metadata": {},
   "source": [
    "-----\n",
    "### 4.2.3 미니배치 경사 하강법 (mini-batch gradient descent)"
   ]
  },
  {
   "cell_type": "markdown",
   "metadata": {},
   "source": [
    "- 배치 경사 하강법 : 각 스텝에서 전체 훈련 세트을 기반으로 그래디언트를 계산한다.\n",
    "- 확률적 경사 하강법 : 각 스텝에서 하나의 샘플을 기반으로 그래디언트를 계산한다.\n",
    "- 미니배치 경사 하강법 : **미니배치**라 부르는 임의의 작은 샘플 세트을 기반으로 그래디언트를 계산한다.\n",
    "\n",
    "\n",
    "##### 미니배치 경사 하강법의 특징\n",
    "- 행렬 연산에 최적화된 하드웨어, 특히 GPU를 사용해서 성능을 향상시킨다.\n",
    "- 미니배치를 어느 정도 크게 하면 SGD보다 덜 불규칙하게 움직인다.\n",
    "- 결국 미니배치 경사 하강법이 SGD보다 최솟값에 더 가까이 도달하게 될 것이다.\n",
    "- 하지만 지역 최솟값에서 빠져나오기는 더 힘들 수 있다.\n"
   ]
  },
  {
   "cell_type": "markdown",
   "metadata": {},
   "source": [
    "##### 세 가지 경사 하강법 알고리즘에 따른 훈련 과정동안 파라미터 공간에서 움직인 경로\n",
    "- 배치 경사 하강법 : 실제로 최솟값에서 멈춤, 많은 시간이 소요됨.\n",
    "- 확률적 경사 하강법 : 근처에서 맴돎, 적절한 학습 스케줄 사용하면 최솟값에 도달함.\n",
    "- 미니배치 경사 하강법 : 근처에서 맴돎, 적절한 학습 스케줄 사용하면 최솟값에 도달함."
   ]
  },
  {
   "cell_type": "markdown",
   "metadata": {},
   "source": [
    "----\n",
    "## 4.3 다항 회귀"
   ]
  },
  {
   "cell_type": "markdown",
   "metadata": {},
   "source": [
    "- 비선형 데이터를 학습하는 데 사용하는 선형 모델\n",
    "- 각 특성의 거듭제곱을 새로운 특성으로 추가하고, 이 확장된 특성을 포함한 데이터셋에 선형 모델을 훈련시키는 기법"
   ]
  },
  {
   "cell_type": "code",
   "execution_count": 16,
   "metadata": {},
   "outputs": [],
   "source": [
    "# 2차방정식으로 잡음이 포함된 비선형 데이터 생성\n",
    "m = 100\n",
    "X = 6 * np.random.rand(m, 1) - 3\n",
    "y = 0.5 * X**2 + X + 2 + np.random.randn(m, 1)"
   ]
  },
  {
   "cell_type": "markdown",
   "metadata": {},
   "source": [
    "직선은 이 데이터에 잘 맞지 않을 것이다. 따라서 사이킷런의 PolynimialFeatures를 사용해 훈련 데이터 변환해본다. 여기서는 특성 하나가 추가되어 훈련 세트에 있는 각 특성을 제곱하여 새로운 특성으로 추가한다."
   ]
  },
  {
   "cell_type": "code",
   "execution_count": 17,
   "metadata": {},
   "outputs": [
    {
     "data": {
      "text/plain": [
       "array([2.99421911])"
      ]
     },
     "execution_count": 17,
     "metadata": {},
     "output_type": "execute_result"
    }
   ],
   "source": [
    "from sklearn.preprocessing import PolynomialFeatures\n",
    "\n",
    "poly_features = PolynomialFeatures(degree=2, include_bias=False)\n",
    "X_poly = poly_features.fit_transform(X)\n",
    "print(X[0])\n",
    "print(X_poly[0])"
   ]
  },
  {
   "cell_type": "markdown",
   "metadata": {},
   "source": [
    "X_poly는 원래 특성 X와 이 특성의 제곱을 포함한다. 이 확정된 훈련 데이터에 LinearRegression을 적용한다."
   ]
  },
  {
   "cell_type": "code",
   "execution_count": 19,
   "metadata": {},
   "outputs": [
    {
     "data": {
      "text/plain": [
       "(array([1.89613884]), array([[0.93946891, 0.5129853 ]]))"
      ]
     },
     "execution_count": 19,
     "metadata": {},
     "output_type": "execute_result"
    }
   ],
   "source": [
    "lin_reg = LinearRegression()\n",
    "lin_reg.fit(X_poly, y)\n",
    "lin_reg.intercept_, lin_reg.coef_"
   ]
  },
  {
   "cell_type": "markdown",
   "metadata": {},
   "source": [
    "이처럼 특성이 여러 개일 때 다항 회귀는 이 특성 사이의 관계를 찾을 수 있다. (일반적인 선형 회귀 모델에서는 하지 못한다.) PolynomialFeatures가 주어진 차수까지 특성 간의 모든 교차항을 추가하기 때문이다."
   ]
  },
  {
   "cell_type": "markdown",
   "metadata": {},
   "source": [
    "----\n",
    "## 4.4 학습 곡선"
   ]
  },
  {
   "cell_type": "markdown",
   "metadata": {},
   "source": [
    "고차 다항 회귀를 적용하면 보통의 선형 회귀에서보다 훨씬 더 훈련 데이터에 잘 맞추려 할 것이다."
   ]
  },
  {
   "cell_type": "markdown",
   "metadata": {},
   "source": [
    "- 고차 다항 회귀 모델은 심각하게 훈련 데이터에 과대적합\n",
    "- 선형 모델은 과소적합"
   ]
  },
  {
   "cell_type": "markdown",
   "metadata": {},
   "source": [
    "모델이 데이터에 과대적합/과소적합 되었는지 아는 방법\n",
    "1. 교차 검증 사용\n",
    "- 훈련 데이터에서 성능이 좋지만 교차 검증 점수가 나쁘다면 과대적합된 것 -> 모델이 복잡하다.\n",
    "- 양쪽에 모두 좋지 않으면 과소 적합 -> 모델이 단순하다.\n",
    "\n",
    "2. 학습 곡선을 살펴보는 것\n",
    "- 훈련 세트와 검증 세트의 모델 성능을 훈련 세트 크기의 함수로 나타낸다.\n",
    "- 단순히 훈련 세트에서 크기가 다른 서브 세트를 만들어 모델을 여러번 훈련 시키면 된다."
   ]
  },
  {
   "cell_type": "code",
   "execution_count": 20,
   "metadata": {},
   "outputs": [],
   "source": [
    "from sklearn.metrics import mean_squared_error\n",
    "from sklearn.model_selection import train_test_split\n",
    "\n",
    "def plot_learning_curves(model, X, y):\n",
    "  X_train, X_val, y_train, y_val = train_test_split(X, y, test_size=0.2)\n",
    "  train_errors, val_errors = [], []\n",
    "  for m in range(1, len(X_train)):\n",
    "    model.fit(X_train[:m], y_train[:m])\n",
    "    y_train_predict = model.predict(X_train[:m])\n",
    "    y_val_predict = model.predict(X_val)\n",
    "    train_errors.append(mean_squared_error(y_train[:m], y_train_predict))\n",
    "    val_errors.append(mean_squared_error(y_val, y_val_predict))\n",
    "  plt.plot(np.sqrt(train_errors), \"r-+\", linewidth=2, label=\"훈련 세트\")\n",
    "  plt.plot(np.sqrt(val_errors), \"b-\", linewidth=3, label=\"검증 세트\")"
   ]
  },
  {
   "cell_type": "markdown",
   "metadata": {},
   "source": [
    "- 훈련 데이터에서 학습 곡선을 그리는 함수 정의"
   ]
  },
  {
   "cell_type": "code",
   "execution_count": 21,
   "metadata": {},
   "outputs": [
    {
     "data": {
      "image/png": "[encoded data removed]",
      "text/plain": [
       "<Figure size 640x480 with 1 Axes>"
      ]
     },
     "metadata": {},
     "output_type": "display_data"
    }
   ],
   "source": [
    "lin_reg = LinearRegression()\n",
    "plot_learning_curves(lin_reg, X, y)"
   ]
  },
  {
   "cell_type": "markdown",
   "metadata": {},
   "source": [
    "- 단순 선형 회귀 모델의 학습 곡선\n",
    "\n",
    "(1) 훈련 데이터의 성능\n",
    "- 그래프가 0에서 시작하므로 훈련 세트에 하나 혹은 두 개의 샘플이 이쓸 땐 모델이 완벽하게 작동\n",
    "- 하지만 훈련 세트에 샘플이 추가됨에 따라 잡음도 있고 비선형이기 때문에 모델이 훈련 데이터를 완벽히 학습하는 것은 불가능\n",
    "\n",
    "(2) 검증 데이터에 대한 모델의 성능\n",
    "0 모델이 적은 수의 샘플로 훈련될 때는 제대로 일반화 x -> 검증 오차가 초기에 매우 크다\n",
    "- 샘플이 추가됨에 따라 학습이 되고 검증 오차가 천천히 감소한다.\n",
    "\n",
    "\n",
    "과소적합 모델 = 두 곡선이 수평한 구간을 만들고 꽤 높은 오차에서 매우 가까이 근접해있어"
   ]
  },
  {
   "cell_type": "code",
   "execution_count": 22,
   "metadata": {},
   "outputs": [
    {
     "data": {
      "image/png": "[encoded data removed]",
      "text/plain": [
       "<Figure size 640x480 with 1 Axes>"
      ]
     },
     "metadata": {},
     "output_type": "display_data"
    }
   ],
   "source": [
    "from sklearn.pipeline import Pipeline\n",
    "\n",
    "polynomial_regression = Pipeline([\n",
    "    (\"poly_features\", PolynomialFeatures(degree=10, include_bias=False)),\n",
    "    (\"lin_reg\", LinearRegression()),\n",
    "])\n",
    "plot_learning_curves(polynomial_regression, X, y)"
   ]
  },
  {
   "cell_type": "markdown",
   "metadata": {},
   "source": [
    "- 10차 다항 회귀 모델의 학습 곡선\n",
    "\n",
    "중요한 차이점\n",
    "1. 훈련 데이터의 오차가 선형 회귀 모델보다 훨씬 낮다.\n",
    "2. 두 곡선 사이에 공간이 있다. -> 훈련 데이터에서의 모델 성능이 검증 데이터에서보다 훨씬 낫다는 뜻이고 이는 과대적합 모델의 특징"
   ]
  },
  {
   "cell_type": "markdown",
   "metadata": {},
   "source": [
    "#### 편향/분산 트레이드오프\n",
    "모델의 일반화 오차는 세 가지 다른 종류의 오차의 합으로 표현할 수 있다.\n",
    "1. 편향\n",
    "2. 분산\n",
    "3. 줄일 수 없는 오차\n",
    "\n",
    "모델의 복잡도가 커지면 분산이 커지고 편향이 줄어든다.\n",
    "\n",
    "반대로 모델의 복잡도가 줄어들면 편향이 커지고 분산이 작아진다."
   ]
  },
  {
   "cell_type": "markdown",
   "metadata": {},
   "source": [
    "-----\n",
    "## 4.5 규제가 있는 선형 모델"
   ]
  },
  {
   "cell_type": "markdown",
   "metadata": {},
   "source": [
    "과대 적합을 감소시키는 좋은 방법 : 모델 규제"
   ]
  },
  {
   "cell_type": "markdown",
   "metadata": {},
   "source": [
    "### 4.5.1 릿지 회귀"
   ]
  },
  {
   "cell_type": "markdown",
   "metadata": {},
   "source": [
    "릿지 회귀\n",
    "- 규제가 추가된 선형 회귀 버전\n",
    "- 규제항이 비용 함수에 추가\n",
    "- 학습 알고리즘을 데이터에 맞추는 것뿐만 아니라 모델의 가중치가 가능한 한 작게 유지되도록 노력\n",
    "- 규제항 : 훈련하는 동안에만 비용 함수에 추가\n",
    "- 모델의 훈련이 끝나면 모델의 성능을 규제가 없는 성능 지표로 평가"
   ]
  },
  {
   "cell_type": "markdown",
   "metadata": {},
   "source": [
    "하이퍼파라미터 알파\n",
    "- 모델을 얼마나 규제할지 조절\n",
    "- 0이면 릿지 회귀는 선형 회귀와 같아진다.\n",
    "- 알파가 아주 크면 모든 가중치가 거의 0에 가까워지고 결국 데이터의 평균을 지나는 수평선이 된다."
   ]
  },
  {
   "cell_type": "markdown",
   "metadata": {},
   "source": [
    "- 릿지 회귀의 비용 함수"
   ]
  },
  {
   "cell_type": "markdown",
   "metadata": {},
   "source": [
    "- 선형 데이터에 몇 가지 다른 알파를 사용해 릿지 모델을 훈련시킨 결과\n",
    "- 알파를 증가시킬 수록 직선에 가까워진다.\n",
    "- 모델의 분산은 줄었지만 편향은 커지게 된다."
   ]
  },
  {
   "cell_type": "markdown",
   "metadata": {},
   "source": [
    "릿지 회귀 계산하기 위해 정규방정식 사용할 수도 있고 경사 하강법을 사용할 수도 있다."
   ]
  },
  {
   "cell_type": "code",
   "execution_count": 23,
   "metadata": {},
   "outputs": [
    {
     "data": {
      "text/plain": [
       "array([[5.2175773]])"
      ]
     },
     "execution_count": 23,
     "metadata": {},
     "output_type": "execute_result"
    }
   ],
   "source": [
    "from sklearn.linear_model import Ridge\n",
    "ridge_reg = Ridge(alpha=1, solver=\"cholesky\")\n",
    "ridge_reg.fit(X,y)\n",
    "ridge_reg.predict([[1.5]])"
   ]
  },
  {
   "cell_type": "markdown",
   "metadata": {},
   "source": [
    "- 정규방정식을 사용한 릿지 회귀 적용하는 예"
   ]
  },
  {
   "cell_type": "code",
   "execution_count": 24,
   "metadata": {},
   "outputs": [
    {
     "data": {
      "text/plain": [
       "array([5.21450881])"
      ]
     },
     "execution_count": 24,
     "metadata": {},
     "output_type": "execute_result"
    }
   ],
   "source": [
    "sgd_reg = SGDRegressor(penalty=\"l2\")\n",
    "sgd_reg.fit(X, y.ravel())\n",
    "sgd_reg.predict([[1.5]])"
   ]
  },
  {
   "cell_type": "markdown",
   "metadata": {},
   "source": [
    "- 확률적 경사 하강법을 사용했을 때"
   ]
  },
  {
   "cell_type": "markdown",
   "metadata": {},
   "source": [
    "--------\n",
    "### 4.5.2 라쏘 회귀"
   ]
  },
  {
   "cell_type": "markdown",
   "metadata": {},
   "source": [
    "- 선형 회귀의 또 다른 규제된 버전\n",
    "- 릿지 회귀처럼 비용 함수에 규제항을 더하지만, 가중치 벡터의 l1 노름을 사용한다."
   ]
  },
  {
   "cell_type": "markdown",
   "metadata": {},
   "source": [
    "- 라쏘 회귀의 비용 함수"
   ]
  },
  {
   "cell_type": "markdown",
   "metadata": {},
   "source": [
    "- 다양한 수준의 라쏘 규제를 사용한 선형 회귀와 다항 회귀"
   ]
  },
  {
   "cell_type": "markdown",
   "metadata": {},
   "source": [
    "라쏘 회귀의 중요한 특징 : 덜 중요한 특성의 가중치를 제거하려고 한다는 점.(즉, 가중치가 0이 된다.)\n",
    "\n",
    "-> 라쏘 회귀는 자동으로 특성 선택을 하고 희소 모델을 만든다."
   ]
  },
  {
   "cell_type": "markdown",
   "metadata": {},
   "source": [
    "- 라쏘와 다른 점\n",
    "1. 첫째 파라미너터가 전역 최적점에 가까워질수록 그레이디언트가 작아진다. -> 경사 하강법이 자동으로 느려지고 수렴에 도움이 된다.\n",
    "2. 알파를 증가시킬수록 최적의 파라미터가 원점에 더 가까워진다. 하지만 완전히 0이 되지는 않는다.\n",
    "\n",
    "- 라쏘를 사용할 때 경사 하강법이 최적점 근처에서 진동하는 것을 막으려면 훈련하는 동안 점진적으로 학습률을 감소시켜야한다"
   ]
  },
  {
   "cell_type": "code",
   "execution_count": 25,
   "metadata": {},
   "outputs": [
    {
     "data": {
      "text/plain": [
       "array([5.18096636])"
      ]
     },
     "execution_count": 25,
     "metadata": {},
     "output_type": "execute_result"
    }
   ],
   "source": [
    "from sklearn.linear_model import Lasso\n",
    "lasso_reg = Lasso(alpha=0.1)\n",
    "lasso_reg.fit(X, y)\n",
    "lasso_reg.predict([[1.5]])"
   ]
  },
  {
   "cell_type": "markdown",
   "metadata": {},
   "source": [
    "- Lasso 대신 SGDRegressor(penalty=\"l1\") 사용 가능"
   ]
  },
  {
   "cell_type": "markdown",
   "metadata": {},
   "source": [
    "-------\n",
    "### 4.5.3 엘라스틱넷"
   ]
  },
  {
   "cell_type": "markdown",
   "metadata": {},
   "source": [
    "- 릿지 회귀와 라쏘 회귀를 절충한 모델\n",
    "- 규제항은 릿지와 회귀의 규제항을 단순히 더해서 사용하며, 혼합 저도는 혼합 비율 r을 사용하여 조절.\n",
    "- r=0 : 릿지회귀\n",
    "- r=1 : 라쏘 회귀"
   ]
  },
  {
   "cell_type": "markdown",
   "metadata": {},
   "source": [
    "![image.png](data:image/png;base64,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)"
   ]
  },
  {
   "cell_type": "markdown",
   "metadata": {},
   "source": [
    "보통의 선형회귀, 릿지, 라쏘, 엘라스팃넷을 언제 사용해야할까?\n",
    "- 규제가 약간 있는 것이 대부분의 경우에 좋으므로 일반적으로 평범한 선형 회귀는 피하기\n",
    "- 릿지가 기본이 되지만 쓰이는 특성이 몇 개뿐이라고 의심되면 라쏘나 엘라스틱넷이 낫다.\n",
    "- 특성 수가 훈련 샘플 수보다 많거나 특성 몇 개가 강하게 연관되어 있을 때는 보통 라쏘가 문제를 일으키므로 엘라스틱넷을 선호한다."
   ]
  },
  {
   "cell_type": "code",
   "execution_count": 26,
   "metadata": {},
   "outputs": [
    {
     "data": {
      "text/plain": [
       "array([5.18195699])"
      ]
     },
     "execution_count": 26,
     "metadata": {},
     "output_type": "execute_result"
    }
   ],
   "source": [
    "from sklearn.linear_model import ElasticNet\n",
    "elastic_net = ElasticNet(alpha=0.1, l1_ratio=0.5)\n",
    "elastic_net.fit(X,y)\n",
    "elastic_net.predict([[1.5]])"
   ]
  },
  {
   "cell_type": "markdown",
   "metadata": {},
   "source": [
    "----\n",
    "### 4.5.4 조기 종료"
   ]
  },
  {
   "cell_type": "markdown",
   "metadata": {},
   "source": [
    "- 경사 하강법과 같은 반복적인 학습 알고리즘을 규제하는 아주 색다른 방식은 검증 에러가 최솟값에 도달하면 바로 훈련을 중지시키는 것\n",
    "- 에포크가 진행됨에 따라 알고리즘이 점차 학습되어 훈련 세트에 대한 예측 에러(RMSE)와 검증 세트에 대한 예측 에러 줄어든다.\n",
    "- 그러다 다시 상승한다. -> 모델이 훈련 데이터에 과대적합되기 시작하는 것 의미\n",
    "\n",
    "조기 종료는 검증 에러가 최소에 도달하는 즉시 훈련을 멈추는 것"
   ]
  },
  {
   "cell_type": "code",
   "execution_count": 27,
   "metadata": {},
   "outputs": [],
   "source": [
    "from sklearn.base import clone\n",
    "from sklearn.preprocessing import StandardScaler\n",
    "X_train, X_val, y_train, y_val=train_test_split(X, y, test_size=0.2)\n",
    "\n",
    "# 데이터 준비\n",
    "poly_scaler = Pipeline([\n",
    "    (\"poly_features\", PolynomialFeatures(degree=90, include_bias = False)),\n",
    "    (\"std_scaler\", StandardScaler())\n",
    "])\n",
    "X_train_poly_scaled = poly_scaler.fit_transform(X_train)\n",
    "X_val_poly_scaled = poly_scaler.transform(X_val)\n",
    "\n",
    "sgd_reg = SGDRegressor(max_iter=1, tol=None, warm_start=True,\n",
    "                       penalty=None, learning_rate=\"constant\", eta0=0.0005)\n",
    "\n",
    "minimum_val_error = float(\"inf\")\n",
    "best_epoch = None\n",
    "best_model = None\n",
    "for epoch in range(1000):\n",
    "  sgd_reg.fit(X_train_poly_scaled, y_train.ravel())   # 훈련을 이어서 진행합니다.\n",
    "  y_val_predict = sgd_reg.predict(X_val_poly_scaled)\n",
    "  val_error = mean_squared_error(y_val, y_val_predict)\n",
    "  if val_error < minimum_val_error:\n",
    "    minimum_val_error = val_error\n",
    "    best_epoch = epoch\n",
    "    best_model = clone(sgd_reg)"
   ]
  },
  {
   "cell_type": "markdown",
   "metadata": {},
   "source": [
    "- warm_start = True로 지정하면 fit() 메서드가 호출될 때 처음부터 다시 시작하지 않고 이전 모델 파라미터에서 훈련을 이어간다."
   ]
  },
  {
   "cell_type": "markdown",
   "metadata": {},
   "source": [
    "-----\n",
    "## 4.6 로지스틱 회귀"
   ]
  },
  {
   "cell_type": "markdown",
   "metadata": {},
   "source": [
    "-----\n",
    "### 4.6.1 확률 추정"
   ]
  },
  {
   "cell_type": "markdown",
   "metadata": {},
   "source": [
    "로지스틱은 0과 1 사이의 값을 출력하는 시그모이드 함수이다."
   ]
  },
  {
   "cell_type": "markdown",
   "metadata": {},
   "source": [
    "로지스틱 회귀 모델이 샘플 x가 양성 클래스에 속할 확률 phat = h(x)를 추정하면 이에 대한 예측 yhat을 쉽게 구할 수 있다."
   ]
  },
  {
   "cell_type": "markdown",
   "metadata": {},
   "source": [
    "![image.png](data:image/png;base64,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)"
   ]
  },
  {
   "cell_type": "markdown",
   "metadata": {},
   "source": [
    "-----\n",
    "### 4.6.2 훈련과 비용 함수"
   ]
  },
  {
   "cell_type": "markdown",
   "metadata": {},
   "source": [
    "- 훈련의 목적\n",
    ": 양성 샘플(y=1)에 대해서는 옾은 확률을 추정하고 음성 샘플(y=0)에 대해서는 낮은 확률을 추정하는 모델의 파라미터 벡터 θ를 찾는 것\n",
    "\n",
    "이 비용 함수는 t가 0과 1에 가까워지면 -log(t)와 -log(1-t)가 매우 커지므로 타당하다 할 수 있다.  따라서 음성 샘플의 확률을 0에 가깝게 추정하거나 양성 샘플의 확률을 1에 가깝게 추정하면 비용은 0에 가까워진다.\n",
    "\n",
    "- 로그 손실(log loss) : 전체 훈련 세트에 대한 비용 함수는 모든 훈련 샘플의 비용을 평균한 것"
   ]
  },
  {
   "cell_type": "markdown",
   "metadata": {},
   "source": [
    "-----\n",
    "### 4.6.3 결정 경계"
   ]
  },
  {
   "cell_type": "markdown",
   "metadata": {},
   "source": [
    "꽃잎의 너비를 기반으로 Iris-Versicolor 종을 감지하는 분류기를 만들어보자."
   ]
  },
  {
   "cell_type": "code",
   "execution_count": 28,
   "metadata": {},
   "outputs": [
    {
     "data": {
      "text/plain": [
       "['data',\n",
       " 'target',\n",
       " 'frame',\n",
       " 'target_names',\n",
       " 'DESCR',\n",
       " 'feature_names',\n",
       " 'filename',\n",
       " 'data_module']"
      ]
     },
     "execution_count": 28,
     "metadata": {},
     "output_type": "execute_result"
    }
   ],
   "source": [
    "from sklearn import datasets\n",
    "iris = datasets.load_iris()\n",
    "list(iris.keys())"
   ]
  },
  {
   "cell_type": "code",
   "execution_count": 29,
   "metadata": {},
   "outputs": [],
   "source": [
    "X = iris['data'][:, 3:] # 꽃잎의 너비\n",
    "y = (iris['target']==2).astype(int) # 1 Iris-Virginica면 1, 아니면 0"
   ]
  },
  {
   "cell_type": "code",
   "execution_count": 30,
   "metadata": {},
   "outputs": [
    {
     "data": {
      "text/html": [
       "<style>#sk-container-id-2 {color: black;}#sk-container-id-2 pre{padding: 0;}#sk-container-id-2 div.sk-toggleable {background-color: white;}#sk-container-id-2 label.sk-toggleable__label {cursor: pointer;display: block;width: 100%;margin-bottom: 0;padding: 0.3em;box-sizing: border-box;text-align: center;}#sk-container-id-2 label.sk-toggleable__label-arrow:before {content: \"▸\";float: left;margin-right: 0.25em;color: #696969;}#sk-container-id-2 label.sk-toggleable__label-arrow:hover:before {color: black;}#sk-container-id-2 div.sk-estimator:hover label.sk-toggleable__label-arrow:before {color: black;}#sk-container-id-2 div.sk-toggleable__content {max-height: 0;max-width: 0;overflow: hidden;text-align: left;background-color: #f0f8ff;}#sk-container-id-2 div.sk-toggleable__content pre {margin: 0.2em;color: black;border-radius: 0.25em;background-color: #f0f8ff;}#sk-container-id-2 input.sk-toggleable__control:checked~div.sk-toggleable__content {max-height: 200px;max-width: 100%;overflow: auto;}#sk-container-id-2 input.sk-toggleable__control:checked~label.sk-toggleable__label-arrow:before {content: \"▾\";}#sk-container-id-2 div.sk-estimator input.sk-toggleable__control:checked~label.sk-toggleable__label {background-color: #d4ebff;}#sk-container-id-2 div.sk-label input.sk-toggleable__control:checked~label.sk-toggleable__label {background-color: #d4ebff;}#sk-container-id-2 input.sk-hidden--visually {border: 0;clip: rect(1px 1px 1px 1px);clip: rect(1px, 1px, 1px, 1px);height: 1px;margin: -1px;overflow: hidden;padding: 0;position: absolute;width: 1px;}#sk-container-id-2 div.sk-estimator {font-family: monospace;background-color: #f0f8ff;border: 1px dotted black;border-radius: 0.25em;box-sizing: border-box;margin-bottom: 0.5em;}#sk-container-id-2 div.sk-estimator:hover {background-color: #d4ebff;}#sk-container-id-2 div.sk-parallel-item::after {content: \"\";width: 100%;border-bottom: 1px solid gray;flex-grow: 1;}#sk-container-id-2 div.sk-label:hover label.sk-toggleable__label {background-color: #d4ebff;}#sk-container-id-2 div.sk-serial::before {content: \"\";position: absolute;border-left: 1px solid gray;box-sizing: border-box;top: 0;bottom: 0;left: 50%;z-index: 0;}#sk-container-id-2 div.sk-serial {display: flex;flex-direction: column;align-items: center;background-color: white;padding-right: 0.2em;padding-left: 0.2em;position: relative;}#sk-container-id-2 div.sk-item {position: relative;z-index: 1;}#sk-container-id-2 div.sk-parallel {display: flex;align-items: stretch;justify-content: center;background-color: white;position: relative;}#sk-container-id-2 div.sk-item::before, #sk-container-id-2 div.sk-parallel-item::before {content: \"\";position: absolute;border-left: 1px solid gray;box-sizing: border-box;top: 0;bottom: 0;left: 50%;z-index: -1;}#sk-container-id-2 div.sk-parallel-item {display: flex;flex-direction: column;z-index: 1;position: relative;background-color: white;}#sk-container-id-2 div.sk-parallel-item:first-child::after {align-self: flex-end;width: 50%;}#sk-container-id-2 div.sk-parallel-item:last-child::after {align-self: flex-start;width: 50%;}#sk-container-id-2 div.sk-parallel-item:only-child::after {width: 0;}#sk-container-id-2 div.sk-dashed-wrapped {border: 1px dashed gray;margin: 0 0.4em 0.5em 0.4em;box-sizing: border-box;padding-bottom: 0.4em;background-color: white;}#sk-container-id-2 div.sk-label label {font-family: monospace;font-weight: bold;display: inline-block;line-height: 1.2em;}#sk-container-id-2 div.sk-label-container {text-align: center;}#sk-container-id-2 div.sk-container {/* jupyter's `normalize.less` sets `[hidden] { display: none; }` but bootstrap.min.css set `[hidden] { display: none !important; }` so we also need the `!important` here to be able to override the default hidden behavior on the sphinx rendered scikit-learn.org. See: https://github.com/scikit-learn/scikit-learn/issues/21755 */display: inline-block !important;position: relative;}#sk-container-id-2 div.sk-text-repr-fallback {display: none;}</style><div id=\"sk-container-id-2\" class=\"sk-top-container\"><div class=\"sk-text-repr-fallback\"><pre>LogisticRegression()</pre><b>In a Jupyter environment, please rerun this cell to show the HTML representation or trust the notebook. <br />On GitHub, the HTML representation is unable to render, please try loading this page with nbviewer.org.</b></div><div class=\"sk-container\" hidden><div class=\"sk-item\"><div class=\"sk-estimator sk-toggleable\"><input class=\"sk-toggleable__control sk-hidden--visually\" id=\"sk-estimator-id-2\" type=\"checkbox\" checked><label for=\"sk-estimator-id-2\" class=\"sk-toggleable__label sk-toggleable__label-arrow\">LogisticRegression</label><div class=\"sk-toggleable__content\"><pre>LogisticRegression()</pre></div></div></div></div></div>"
      ],
      "text/plain": [
       "LogisticRegression()"
      ]
     },
     "execution_count": 30,
     "metadata": {},
     "output_type": "execute_result"
    }
   ],
   "source": [
    "from sklearn.linear_model import LogisticRegression\n",
    "\n",
    "log_reg = LogisticRegression()\n",
    "log_reg.fit(X,y)"
   ]
  },
  {
   "cell_type": "markdown",
   "metadata": {},
   "source": [
    "꽃잎의 너비가 0~3cm인 꽃에 대해 모델의 추정 확률을 계산해보자."
   ]
  },
  {
   "cell_type": "code",
   "execution_count": 31,
   "metadata": {},
   "outputs": [
    {
     "data": {
      "text/plain": [
       "[<matplotlib.lines.Line2D at 0x17bf09d97e0>]"
      ]
     },
     "execution_count": 31,
     "metadata": {},
     "output_type": "execute_result"
    },
    {
     "data": {
      "image/png": "[encoded data removed]",
      "text/plain": [
       "<Figure size 640x480 with 1 Axes>"
      ]
     },
     "metadata": {},
     "output_type": "display_data"
    }
   ],
   "source": [
    "X_new = np.linspace(0,3,1000).reshape(-1,1)\n",
    "y_proba = log_reg.predict_proba(X_new)\n",
    "plt.plot(X_new, y_proba[:,1], \"g--\", label=\"Iris virginica\")\n",
    "plt.plot(X_new, y_proba[:,0], \"b--\", label=\"Not virginica\")"
   ]
  },
  {
   "cell_type": "code",
   "execution_count": 32,
   "metadata": {},
   "outputs": [
    {
     "data": {
      "text/plain": [
       "array([1, 0])"
      ]
     },
     "execution_count": 32,
     "metadata": {},
     "output_type": "execute_result"
    }
   ],
   "source": [
    "log_reg.predict([[1.7],[1.5]])"
   ]
  },
  {
   "cell_type": "markdown",
   "metadata": {},
   "source": [
    "-----\n",
    "### 4.6.4 소프트맥스 회귀 (다항 로지스틱 회귀)"
   ]
  },
  {
   "cell_type": "markdown",
   "metadata": {},
   "source": [
    "- 소프트맥스 회귀 모델\n",
    "\n",
    ": 로지스틱 회귀 모델을 여러 개의 이진 분류기를 훈련시켜 연결하지 않고 직접 다중 클래스를 지원하도록 일반화된 것.\n",
    "\n",
    ": 추정 확률이 가장 높은 클래스를 선택한다.\n",
    "\n",
    "1. 샘플 x가 주어지면 소프트맥스 회귀 모델이 각 클래스 k에 대한 점수를 계산하고\n",
    "2. 그 점수에 소프트맥스 함수를 적용하여 각 클래스의 확률을 추정한다.\n",
    "3. 각 클래스는 자신만의 파라미터 벡터 θ가 있어 이 벡터들은 파라미터 행렬에 행으로 저장된다.\n",
    "4. 샘플 x에 대해 각 클래스의 점수가 계산되면 소프트맥스 함수를 통과시켜 클래스 k에 속할 확률을 추정한다. (이 함수는 각 점수에 지수 함수를 적용한 후 정규화한다)\n",
    "5. 일반적으로 이 점수를 '로짓' 또는 '로그-오즈'라고 부른다."
   ]
  },
  {
   "cell_type": "markdown",
   "metadata": {},
   "source": [
    "1. 훈련 방법\n",
    "(1) 목적 : 모델이 타깃 클래스에 대해서 높은 확률을 추정하도록 만드는 것\n",
    "ex. 크로스 엔트로피 비용 함수를 최소화 하는 것은 타깃 클래스에 대해 낮은 확률을 예측하는 모델을 억제하므로 이 목적에 부합한다.\n",
    "(2) 각 클래스에 대한 그래디언트 벡터를 계산할 수 있으므로 비용함수를 최소화하기 위한 파라미터 행렬θ를 찾기 위해 경사 하강법을 사용할 수 있다."
   ]
  },
  {
   "cell_type": "markdown",
   "metadata": {},
   "source": [
    "-----\n",
    "소프트맥스 회귀를 사용해 붓꽃을 세 개의 클래스로 분류해보자.\n",
    "\n",
    "- 사이킷런의 LogisticRegression은 클래스가 둘 이상일 때 기본적으로 일대다(OvA) 전략을 사용한다.\n",
    "- 하지만 multi_class 매개변수를 \"multinomial\"로 바꾸면 소프트맥스 회귀를 사용할 수 있다. \n",
    "- 소프트맥스 회귀를 사용하려면 solver 매개변수에 \"lbfgs\"와 같이 소프트맥스 회귀 지원하는 알고리즘 지정해야한다.\n",
    "- 기본적으로 하이퍼파라미터 C 사용하여 조절할 수 있는 l2 규제가 적용된다."
   ]
  },
  {
   "cell_type": "code",
   "execution_count": 33,
   "metadata": {},
   "outputs": [
    {
     "data": {
      "text/html": [
       "<style>#sk-container-id-3 {color: black;}#sk-container-id-3 pre{padding: 0;}#sk-container-id-3 div.sk-toggleable {background-color: white;}#sk-container-id-3 label.sk-toggleable__label {cursor: pointer;display: block;width: 100%;margin-bottom: 0;padding: 0.3em;box-sizing: border-box;text-align: center;}#sk-container-id-3 label.sk-toggleable__label-arrow:before {content: \"▸\";float: left;margin-right: 0.25em;color: #696969;}#sk-container-id-3 label.sk-toggleable__label-arrow:hover:before {color: black;}#sk-container-id-3 div.sk-estimator:hover label.sk-toggleable__label-arrow:before {color: black;}#sk-container-id-3 div.sk-toggleable__content {max-height: 0;max-width: 0;overflow: hidden;text-align: left;background-color: #f0f8ff;}#sk-container-id-3 div.sk-toggleable__content pre {margin: 0.2em;color: black;border-radius: 0.25em;background-color: #f0f8ff;}#sk-container-id-3 input.sk-toggleable__control:checked~div.sk-toggleable__content {max-height: 200px;max-width: 100%;overflow: auto;}#sk-container-id-3 input.sk-toggleable__control:checked~label.sk-toggleable__label-arrow:before {content: \"▾\";}#sk-container-id-3 div.sk-estimator input.sk-toggleable__control:checked~label.sk-toggleable__label {background-color: #d4ebff;}#sk-container-id-3 div.sk-label input.sk-toggleable__control:checked~label.sk-toggleable__label {background-color: #d4ebff;}#sk-container-id-3 input.sk-hidden--visually {border: 0;clip: rect(1px 1px 1px 1px);clip: rect(1px, 1px, 1px, 1px);height: 1px;margin: -1px;overflow: hidden;padding: 0;position: absolute;width: 1px;}#sk-container-id-3 div.sk-estimator {font-family: monospace;background-color: #f0f8ff;border: 1px dotted black;border-radius: 0.25em;box-sizing: border-box;margin-bottom: 0.5em;}#sk-container-id-3 div.sk-estimator:hover {background-color: #d4ebff;}#sk-container-id-3 div.sk-parallel-item::after {content: \"\";width: 100%;border-bottom: 1px solid gray;flex-grow: 1;}#sk-container-id-3 div.sk-label:hover label.sk-toggleable__label {background-color: #d4ebff;}#sk-container-id-3 div.sk-serial::before {content: \"\";position: absolute;border-left: 1px solid gray;box-sizing: border-box;top: 0;bottom: 0;left: 50%;z-index: 0;}#sk-container-id-3 div.sk-serial {display: flex;flex-direction: column;align-items: center;background-color: white;padding-right: 0.2em;padding-left: 0.2em;position: relative;}#sk-container-id-3 div.sk-item {position: relative;z-index: 1;}#sk-container-id-3 div.sk-parallel {display: flex;align-items: stretch;justify-content: center;background-color: white;position: relative;}#sk-container-id-3 div.sk-item::before, #sk-container-id-3 div.sk-parallel-item::before {content: \"\";position: absolute;border-left: 1px solid gray;box-sizing: border-box;top: 0;bottom: 0;left: 50%;z-index: -1;}#sk-container-id-3 div.sk-parallel-item {display: flex;flex-direction: column;z-index: 1;position: relative;background-color: white;}#sk-container-id-3 div.sk-parallel-item:first-child::after {align-self: flex-end;width: 50%;}#sk-container-id-3 div.sk-parallel-item:last-child::after {align-self: flex-start;width: 50%;}#sk-container-id-3 div.sk-parallel-item:only-child::after {width: 0;}#sk-container-id-3 div.sk-dashed-wrapped {border: 1px dashed gray;margin: 0 0.4em 0.5em 0.4em;box-sizing: border-box;padding-bottom: 0.4em;background-color: white;}#sk-container-id-3 div.sk-label label {font-family: monospace;font-weight: bold;display: inline-block;line-height: 1.2em;}#sk-container-id-3 div.sk-label-container {text-align: center;}#sk-container-id-3 div.sk-container {/* jupyter's `normalize.less` sets `[hidden] { display: none; }` but bootstrap.min.css set `[hidden] { display: none !important; }` so we also need the `!important` here to be able to override the default hidden behavior on the sphinx rendered scikit-learn.org. See: https://github.com/scikit-learn/scikit-learn/issues/21755 */display: inline-block !important;position: relative;}#sk-container-id-3 div.sk-text-repr-fallback {display: none;}</style><div id=\"sk-container-id-3\" class=\"sk-top-container\"><div class=\"sk-text-repr-fallback\"><pre>LogisticRegression(C=10, multi_class=&#x27;multinomial&#x27;)</pre><b>In a Jupyter environment, please rerun this cell to show the HTML representation or trust the notebook. <br />On GitHub, the HTML representation is unable to render, please try loading this page with nbviewer.org.</b></div><div class=\"sk-container\" hidden><div class=\"sk-item\"><div class=\"sk-estimator sk-toggleable\"><input class=\"sk-toggleable__control sk-hidden--visually\" id=\"sk-estimator-id-3\" type=\"checkbox\" checked><label for=\"sk-estimator-id-3\" class=\"sk-toggleable__label sk-toggleable__label-arrow\">LogisticRegression</label><div class=\"sk-toggleable__content\"><pre>LogisticRegression(C=10, multi_class=&#x27;multinomial&#x27;)</pre></div></div></div></div></div>"
      ],
      "text/plain": [
       "LogisticRegression(C=10, multi_class='multinomial')"
      ]
     },
     "execution_count": 33,
     "metadata": {},
     "output_type": "execute_result"
    }
   ],
   "source": [
    "X = iris[\"data\"][:, (2,3)] # 꽃잎 길이, 꽃잎 너비\n",
    "y = iris[\"target\"]\n",
    "\n",
    "softmax_reg = LogisticRegression(multi_class=\"multinomial\", solver=\"lbfgs\", C=10)\n",
    "softmax_reg.fit(X,y)"
   ]
  },
  {
   "cell_type": "code",
   "execution_count": 34,
   "metadata": {},
   "outputs": [
    {
     "data": {
      "text/plain": [
       "array([2])"
      ]
     },
     "execution_count": 34,
     "metadata": {},
     "output_type": "execute_result"
    }
   ],
   "source": [
    "softmax_reg.predict([[5,2]])"
   ]
  },
  {
   "cell_type": "code",
   "execution_count": 35,
   "metadata": {},
   "outputs": [
    {
     "data": {
      "text/plain": [
       "array([[6.38014896e-07, 5.74929995e-02, 9.42506362e-01]])"
      ]
     },
     "execution_count": 35,
     "metadata": {},
     "output_type": "execute_result"
    }
   ],
   "source": [
    "softmax_reg.predict_proba([[5,2]])"
   ]
  },
  {
   "cell_type": "markdown",
   "metadata": {},
   "source": [
    "꽃잎의 길이가 5cm, 너비가 2cm인 붓꽃을 발견했다고 가정하고 이 붓꽃의 품종이 무엇인지 모델에 질의하면 94.2%의 확률로 Virginica (클래스2) 라고 출력할 것이다."
   ]
  }
 ],
 "metadata": {
  "kernelspec": {
   "display_name": "Python 3",
   "language": "python",
   "name": "python3"
  },
  "language_info": {
   "codemirror_mode": {
    "name": "ipython",
    "version": 3
   },
   "file_extension": ".py",
   "mimetype": "text/x-python",
   "name": "python",
   "nbconvert_exporter": "python",
   "pygments_lexer": "ipython3",
   "version": "3.10.4"
  }
 },
 "nbformat": 4,
 "nbformat_minor": 2
}
