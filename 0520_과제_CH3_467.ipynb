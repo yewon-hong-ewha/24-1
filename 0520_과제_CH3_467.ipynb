{
  "cells": [
    {
      "cell_type": "markdown",
      "metadata": {},
      "source": [
        "과제: 파이썬 딥러닝 텐서플로 ch3.4, 6~7 필사\n",
        "\n",
        "마감: 5월 24일 금요일 18:30\n",
        "\n",
        "87p~ 95p, 105p~115p 필사하여 링크를 올려주세요."
      ]
    },
    {
      "cell_type": "markdown",
      "metadata": {
        "id": "YiAjxUGbPOUF"
      },
      "source": [
        "---------\n",
        "# Part 03. 케라스 (Keras)\n"
      ]
    },
    {
      "cell_type": "markdown",
      "metadata": {},
      "source": [
        "## 04 모델 세부 설정"
      ]
    },
    {
      "cell_type": "code",
      "execution_count": 1,
      "metadata": {
        "colab": {
          "base_uri": "https://localhost:8080/"
        },
        "id": "CYe4BJ4PPe49",
        "outputId": "7ee60a71-6f54-44d1-d971-d1bc43edfe17"
      },
      "outputs": [
        {
          "name": "stdout",
          "output_type": "stream",
          "text": [
            "WARNING:tensorflow:From C:\\Users\\홍예원\\AppData\\Roaming\\Python\\Python310\\site-packages\\keras\\src\\losses.py:2976: The name tf.losses.sparse_softmax_cross_entropy is deprecated. Please use tf.compat.v1.losses.sparse_softmax_cross_entropy instead.\n",
            "\n",
            "train set :  (60000, 28, 28) (60000,)\n",
            "test set :  (10000, 28, 28) (10000,)\n"
          ]
        }
      ],
      "source": [
        "import tensorflow as tf\n",
        "\n",
        "# 케라스의 내장 데이터셋에서 mnist 데이터셋 로드\n",
        "mnist = tf.keras.datasets.mnist\n",
        "\n",
        "# load_data()로 데이터셋 코드\n",
        "(x_train, y_train), (x_test, y_test) = mnist.load_data()\n",
        "\n",
        "# 로드된 데이터셋 확인\n",
        "print(\"train set : \", x_train.shape, y_train.shape)\n",
        "print(\"test set : \", x_test.shape, y_test.shape)\n",
        "\n",
        "# 데이터 정규화\n",
        "x_train = x_train / x_train.max()\n",
        "x_test = x_test / x_test.max()"
      ]
    },
    {
      "cell_type": "markdown",
      "metadata": {
        "id": "ILQ_RxHGTCM7"
      },
      "source": [
        "---------\n",
        "### 4-1 초기값 설정"
      ]
    },
    {
      "cell_type": "markdown",
      "metadata": {
        "id": "cwsa7kIvUFWk"
      },
      "source": [
        "자주 사용되는 초기화 목록\n",
        "- glorot_normal, glorot_uniform\n",
        "- lecun_normal, lecun uniform\n",
        "- he_normal, he_uniform\n",
        "- 분포 초기화"
      ]
    },
    {
      "cell_type": "code",
      "execution_count": 2,
      "metadata": {
        "colab": {
          "base_uri": "https://localhost:8080/"
        },
        "id": "V6MHdJgkTA8V",
        "outputId": "dfef9615-f9e6-4dc9-9f53-8cab17bd8dbd"
      },
      "outputs": [
        {
          "name": "stdout",
          "output_type": "stream",
          "text": [
            "WARNING:tensorflow:From C:\\Users\\홍예원\\AppData\\Roaming\\Python\\Python310\\site-packages\\keras\\src\\backend.py:873: The name tf.get_default_graph is deprecated. Please use tf.compat.v1.get_default_graph instead.\n",
            "\n"
          ]
        },
        {
          "data": {
            "text/plain": [
              "{'module': 'keras.initializers',\n",
              " 'class_name': 'GlorotUniform',\n",
              " 'config': {'seed': None},\n",
              " 'registered_name': None}"
            ]
          },
          "execution_count": 2,
          "metadata": {},
          "output_type": "execute_result"
        }
      ],
      "source": [
        "dense = tf.keras.layers.Dense(256, activation = 'relu')\n",
        "dense.get_config()['kernel_initializer']"
      ]
    },
    {
      "cell_type": "code",
      "execution_count": 3,
      "metadata": {
        "colab": {
          "base_uri": "https://localhost:8080/"
        },
        "id": "BoLPrtyuTBM3",
        "outputId": "a171fa95-3332-4d67-e356-1c1d72c0451e"
      },
      "outputs": [
        {
          "name": "stdout",
          "output_type": "stream",
          "text": [
            "{'module': 'keras.initializers', 'class_name': 'HeNormal', 'config': {'seed': None}, 'registered_name': None}\n",
            "{'module': 'keras.initializers', 'class_name': 'HeNormal', 'config': {'seed': None}, 'registered_name': None}\n"
          ]
        }
      ],
      "source": [
        "# 문자열 초기화\n",
        "dense = tf.keras.layers.Dense(256, kernel_initializer = 'he_normal', activation = 'relu')\n",
        "print(dense.get_config()['kernel_initializer'])\n",
        "\n",
        "# 클래스 인스턴스 초기화\n",
        "he_normal = tf.keras.initializers.HeNormal()\n",
        "dense = tf.keras.layers.Dense(256, kernel_initializer = he_normal, activation = 'relu')\n",
        "print(dense.get_config()['kernel_initializer'])"
      ]
    },
    {
      "cell_type": "markdown",
      "metadata": {
        "id": "hBPt3fIZUW74"
      },
      "source": [
        "----------\n",
        "### 4-2 규제\n",
        "- 모델의 과대적합을 해소하기 위해 L1, L2 규제 적용"
      ]
    },
    {
      "cell_type": "code",
      "execution_count": 4,
      "metadata": {
        "colab": {
          "base_uri": "https://localhost:8080/"
        },
        "id": "bHhK0FyGTBPe",
        "outputId": "9db8eaf9-dd55-4839-f55c-43a0184b7d73"
      },
      "outputs": [
        {
          "data": {
            "text/plain": [
              "{'name': 'dense_3',\n",
              " 'trainable': True,\n",
              " 'dtype': 'float32',\n",
              " 'units': 256,\n",
              " 'activation': 'relu',\n",
              " 'use_bias': True,\n",
              " 'kernel_initializer': {'module': 'keras.initializers',\n",
              "  'class_name': 'GlorotUniform',\n",
              "  'config': {'seed': None},\n",
              "  'registered_name': None},\n",
              " 'bias_initializer': {'module': 'keras.initializers',\n",
              "  'class_name': 'Zeros',\n",
              "  'config': {},\n",
              "  'registered_name': None},\n",
              " 'kernel_regularizer': None,\n",
              " 'bias_regularizer': None,\n",
              " 'activity_regularizer': None,\n",
              " 'kernel_constraint': None,\n",
              " 'bias_constraint': None}"
            ]
          },
          "execution_count": 4,
          "metadata": {},
          "output_type": "execute_result"
        }
      ],
      "source": [
        "# 기본값\n",
        "dense = tf.keras.layers.Dense(256, activation = 'relu')\n",
        "dense.get_config()"
      ]
    },
    {
      "cell_type": "code",
      "execution_count": 5,
      "metadata": {
        "colab": {
          "base_uri": "https://localhost:8080/"
        },
        "id": "2pWcwnvpTBSY",
        "outputId": "bdaa9102-84b4-4705-950f-41db09fc2836"
      },
      "outputs": [
        {
          "name": "stdout",
          "output_type": "stream",
          "text": [
            "{'module': 'keras.regularizers', 'class_name': 'L1', 'config': {'l1': 0.009999999776482582}, 'registered_name': None}\n",
            "{'module': 'keras.regularizers', 'class_name': 'L1', 'config': {'l1': 0.10000000149011612}, 'registered_name': None}\n"
          ]
        }
      ],
      "source": [
        "# L1 규제 적용\n",
        "dense = tf.keras.layers.Dense(256, kernel_regularizer = 'l1', activation = 'relu')\n",
        "print(dense.get_config()['kernel_regularizer'])\n",
        "\n",
        "# 클래스 인스턴스 적용, alpha = 0.1 변경\n",
        "regularizer = tf.keras.regularizers.l1(l1 = 0.1)\n",
        "dense = tf.keras.layers.Dense(256, kernel_regularizer = regularizer, activation = 'relu')\n",
        "print(dense.get_config()['kernel_regularizer'])"
      ]
    },
    {
      "cell_type": "markdown",
      "metadata": {
        "id": "3JbiY6LYU_Em"
      },
      "source": [
        "--------\n",
        "### 4-3 드롭아웃\n",
        "- 과대적합 문제 해결\n",
        "- 임의의 노드의 일부만 연결함\n",
        "-  가중치 파라미터의 개수가 줄어들어 과대적합을 방지"
      ]
    },
    {
      "cell_type": "code",
      "execution_count": 6,
      "metadata": {
        "colab": {
          "base_uri": "https://localhost:8080/"
        },
        "id": "zU-7w5UITBU-",
        "outputId": "2e4f78d7-b434-4e6b-a9a3-c301276feb39"
      },
      "outputs": [
        {
          "data": {
            "text/plain": [
              "<keras.src.layers.regularization.dropout.Dropout at 0x238aeaf02e0>"
            ]
          },
          "execution_count": 6,
          "metadata": {},
          "output_type": "execute_result"
        }
      ],
      "source": [
        "# Dropout 25% 비율 적용(25%의 노드가 삭제)\n",
        "tf.keras.layers.Dropout(0.25)"
      ]
    },
    {
      "cell_type": "markdown",
      "metadata": {
        "id": "4YQLAK0jVWGZ"
      },
      "source": [
        "------------\n",
        "### 4-4 배치 정규화\n",
        "- 각 층에서 활성화 함수를 통과하기 전 미니 배치의 스케일을 정규화\n",
        "- 데이터가 다음층으로 전달 되기 전에 스케일 조정\n",
        "- 별도의 코드 대신 클래스 인스턴스를 생성해 추가"
      ]
    },
    {
      "cell_type": "code",
      "execution_count": 7,
      "metadata": {
        "colab": {
          "base_uri": "https://localhost:8080/"
        },
        "id": "JdXV-X6jVV-5",
        "outputId": "80062df2-b9d1-47b8-eab9-d16d659fbf4e"
      },
      "outputs": [
        {
          "name": "stdout",
          "output_type": "stream",
          "text": [
            "Model: \"sequential\"\n",
            "_________________________________________________________________\n",
            " Layer (type)                Output Shape              Param #   \n",
            "=================================================================\n",
            " flatten (Flatten)           (None, 784)               0         \n",
            "                                                                 \n",
            " dense_6 (Dense)             (None, 64)                50240     \n",
            "                                                                 \n",
            " dense_7 (Dense)             (None, 32)                2080      \n",
            "                                                                 \n",
            " dense_8 (Dense)             (None, 10)                330       \n",
            "                                                                 \n",
            "=================================================================\n",
            "Total params: 52650 (205.66 KB)\n",
            "Trainable params: 52650 (205.66 KB)\n",
            "Non-trainable params: 0 (0.00 Byte)\n",
            "_________________________________________________________________\n"
          ]
        }
      ],
      "source": [
        "# Model A : Dense+Relu\n",
        "model_a = tf.keras.Sequential([\n",
        "    tf.keras.layers.Flatten(input_shape = (28, 28)), \n",
        "    tf.keras.layers.Dense(64, activation = 'relu'), \n",
        "    tf.keras.layers.Dense(32, activation = 'relu'), \n",
        "    tf.keras.layers.Dense(10, activation = 'softmax')\n",
        "])\n",
        "\n",
        "model_a.summary()"
      ]
    },
    {
      "cell_type": "code",
      "execution_count": 8,
      "metadata": {
        "colab": {
          "base_uri": "https://localhost:8080/"
        },
        "id": "ldjl9ERPWDGj",
        "outputId": "e7437541-e0a9-48c7-f47c-eb4ce0297408"
      },
      "outputs": [
        {
          "name": "stdout",
          "output_type": "stream",
          "text": [
            "Model: \"sequential_1\"\n",
            "_________________________________________________________________\n",
            " Layer (type)                Output Shape              Param #   \n",
            "=================================================================\n",
            " flatten_1 (Flatten)         (None, 784)               0         \n",
            "                                                                 \n",
            " dense_9 (Dense)             (None, 64)                50240     \n",
            "                                                                 \n",
            " batch_normalization (Batch  (None, 64)                256       \n",
            " Normalization)                                                  \n",
            "                                                                 \n",
            " activation (Activation)     (None, 64)                0         \n",
            "                                                                 \n",
            " dense_10 (Dense)            (None, 32)                2080      \n",
            "                                                                 \n",
            " batch_normalization_1 (Bat  (None, 32)                128       \n",
            " chNormalization)                                                \n",
            "                                                                 \n",
            " activation_1 (Activation)   (None, 32)                0         \n",
            "                                                                 \n",
            " dense_11 (Dense)            (None, 10)                330       \n",
            "                                                                 \n",
            "=================================================================\n",
            "Total params: 53034 (207.16 KB)\n",
            "Trainable params: 52842 (206.41 KB)\n",
            "Non-trainable params: 192 (768.00 Byte)\n",
            "_________________________________________________________________\n"
          ]
        }
      ],
      "source": [
        "# Model B : Dense+BatchNorm+Relu\n",
        "model_b = tf.keras.Sequential([\n",
        "    tf.keras.layers.Flatten(input_shape=(28,28)),\n",
        "    tf.keras.layers.Dense(64),\n",
        "    # 배치 정규화 적용\n",
        "    tf.keras.layers.BatchNormalization(),\n",
        "    # 배치 정규화 후 활성화 함수 적용\n",
        "    tf.keras.layers.Activation('relu'),\n",
        "    tf.keras.layers.Dense(32),\n",
        "    # 배치 정규화 적용\n",
        "    tf.keras.layers.BatchNormalization(),\n",
        "    # 배치 정규화 후 활성화 함수 적용\n",
        "    tf.keras.layers.Activation('relu'),\n",
        "\n",
        "    tf.keras.layers.Dense(10,activation='softmax')\n",
        "])\n",
        "\n",
        "model_b.summary()"
      ]
    },
    {
      "cell_type": "markdown",
      "metadata": {
        "id": "Mm7D-RMhgVp0"
      },
      "source": [
        "- 배치 정규화만 추가했는데 손실이 이전 대비 안정적이고 빠르게 수렴\n",
        "- 데이터 개수가 큰 데이터셋에는 성능에 영향을 더 많이 미침"
      ]
    },
    {
      "cell_type": "markdown",
      "metadata": {
        "id": "Mp7LIscrgdsb"
      },
      "source": [
        "-----------\n",
        "### 4-5 활성화 함수"
      ]
    },
    {
      "cell_type": "code",
      "execution_count": 11,
      "metadata": {
        "colab": {
          "base_uri": "https://localhost:8080/"
        },
        "id": "qZzZAMWfTBXm",
        "outputId": "4bd80dce-779b-4e50-8c85-a61a266cc8ac"
      },
      "outputs": [
        {
          "data": {
            "text/plain": [
              "<keras.src.layers.activation.leaky_relu.LeakyReLU at 0x238c6354160>"
            ]
          },
          "execution_count": 11,
          "metadata": {},
          "output_type": "execute_result"
        }
      ],
      "source": [
        "# Leaky Relu 기본 설정\n",
        "tf.keras.layers.LeakyReLU()\n",
        "\n",
        "# Leaky Relu, alpha=0.2로 변경\n",
        "tf.keras.layers.LeakyReLU(alpha=0.2)"
      ]
    },
    {
      "cell_type": "code",
      "execution_count": 12,
      "metadata": {
        "colab": {
          "base_uri": "https://localhost:8080/"
        },
        "id": "1NJ2mWk6TBaG",
        "outputId": "5dc0da88-ecbe-43d2-b3ad-02f4fefc8e5c"
      },
      "outputs": [
        {
          "name": "stdout",
          "output_type": "stream",
          "text": [
            "Model: \"sequential_2\"\n",
            "_________________________________________________________________\n",
            " Layer (type)                Output Shape              Param #   \n",
            "=================================================================\n",
            " flatten_2 (Flatten)         (None, 784)               0         \n",
            "                                                                 \n",
            " dense_12 (Dense)            (None, 64)                50240     \n",
            "                                                                 \n",
            " batch_normalization_2 (Bat  (None, 64)                256       \n",
            " chNormalization)                                                \n",
            "                                                                 \n",
            " leaky_re_lu_2 (LeakyReLU)   (None, 64)                0         \n",
            "                                                                 \n",
            " dense_13 (Dense)            (None, 32)                2080      \n",
            "                                                                 \n",
            " batch_normalization_3 (Bat  (None, 32)                128       \n",
            " chNormalization)                                                \n",
            "                                                                 \n",
            " leaky_re_lu_3 (LeakyReLU)   (None, 32)                0         \n",
            "                                                                 \n",
            " dense_14 (Dense)            (None, 10)                330       \n",
            "                                                                 \n",
            "=================================================================\n",
            "Total params: 53034 (207.16 KB)\n",
            "Trainable params: 52842 (206.41 KB)\n",
            "Non-trainable params: 192 (768.00 Byte)\n",
            "_________________________________________________________________\n"
          ]
        }
      ],
      "source": [
        "# Model C : Dense+BatchNorm_KeakyReLU(0.2)\n",
        "model_c=tf.keras.Sequential([\n",
        "    tf.keras.layers.Flatten(input_shape=(28,28)),\n",
        "    tf.keras.layers.Dense(64),\n",
        "    # 배치 정규화 적용\n",
        "    tf.keras.layers.BatchNormalization(),\n",
        "    # 배치 정규화 후 활성화 함수 적용\n",
        "    tf.keras.layers.LeakyReLU(alpha=0.2),\n",
        "\n",
        "    tf.keras.layers.Dense(32),\n",
        "    # 배치 정규화 적용\n",
        "    tf.keras.layers.BatchNormalization(),\n",
        "    # 배치 정규화 후 활성화 함수 적용\n",
        "    tf.keras.layers.LeakyReLU(alpha=0.2),\n",
        "\n",
        "    tf.keras.layers.Dense(10,activation='softmax')\n",
        "])\n",
        "\n",
        "model_c.summary()"
      ]
    },
    {
      "cell_type": "markdown",
      "metadata": {
        "id": "GwZ1C02ehCbS"
      },
      "source": [
        "총 3개의 모델을 동일한 조건으로 10번의 epoch동안 훈련한 후 수렴속도 확인"
      ]
    },
    {
      "cell_type": "code",
      "execution_count": null,
      "metadata": {},
      "outputs": [
        {
          "name": "stdout",
          "output_type": "stream",
          "text": [
            "Epoch 1/10\n",
            "1875/1875 [==============================] - 10s 5ms/step - loss: 0.2908 - accuracy: 0.9152 - val_loss: 0.1586 - val_accuracy: 0.9510\n",
            "Epoch 2/10\n",
            "1875/1875 [==============================] - 11s 6ms/step - loss: 0.1333 - accuracy: 0.9603 - val_loss: 0.1195 - val_accuracy: 0.9639\n",
            "Epoch 3/10\n",
            "1875/1875 [==============================] - 7s 4ms/step - loss: 0.0981 - accuracy: 0.9703 - val_loss: 0.1019 - val_accuracy: 0.9678\n",
            "Epoch 4/10\n",
            "1875/1875 [==============================] - 6s 3ms/step - loss: 0.0790 - accuracy: 0.9761 - val_loss: 0.0980 - val_accuracy: 0.9692\n",
            "Epoch 5/10\n",
            "1875/1875 [==============================] - 8s 4ms/step - loss: 0.0672 - accuracy: 0.9792 - val_loss: 0.1101 - val_accuracy: 0.9690\n",
            "Epoch 6/10\n",
            "1875/1875 [==============================] - 6s 3ms/step - loss: 0.0568 - accuracy: 0.9826 - val_loss: 0.0891 - val_accuracy: 0.9728\n",
            "Epoch 7/10\n",
            "1875/1875 [==============================] - 7s 3ms/step - loss: 0.0487 - accuracy: 0.9850 - val_loss: 0.0885 - val_accuracy: 0.9735\n",
            "Epoch 8/10\n",
            "1875/1875 [==============================] - 6s 3ms/step - loss: 0.0431 - accuracy: 0.9859 - val_loss: 0.0869 - val_accuracy: 0.9764\n",
            "Epoch 9/10\n",
            "1875/1875 [==============================] - 7s 4ms/step - loss: 0.0380 - accuracy: 0.9875 - val_loss: 0.1136 - val_accuracy: 0.9672\n",
            "Epoch 10/10\n",
            "1875/1875 [==============================] - 5s 3ms/step - loss: 0.0342 - accuracy: 0.9885 - val_loss: 0.0929 - val_accuracy: 0.9748\n",
            "Epoch 1/10\n",
            "1875/1875 [==============================] - 9s 4ms/step - loss: 0.3148 - accuracy: 0.9137 - val_loss: 0.1331 - val_accuracy: 0.9596\n",
            "Epoch 2/10\n",
            "1875/1875 [==============================] - 7s 4ms/step - loss: 0.1425 - accuracy: 0.9566 - val_loss: 0.1028 - val_accuracy: 0.9690\n",
            "Epoch 3/10\n",
            "1875/1875 [==============================] - 8s 4ms/step - loss: 0.1113 - accuracy: 0.9653 - val_loss: 0.0980 - val_accuracy: 0.9690\n",
            "Epoch 4/10\n",
            "1875/1875 [==============================] - 6s 3ms/step - loss: 0.0942 - accuracy: 0.9704 - val_loss: 0.0848 - val_accuracy: 0.9743\n",
            "Epoch 5/10\n",
            "1875/1875 [==============================] - 9s 5ms/step - loss: 0.0834 - accuracy: 0.9740 - val_loss: 0.0823 - val_accuracy: 0.9758\n",
            "Epoch 6/10\n",
            "1875/1875 [==============================] - 7s 4ms/step - loss: 0.0754 - accuracy: 0.9758 - val_loss: 0.0858 - val_accuracy: 0.9731\n",
            "Epoch 7/10\n",
            "1875/1875 [==============================] - 7s 4ms/step - loss: 0.0710 - accuracy: 0.9772 - val_loss: 0.0767 - val_accuracy: 0.9758\n",
            "Epoch 8/10\n",
            "1875/1875 [==============================] - 8s 4ms/step - loss: 0.0602 - accuracy: 0.9804 - val_loss: 0.0847 - val_accuracy: 0.9747\n",
            "Epoch 9/10\n",
            "1875/1875 [==============================] - 6s 3ms/step - loss: 0.0586 - accuracy: 0.9808 - val_loss: 0.0791 - val_accuracy: 0.9760\n",
            "Epoch 10/10\n",
            "1875/1875 [==============================] - 8s 4ms/step - loss: 0.0550 - accuracy: 0.9825 - val_loss: 0.0803 - val_accuracy: 0.9758\n",
            "Epoch 1/10\n",
            "1875/1875 [==============================] - 8s 3ms/step - loss: 0.3173 - accuracy: 0.9120 - val_loss: 0.1536 - val_accuracy: 0.9534\n",
            "Epoch 2/10\n",
            "1875/1875 [==============================] - 8s 4ms/step - loss: 0.1589 - accuracy: 0.9515 - val_loss: 0.1048 - val_accuracy: 0.9680\n",
            "Epoch 3/10\n",
            "1875/1875 [==============================] - 6s 3ms/step - loss: 0.1247 - accuracy: 0.9613 - val_loss: 0.0966 - val_accuracy: 0.9700\n",
            "Epoch 4/10\n",
            "1875/1875 [==============================] - 7s 4ms/step - loss: 0.1049 - accuracy: 0.9678 - val_loss: 0.0868 - val_accuracy: 0.9727\n",
            "Epoch 5/10\n",
            "1875/1875 [==============================] - 6s 3ms/step - loss: 0.0944 - accuracy: 0.9702 - val_loss: 0.0898 - val_accuracy: 0.9721\n",
            "Epoch 6/10\n",
            "1875/1875 [==============================] - 8s 4ms/step - loss: 0.0839 - accuracy: 0.9739 - val_loss: 0.0875 - val_accuracy: 0.9737\n",
            "Epoch 7/10\n",
            "1875/1875 [==============================] - 6s 3ms/step - loss: 0.0782 - accuracy: 0.9753 - val_loss: 0.0909 - val_accuracy: 0.9715\n",
            "Epoch 8/10\n",
            "1875/1875 [==============================] - 7s 4ms/step - loss: 0.0713 - accuracy: 0.9765 - val_loss: 0.0903 - val_accuracy: 0.9722\n",
            "Epoch 9/10\n",
            "1875/1875 [==============================] - 6s 3ms/step - loss: 0.0695 - accuracy: 0.9776 - val_loss: 0.0901 - val_accuracy: 0.9731\n",
            "Epoch 10/10\n",
            "1875/1875 [==============================] - 7s 4ms/step - loss: 0.0617 - accuracy: 0.9800 - val_loss: 0.0852 - val_accuracy: 0.9745\n"
          ]
        }
      ],
      "source": [
        "model_a.compile(optimizer='adam',loss='sparse_categorical_crossentropy',metrics=['accuracy'])\n",
        "model_b.compile(optimizer='adam',loss='sparse_categorical_crossentropy',metrics=['accuracy'])\n",
        "model_c.compile(optimizer='adam',loss='sparse_categorical_crossentropy',metrics=['accuracy'])\n",
        "\n",
        "# Model A : Dense+ReLU\n",
        "history_a=model_a.fit(x_train,y_train,\n",
        "                      validation_data=(x_test,y_test),\n",
        "                      epochs=10)\n",
        "\n",
        "# Model B : Dense+BatchNorm+ReLU\n",
        "history_b=model_b.fit(x_train,y_train,\n",
        "                      validation_data=(x_test,y_test),\n",
        "                      epochs=10)\n",
        "\n",
        "# Model C : Dense+BatchNorm+LeakyReLU(0.2)\n",
        "history_c=model_c.fit(x_train,y_train,\n",
        "                      validation_data=(x_test,y_test),\n",
        "                      epochs=10)"
      ]
    },
    {
      "cell_type": "code",
      "execution_count": null,
      "metadata": {},
      "outputs": [
        {
          "data": {
            "text/plain": [
              "<matplotlib.legend.Legend at 0x7baa5d0b5ab0>"
            ]
          },
          "metadata": {},
          "output_type": "display_data"
        },
        {
          "data": {
            "image/png": "[encoded data removed]",
            "text/plain": [
              "<Figure size 1200x900 with 1 Axes>"
            ]
          },
          "metadata": {},
          "output_type": "display_data"
        }
      ],
      "source": [
        "import matplotlib.pyplot as plt\n",
        "import numpy as np\n",
        "\n",
        "plt.figure(figsize=(12,9))\n",
        "plt.plot(np.arange(1,11),history_a.history['val_loss'],color='navy',linestyle=':')\n",
        "plt.plot(np.arange(1,11),history_b.history['val_loss'],color='tomato',linestyle='-.')\n",
        "plt.plot(np.arange(1,11),history_c.history['val_loss'],color='green',linestyle='-')\n",
        "\n",
        "plt.title('Losses',fontsize=20)\n",
        "plt.xlabel('epochs')\n",
        "plt.ylabel('Losses')\n",
        "plt.legend(['ReLU','BatchNorm+ReLU','batchnorm+LeakyReLU'],fontsize=12)"
      ]
    },
    {
      "cell_type": "markdown",
      "metadata": {},
      "source": [
        "------\n",
        "## 06. 모델 저장 및 불러오기"
      ]
    },
    {
      "cell_type": "markdown",
      "metadata": {},
      "source": [
        "### 6-1. 모델을 파일로 저장"
      ]
    },
    {
      "cell_type": "markdown",
      "metadata": {
        "id": "4Sev3XKpjVrE"
      },
      "source": [
        "훈련을 종료하여 가중치가 업데이트 된 모델 인스턴스를 저장할 수 있다.\n",
        "- save() 메소드 사용\n",
        "- 모델 저장 형식은 'HDF5' 포맷과 'SavedModel' 포맷 두 가지가 있다.\n",
        "- HDF5 : 대용량의 데이터를 저장하기 위한 파일 형식"
      ]
    },
    {
      "cell_type": "code",
      "execution_count": null,
      "metadata": {
        "colab": {
          "base_uri": "https://localhost:8080/"
        },
        "id": "cmrIeNS-jXpV",
        "outputId": "b1dcd039-9087-42fb-a24b-f270dd7db9f1"
      },
      "outputs": [
        {
          "name": "stderr",
          "output_type": "stream",
          "text": [
            "/usr/local/lib/python3.10/dist-packages/keras/src/engine/training.py:3103: UserWarning: You are saving your model as an HDF5 file via `model.save()`. This file format is considered legacy. We recommend using instead the native Keras format, e.g. `model.save('my_model.keras')`.\n",
            "  saving_api.save_model(\n"
          ]
        }
      ],
      "source": [
        "# 모델을 h5 포맷으로 저장\n",
        "model_c.save('h5-model.h5')"
      ]
    },
    {
      "cell_type": "markdown",
      "metadata": {
        "id": "Z3MDhvdpjwPT"
      },
      "source": [
        "--------\n",
        "### 6-2 저장된 모델 복원"
      ]
    },
    {
      "cell_type": "markdown",
      "metadata": {},
      "source": [
        "tf.keras.models.load_model('포맷') 메소드로 저장된 모델을 복원할 수 있다."
      ]
    },
    {
      "cell_type": "code",
      "execution_count": 14,
      "metadata": {
        "colab": {
          "base_uri": "https://localhost:8080/"
        },
        "id": "bAwZPkIljXsB",
        "outputId": "d24097f4-a8ab-40de-dc81-575d2e64b7ee"
      },
      "outputs": [
        {
          "name": "stdout",
          "output_type": "stream",
          "text": [
            "Model: \"sequential_2\"\n",
            "_________________________________________________________________\n",
            " Layer (type)                Output Shape              Param #   \n",
            "=================================================================\n",
            " flatten_2 (Flatten)         (None, 784)               0         \n",
            "                                                                 \n",
            " dense_12 (Dense)            (None, 64)                50240     \n",
            "                                                                 \n",
            " batch_normalization_2 (Bat  (None, 64)                256       \n",
            " chNormalization)                                                \n",
            "                                                                 \n",
            " leaky_re_lu_2 (LeakyReLU)   (None, 64)                0         \n",
            "                                                                 \n",
            " dense_13 (Dense)            (None, 32)                2080      \n",
            "                                                                 \n",
            " batch_normalization_3 (Bat  (None, 32)                128       \n",
            " chNormalization)                                                \n",
            "                                                                 \n",
            " leaky_re_lu_3 (LeakyReLU)   (None, 32)                0         \n",
            "                                                                 \n",
            " dense_14 (Dense)            (None, 10)                330       \n",
            "                                                                 \n",
            "=================================================================\n",
            "Total params: 53034 (207.16 KB)\n",
            "Trainable params: 52842 (206.41 KB)\n",
            "Non-trainable params: 192 (768.00 Byte)\n",
            "_________________________________________________________________\n"
          ]
        }
      ],
      "source": [
        "# 모델 복원\n",
        "h5_model = tf.keras.models.load_model('h5-model.h5')\n",
        "h5_model.summary()"
      ]
    },
    {
      "cell_type": "code",
      "execution_count": null,
      "metadata": {},
      "outputs": [
        {
          "name": "stdout",
          "output_type": "stream",
          "text": [
            "h5 model]loss:0.08525,acc:0.97450\n"
          ]
        }
      ],
      "source": [
        "# 모델 검증\n",
        "loss,acc=h5_model.evaluate(x_test,y_test,verbose=0)\n",
        "print(f'h5 model]loss:{loss:.5f},acc:{acc:.5f}')"
      ]
    },
    {
      "cell_type": "code",
      "execution_count": 16,
      "metadata": {
        "id": "U8GrovB3kFXe"
      },
      "outputs": [],
      "source": [
        "# 모델을 SavedModel 포맷으로 저장\n",
        "model_c.save('saved-model')"
      ]
    },
    {
      "cell_type": "code",
      "execution_count": 17,
      "metadata": {
        "colab": {
          "base_uri": "https://localhost:8080/"
        },
        "id": "LXltuRwSkM-f",
        "outputId": "36d5158e-bf46-443f-c5cb-15c41312e755"
      },
      "outputs": [
        {
          "name": "stdout",
          "output_type": "stream",
          "text": [
            "Model: \"sequential_2\"\n",
            "_________________________________________________________________\n",
            " Layer (type)                Output Shape              Param #   \n",
            "=================================================================\n",
            " flatten_2 (Flatten)         (None, 784)               0         \n",
            "                                                                 \n",
            " dense_12 (Dense)            (None, 64)                50240     \n",
            "                                                                 \n",
            " batch_normalization_2 (Bat  (None, 64)                256       \n",
            " chNormalization)                                                \n",
            "                                                                 \n",
            " leaky_re_lu_2 (LeakyReLU)   (None, 64)                0         \n",
            "                                                                 \n",
            " dense_13 (Dense)            (None, 32)                2080      \n",
            "                                                                 \n",
            " batch_normalization_3 (Bat  (None, 32)                128       \n",
            " chNormalization)                                                \n",
            "                                                                 \n",
            " leaky_re_lu_3 (LeakyReLU)   (None, 32)                0         \n",
            "                                                                 \n",
            " dense_14 (Dense)            (None, 10)                330       \n",
            "                                                                 \n",
            "=================================================================\n",
            "Total params: 53034 (207.16 KB)\n",
            "Trainable params: 52842 (206.41 KB)\n",
            "Non-trainable params: 192 (768.00 Byte)\n",
            "_________________________________________________________________\n"
          ]
        }
      ],
      "source": [
        "# 모델 복원\n",
        "saved_model=tf.keras.models.load_model('saved-model')\n",
        "saved_model.summary()"
      ]
    },
    {
      "cell_type": "markdown",
      "metadata": {},
      "source": [
        ".hd 확장자를 생략하면 SavedModel 포맷으로 저장된다. 복원 방식은 동일하다."
      ]
    },
    {
      "cell_type": "code",
      "execution_count": 18,
      "metadata": {
        "colab": {
          "base_uri": "https://localhost:8080/"
        },
        "id": "FujV9aHlkUfE",
        "outputId": "20de0ffe-3a75-4959-82f7-6ae5fa1c2276"
      },
      "outputs": [
        {
          "name": "stdout",
          "output_type": "stream",
          "text": [
            "h5 model]loss:0.08525,acc:0.97450\n",
            "saved_ model]loss:0.08525,acc:0.97450\n"
          ]
        }
      ],
      "source": [
        "# 모델 검증 (HDF5 포맷)\n",
        "loss, acc = h5_model.evaluate(x_test, y_test, verbose = 0)\n",
        "print(f'h5 model]loss:{loss:.5f}, acc:{acc:.5f}')\n",
        "\n",
        "# 모델 검증 (SavedModel 포맷)\n",
        "loss, acc = saved_model.evaluate(x_test, y_test, verbose = 0)\n",
        "print(f'saved_ model]loss:{loss:.5f}, acc:{acc:.5f}')"
      ]
    },
    {
      "cell_type": "markdown",
      "metadata": {
        "id": "J92yVdzzk6lI"
      },
      "source": [
        "-------\n",
        "## 07 복잡한 모델 생성"
      ]
    },
    {
      "cell_type": "markdown",
      "metadata": {},
      "source": [
        "### 7-1 함수형 API"
      ]
    },
    {
      "cell_type": "markdown",
      "metadata": {},
      "source": [
        "**다양한 모델구조**\n",
        "\n",
        "- 함수의 입력 매개변수를 여러개 갖는 다중 입력\n",
        "- 함수의 return 값을 여러개 갖는 다중 출력\n",
        "-같은 레벨에 여러개의 층을 배치하여 입력과 출력을 공유하는 구조"
      ]
    },
    {
      "cell_type": "code",
      "execution_count": 19,
      "metadata": {
        "id": "BFg5KKcmkqIr"
      },
      "outputs": [],
      "source": [
        "# 모델의 레이어를 체인 구조로 연결 Input 레이어 정의\n",
        "input_layer = tf.keras.Input(shape = (28, 28), name = 'InputLayer')\n",
        "\n",
        "# 모델의 레이어를 체인 구조로 연결\n",
        "x1 = tf.keras.layers.Flatten(name = 'Flatten')(input_layer)\n",
        "x2 = tf.keras.layers.Dense(256, activation = 'relu', name = 'Dense1')(x1)\n",
        "x3 = tf.keras.layers.Dense(64, activation = 'relu', name = 'Dense2')(x2)\n",
        "x4 = tf.keras.layers.Dense(10, activation = 'softmax', name = 'OutputLayer')(x3)"
      ]
    },
    {
      "cell_type": "code",
      "execution_count": 20,
      "metadata": {
        "colab": {
          "base_uri": "https://localhost:8080/"
        },
        "id": "rTeHrEANjXur",
        "outputId": "d996bb85-3c69-4e02-8766-caaff2a030f4"
      },
      "outputs": [
        {
          "name": "stdout",
          "output_type": "stream",
          "text": [
            "Model: \"FunctionalModel\"\n",
            "_________________________________________________________________\n",
            " Layer (type)                Output Shape              Param #   \n",
            "=================================================================\n",
            " InputLayer (InputLayer)     [(None, 28, 28)]          0         \n",
            "                                                                 \n",
            " Flatten (Flatten)           (None, 784)               0         \n",
            "                                                                 \n",
            " Dense1 (Dense)              (None, 256)               200960    \n",
            "                                                                 \n",
            " Dense2 (Dense)              (None, 64)                16448     \n",
            "                                                                 \n",
            " OutputLayer (Dense)         (None, 10)                650       \n",
            "                                                                 \n",
            "=================================================================\n",
            "Total params: 218058 (851.79 KB)\n",
            "Trainable params: 218058 (851.79 KB)\n",
            "Non-trainable params: 0 (0.00 Byte)\n",
            "_________________________________________________________________\n"
          ]
        }
      ],
      "source": [
        "# 모델 생성\n",
        "func_model = tf.keras.Model(inputs = input_layer, outputs = x4, name = 'FunctionalModel')\n",
        "\n",
        "# 모델 요약\n",
        "func_model.summary()"
      ]
    },
    {
      "cell_type": "code",
      "execution_count": 21,
      "metadata": {
        "colab": {
          "base_uri": "https://localhost:8080/",
          "height": 533
        },
        "id": "mW2zovrbjXxd",
        "outputId": "e8e8f268-881e-407c-d494-289846f5acf9"
      },
      "outputs": [
        {
          "data": {
            "image/png": "[encoded data removed]",
            "text/plain": [
              "<IPython.core.display.Image object>"
            ]
          },
          "execution_count": 21,
          "metadata": {},
          "output_type": "execute_result"
        }
      ],
      "source": [
        "from tensorflow.keras.utils import plot_model\n",
        "\n",
        "# 구조도 시각화\n",
        "plot_model(func_model, show_shapes=True, show_layer_names=True, to_file='model.png')"
      ]
    },
    {
      "cell_type": "code",
      "execution_count": 22,
      "metadata": {
        "colab": {
          "base_uri": "https://localhost:8080/"
        },
        "id": "PjyW9EZ9jX0U",
        "outputId": "3a295325-1941-40de-fc58-b7211f06eaa4"
      },
      "outputs": [
        {
          "name": "stdout",
          "output_type": "stream",
          "text": [
            "Epoch 1/3\n",
            "1875/1875 [==============================] - 11s 6ms/step - loss: 0.2208 - accuracy: 0.9342\n",
            "Epoch 2/3\n",
            "1875/1875 [==============================] - 11s 6ms/step - loss: 0.0891 - accuracy: 0.9731\n",
            "Epoch 3/3\n",
            "1875/1875 [==============================] - 10s 5ms/step - loss: 0.0617 - accuracy: 0.9807\n",
            "Functional Model] loss:0.09397,acc:0.97100\n"
          ]
        }
      ],
      "source": [
        "# 컴파일\n",
        "func_model.compile(optimizer='adam', loss='sparse_categorical_crossentropy', \n",
        "                   metrics=['accuracy'])\n",
        "\n",
        "# 훈련\n",
        "func_model.fit(x_train, y_train, epochs=3)\n",
        "\n",
        "# 검증\n",
        "loss, acc=func_model.evaluate(x_test, y_test, verbose=0)\n",
        "print(f'Functional Model] loss:{loss:.5f}, acc:{acc:.5f}')"
      ]
    },
    {
      "cell_type": "markdown",
      "metadata": {
        "id": "OKI1Sqmdnmy8"
      },
      "source": [
        "------\n",
        "### 7-2 모델 서브 클래싱"
      ]
    },
    {
      "cell_type": "markdown",
      "metadata": {
        "id": "juKbxi2_n7A9"
      },
      "source": [
        "- 케라스에서 제공하는 model 클래스를 기반으로 딥러닝 모델을 구현"
      ]
    },
    {
      "cell_type": "code",
      "execution_count": 23,
      "metadata": {
        "id": "wYY5yI7djX3V"
      },
      "outputs": [],
      "source": [
        "class MyModel(tf.keras.Model):\n",
        "    def __init__(self):\n",
        "        super(MyModel, self).__init__()\n",
        "        self.flatten = tf.keras.layers.Flatten()\n",
        "        self.dense1 = tf.keras.layers.Dense(256, activation='relu')\n",
        "        self.dense2 = tf.keras.layers.Dense(64, activation='relu')\n",
        "        self.dense3 = tf.keras.layers.Dense(10, activation='softmax')\n",
        "\n",
        "    # method overiding\n",
        "    # 훈련용 함수 정의\n",
        "    # x는 input\n",
        "    def call(self, x):\n",
        "        x = self.flatten(x)\n",
        "        x = self.dense1(x)\n",
        "        x = self.dense2(x)\n",
        "        x = self.dense3(x)\n",
        "        return x"
      ]
    },
    {
      "cell_type": "code",
      "execution_count": 24,
      "metadata": {
        "colab": {
          "base_uri": "https://localhost:8080/"
        },
        "id": "0shI6JwqTBh8",
        "outputId": "b1731fc5-6420-41fb-e95c-18d6b9df2fff"
      },
      "outputs": [
        {
          "name": "stdout",
          "output_type": "stream",
          "text": [
            "Model: \"subclass_model\"\n",
            "_________________________________________________________________\n",
            " Layer (type)                Output Shape              Param #   \n",
            "=================================================================\n",
            " flatten_3 (Flatten)         multiple                  0         \n",
            "                                                                 \n",
            " dense_15 (Dense)            multiple                  200960    \n",
            "                                                                 \n",
            " dense_16 (Dense)            multiple                  16448     \n",
            "                                                                 \n",
            " dense_17 (Dense)            multiple                  650       \n",
            "                                                                 \n",
            "=================================================================\n",
            "Total params: 218058 (851.79 KB)\n",
            "Trainable params: 218058 (851.79 KB)\n",
            "Non-trainable params: 0 (0.00 Byte)\n",
            "_________________________________________________________________\n"
          ]
        }
      ],
      "source": [
        "# 모델 생성\n",
        "mymodel=MyModel()\n",
        "\n",
        "# 모델의 이름 설정\n",
        "mymodel._name='subclass_model'\n",
        "\n",
        "# 모델의 input 정의\n",
        "mymodel(tf.keras.layers.Input(shape=(28,28)))\n",
        "\n",
        "# 모델 요약\n",
        "mymodel.summary()"
      ]
    },
    {
      "cell_type": "code",
      "execution_count": 25,
      "metadata": {
        "colab": {
          "base_uri": "https://localhost:8080/"
        },
        "id": "8Pt-iCb4oUf1",
        "outputId": "f7212b20-2b4b-4060-d147-19205bd1cdb9"
      },
      "outputs": [
        {
          "name": "stdout",
          "output_type": "stream",
          "text": [
            "Epoch 1/3\n",
            "1875/1875 [==============================] - 12s 6ms/step - loss: 0.2146 - accuracy: 0.9354\n",
            "Epoch 2/3\n",
            "1875/1875 [==============================] - 12s 6ms/step - loss: 0.0885 - accuracy: 0.9728\n",
            "Epoch 3/3\n",
            "1875/1875 [==============================] - 12s 7ms/step - loss: 0.0601 - accuracy: 0.9804\n",
            "Subclassing Model]loss:0.08401,acc:0.97400\n"
          ]
        }
      ],
      "source": [
        "# 컴파일\n",
        "mymodel.compile(optimizer='adam', loss='sparse_categorical_crossentropy', metrics=['accuracy'])\n",
        "\n",
        "# 훈련\n",
        "mymodel.fit(x_train, y_train, epochs=3)\n",
        "\n",
        "# 검증\n",
        "loss, acc = mymodel.evaluate(x_test, y_test, verbose=0)\n",
        "print(f'Subclassing Model]loss:{loss:.5f}, acc:{acc:.5f}')"
      ]
    },
    {
      "cell_type": "markdown",
      "metadata": {
        "id": "yiim9_JzovqV"
      },
      "source": [
        "------\n",
        "### 7-3 서브클래싱 모델 파라미터를 활용한 생성"
      ]
    },
    {
      "cell_type": "code",
      "execution_count": 26,
      "metadata": {
        "id": "JoZIf-JGoUqk"
      },
      "outputs": [],
      "source": [
        "class MyModel(tf.keras.Model):\n",
        "\n",
        "    # 생성자 파라미터 추가\n",
        "    def __init__(self, units, num_classes):\n",
        "        super(MyModel,self).__init__()\n",
        "        #초기값 설정\n",
        "        self.flatten = tf.keras.layers.Flat ten()\n",
        "        self.dense1 = tf.keras.layers.Dense(units, activation='relu')\n",
        "        self.dense2 = tf.keras.layers.Dense(units/4, activation='relu')\n",
        "        self.dense3 = tf.keras.layers.Dense(num_classes, activation='softmax')\n",
        "\n",
        "    # class overiding\n",
        "    # 훈련용 함수 정의\n",
        "    # x는 input\n",
        "    def call(self, x):\n",
        "        x = self.flatten(x)\n",
        "        x = self.dense1(x)\n",
        "        x = self.dense2(x)\n",
        "        x = self.dense3(x)\n",
        "        return x"
      ]
    },
    {
      "cell_type": "code",
      "execution_count": 27,
      "metadata": {
        "colab": {
          "base_uri": "https://localhost:8080/"
        },
        "id": "kUQkeoQpoUvX",
        "outputId": "48d5b484-8d06-4cb2-8aed-f4293859dbe0"
      },
      "outputs": [
        {
          "name": "stdout",
          "output_type": "stream",
          "text": [
            "Model: \"my_model_1\"\n",
            "_________________________________________________________________\n",
            " Layer (type)                Output Shape              Param #   \n",
            "=================================================================\n",
            " flatten_4 (Flatten)         multiple                  0         \n",
            "                                                                 \n",
            " dense_18 (Dense)            multiple                  200960    \n",
            "                                                                 \n",
            " dense_19 (Dense)            multiple                  16448     \n",
            "                                                                 \n",
            " dense_20 (Dense)            multiple                  650       \n",
            "                                                                 \n",
            "=================================================================\n",
            "Total params: 218058 (851.79 KB)\n",
            "Trainable params: 218058 (851.79 KB)\n",
            "Non-trainable params: 0 (0.00 Byte)\n",
            "_________________________________________________________________\n"
          ]
        }
      ],
      "source": [
        "# 모델 생성\n",
        "mymodel = MyModel(256,10)\n",
        "\n",
        "# 모델 input 정의\n",
        "mymodel(tf.keras.layers.Input(shape=(28,28)))\n",
        "\n",
        "# 모델 요약\n",
        "mymodel.summary()"
      ]
    },
    {
      "cell_type": "code",
      "execution_count": 28,
      "metadata": {
        "colab": {
          "base_uri": "https://localhost:8080/"
        },
        "id": "d041Yi5ZoUx9",
        "outputId": "ab51f653-505f-4869-e1e2-8a241b914205"
      },
      "outputs": [
        {
          "name": "stdout",
          "output_type": "stream",
          "text": [
            "Epoch 1/3\n",
            "1875/1875 [==============================] - 13s 7ms/step - loss: 0.2122 - accuracy: 0.9369\n",
            "Epoch 2/3\n",
            "1875/1875 [==============================] - 12s 6ms/step - loss: 0.0869 - accuracy: 0.9732\n",
            "Epoch 3/3\n",
            "1875/1875 [==============================] - 10s 5ms/step - loss: 0.0577 - accuracy: 0.9817\n",
            "Subclassing Model w.parameters]loss:0.07134.acc:0.97750\n"
          ]
        }
      ],
      "source": [
        "mymodel.compile(optimizer=\"adam\", loss=\"sparse_categorical_crossentropy\", metrics=[\"accuracy\"])\n",
        "\n",
        "mymodel.fit(x_train, y_train, epochs=3)\n",
        "\n",
        "loss,  acc = mymodel.evaluate(x_test, y_test, verbose=0)\n",
        "print(f\"Subclassing Model w.parameters] loss : {loss:.5f}.acc : {acc:.5f}\")"
      ]
    }
  ],
  "metadata": {
    "colab": {
      "provenance": []
    },
    "kernelspec": {
      "display_name": "Python 3",
      "name": "python3"
    },
    "language_info": {
      "codemirror_mode": {
        "name": "ipython",
        "version": 3
      },
      "file_extension": ".py",
      "mimetype": "text/x-python",
      "name": "python",
      "nbconvert_exporter": "python",
      "pygments_lexer": "ipython3",
      "version": "3.10.4"
    }
  },
  "nbformat": 4,
  "nbformat_minor": 0
}
