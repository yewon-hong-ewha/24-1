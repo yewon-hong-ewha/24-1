{
 "cells": [
  {
   "cell_type": "markdown",
   "metadata": {},
   "source": [
    "과제: 파이썬 머신러닝 완벽 가이드 ch9.1-4\n",
    "\n",
    "마감: 5월 10일 금요일 18:30\n",
    "\n",
    "pg. 562~579 필사하여 깃허브 주소를 댓글로 남겨주세요."
   ]
  },
  {
   "cell_type": "markdown",
   "metadata": {},
   "source": [
    "----\n",
    "# CHAPTER 09. 추천 시스템"
   ]
  },
  {
   "cell_type": "markdown",
   "metadata": {},
   "source": [
    "## 09-01. 추천 시스템의 개요와 배경"
   ]
  },
  {
   "cell_type": "markdown",
   "metadata": {},
   "source": [
    "### 추천 시스템의 개요"
   ]
  },
  {
   "cell_type": "markdown",
   "metadata": {},
   "source": [
    "### 온라인 스토어의 필수 요소, 추천 시스템"
   ]
  },
  {
   "cell_type": "markdown",
   "metadata": {},
   "source": [
    "- 너무 많은 상품으로 가득 찬 온라인 스토어\n",
    "- 한정된 시간에 어떤 상품을 골라야 할지에 대한 선택의 압박감\n",
    "\n",
    "-> 추천 시스템의 도입으로 상황 타개\n",
    "\n",
    "- 사용자가 어떤 상품을 구매했는가?\n",
    "- 사용자가 어떤 상품을 둘러보거나 장바구니에 넣었는가?\n",
    "- 사용자가 평가한 영화 평점은? 제품 평가는?\n",
    "- 사용자가 스스로 작성한 자신의 취향은?\n",
    "- 사용자가 무엇을 클릭했는가?\n",
    "\n",
    "-------"
   ]
  },
  {
   "cell_type": "markdown",
   "metadata": {},
   "source": [
    "### 추천 시스템의 유형"
   ]
  },
  {
   "cell_type": "markdown",
   "metadata": {},
   "source": [
    "1. 콘텐츠 기반 필터링 (Content based filtering)\n",
    "2. 협업 필터링 (Collaborative filtering)\n",
    "    - 2-1. 최근접 이웃 협업 필터링 (Nearest Neighbor)\n",
    "    - 2-2. 잠재 요인 협업 필터링 (Latent Factor)\n",
    "\n",
    "\n",
    "추천 시스템의 초창기에는 콘텐츠 기반 필터링이나 최근접 이웃 기반 협업 필터링이 주로 사용되었지만, 넷플릭스 추천 시스템 경연대회에서 행렬 분해 (Matrix Factorization) 기법을 이용한 잠재 요인 협업 필터링 방식이 우승하면서 대부분의 온라인 스토어가 해당 방식을 적용하고 있다. 하지만 서비스하는 아이템의 특성에 따라 콘텐츠 기반 필터링이나 최근접 이웃 기반 협업 필터링을 유지하는 사이트도 많으며, 특히 아마존의 경우엔 아직도 아이템 기반의 최근접 이웃 협업 필터링 방식을 이용한다."
   ]
  },
  {
   "cell_type": "markdown",
   "metadata": {},
   "source": [
    "-----\n",
    "## 09-02. 콘텐츠 기반 필터링 추천 시스템"
   ]
  },
  {
   "cell_type": "markdown",
   "metadata": {},
   "source": [
    "#### **콘텐츠 기반 필터링 방식**\n",
    ": 사용자가 특정한 아이템을 매우 선호하는 경우, 그 아이템과 비슷한 콘텐츠를 가진 다른 아이템을 추천하는 방식.\n",
    "\n",
    ": (EX) 사용자가 특정 영화에 높은 평점을 줬다면 그 영화의 장르, 출연 배우, 감독, 영화 키워드 등의 콘텐츠와 유사한 다른 영화를 추천해주는 방식.\n",
    "\n",
    "-------\n"
   ]
  },
  {
   "cell_type": "markdown",
   "metadata": {},
   "source": [
    "## 09-03. 최근접 이웃 협업 필터링"
   ]
  },
  {
   "cell_type": "markdown",
   "metadata": {},
   "source": [
    "#### **협업 필터링 (Collaborative Filtering)**\n",
    "\n",
    ": 사용자가 아이템에 매긴 평점 정보나 상품 구매 이력과 같은 사용자 행동 양식 (User Behavior) 만을 기반으로 추천을 수행하는 방식\n",
    "\n",
    ": (EX) 신작 영화가 나왔을 때 그 영화를 본 가까운 친구들에게 영화가 어땠는지를 물어보는 방식.\n",
    "\n",
    ": 목표 : 사용자-아이템 평점 매트릭스와 같은 축적된 사용자 행동 데이터를 기반으로 사용자가 아직 평가하지 않은 아이템을 예측 평가(predicted rating)하는 것. > 사용자가 평가한 다른 아이템을 기반으로 사용자가 평가하지 않은 아이템의 예측 평가를 도출\n",
    "\n",
    "<사용자-아이템 평점 행렬>\n",
    "- 행 : 개별 사용자\n",
    "- 열 : 개별 아이템\n",
    "- entry : 해당 행과 열의 평점을 나타낸다.\n",
    "- 사용자가 아이템에 대한 평점을 매기는 경우가 많지 않기 때문에 희소 행렬 (sparse matrix) 특성을 갖는다.\n",
    "\n",
    "-------\n",
    "#### **최근접 이웃 협업 필터링**\n",
    "- 메모리 협업 필터링이라고도 한다.\n",
    "- 사용자 기반과 아이템 기반으로 나뉜다.\n",
    "1. 사용자 기반 (User-User) : 당신과 비슷한 고객들이 다음 상품도 구매했습니다.\n",
    "2. 아이템 기반 (Item-Item) : 이 상품을 선택한 다른 고객들은 다음 상품도 구매했습니다.\n",
    "- 일반적으로 사용자 기반보다 아이템 기반이 정확도가 더 높다. 이는 비슷한 영화를 좋아한다고 해서 취향이 비슷하다고 판단하기는 어려운 경우가 많기 때문이다. 따라서 대부분 아이템 기반의 알고리즘을 적용한다.\n",
    "- 다차원 희소 행렬이라는 특징이 있으므로 유사도 측정을 위해 주로 코사인 유사도를 이용한다."
   ]
  },
  {
   "cell_type": "markdown",
   "metadata": {},
   "source": [
    "------\n",
    "## 09-04. 잠재 요인 협업 필터링"
   ]
  },
  {
   "cell_type": "markdown",
   "metadata": {},
   "source": [
    "### 잠재 요인 협업 필터링의 이해"
   ]
  },
  {
   "cell_type": "markdown",
   "metadata": {},
   "source": [
    "#### **잠재 요인 협업 필터링**\n",
    "- 사용자-아이템 평점 매트릭스 속에 숨어있는 잠재 요인을 추출해 추천 예측을 할 수 있게 하는 기법\n",
    "- 행렬 분해 (Matrix Factorization) : 대규모 다차원 행렬을 SVD와 같은 차원 감소 기법으로 분해하는 과정에서 잠재 요인을 추출하는 기법\n",
    "- '잠재 요인'이 어떤 것인지는 명확히 정의할 수는 없다\n",
    "- 잠재 요인을 기반으로 다차원 희소 행렬인 사용자-아이템 행렬 데이터를 저차원 밀집 행렬의 **사용자-잠재 요인 행렬**과 아이템-잠재 요인 행렬의 전치 행렬 (즉 **'잠재 요인-아이템 행렬'**)로 분해할 수 있다. 이렇게 분해된 두 행렬의 내적을 통해 새로운 예측 사용자 - 아이템 평점 행렬 데이터를 만들어 사용자가 아직 평가하지 않은 아이템에 대한 예측 평점을 생성한다.\n",
    "\n",
    "[EX : 영화 평점 기반의 사용자-아이템 평점 행렬 데이터]\n",
    "- 잠재 요인 : 영화가 가지는 장르별 특성 선호도\n",
    "- 사용자-잠재 요인 행렬 : 사용자의 영화 장르에 대한 선호도\n",
    "- 아이템-잠재 요인 행렬 : 영화의 장르별 특성값"
   ]
  },
  {
   "cell_type": "markdown",
   "metadata": {},
   "source": [
    "-----\n",
    "### 행렬 분해의 이해"
   ]
  },
  {
   "cell_type": "markdown",
   "metadata": {},
   "source": [
    "#### 행렬 분해\n",
    "- 다차원의 매트릭스를 저차원의 매트릭스로 분해하는 기법\n",
    "- 대표적으로 SVD (Singular Vector Decomposition), NMF (Non-Negative Matrix Factorizetion) 등이 있다.\n",
    "\n",
    "[EX] M개의 사용자 (user) 행과 N개의 아이템 (item) 열을 가진 평점 행렬 R은 MxN 차원은 행렬 분해를 통해 다음 두 개로 나뉜다.\n",
    "1. 사용자-K차원 잠재 요인 행렬 P (MxK 차원)\n",
    "2. K차원 잠재요인-아이템 행렬 Q.T (KxN 차원)\n",
    "- M : 사용자의 수\n",
    "- N : 아이템의 수\n",
    "- K : 잠재 요인의 차원 수\n",
    "- R : MxN 차원의 사용자-아이템 평점 행렬\n",
    "- P : MxK 차원의 사용자-잠재 요인 행렬 (사용자와 잠재 요인과의 관계 값을 갖는다)\n",
    "- Q : NxK 차원의 아이템-잠재 요인 행렬 (아이템과 잠재 요인과의 관계 값을 갖는다)\n",
    "- Q.T : Q 매트릭스의 전치 행렬"
   ]
  },
  {
   "cell_type": "markdown",
   "metadata": {},
   "source": [
    "------\n",
    "### 확률적 경사 하강법을 이용한 행렬 분해"
   ]
  },
  {
   "cell_type": "markdown",
   "metadata": {},
   "source": [
    "확률적 경사 하강법 (SGD) : P와 Q 행렬로 계산된 예측 R 행렬 값이 실제 R 행렬 값과 가장 최소의 오류를 가질 수 있도록 반복적인 비용 함수 최적화를 위해 P와 Q를 유추해내는 것\n",
    "\n",
    "SGD를 이용해 행렬 분해를 수행하는 예제를 구현해보자.\n",
    "- 분해하려는 원본 행렬 R을 P와 Q로 분해한 뒤에 다시 P와 Q.T의 내적으로 예측 행렬을 만드는 예제\n",
    "\n",
    "\n",
    "1. 원본 행렬 R을 미정인 null값 (np.NaN)을 포함해 생성한다.\n",
    "2. 분해 행렬 P와 Q는 정규 분포를 가진 랜덤 값으로 초기화한다. (잠재 요인은 3으로 설정)"
   ]
  },
  {
   "cell_type": "code",
   "execution_count": 1,
   "metadata": {},
   "outputs": [],
   "source": [
    "import numpy as np\n",
    "\n",
    "# 원본 행렬 R 생성, 분해 행렬 P와 Q 초기화, 잠재 요인 차원 K는 3으로 설정.\n",
    "R = np.array([[4, np.NaN, np.NaN, 2, np.NaN],\n",
    "              [np.NaN, 5, np.NaN, 3, 1],\n",
    "              [np.NaN, np.NaN, 3, 4, 4],\n",
    "              [5, 2, 1, 2, np.NaN]])\n",
    "num_users, num_items = R.shape\n",
    "K = 3\n",
    "\n",
    "# P와 Q 행렬의 크기를 지정하고 정규 분포를 가진 임의의 값 입력한다.\n",
    "np.random.seed(1)\n",
    "P = np.random.normal(scale = 1./K, size = (num_users, K))\n",
    "Q = np.random.normal(scale = 1./K, size = (num_items, K))\n",
    "     "
   ]
  },
  {
   "cell_type": "markdown",
   "metadata": {},
   "source": [
    "실제 R 행렬과 예측 행렬의 오차를 구하는 get_rmse() 함수를 만든다. 다시 조합된 예측 행렬 값의 RMSE를 반환하는 함수."
   ]
  },
  {
   "cell_type": "code",
   "execution_count": 2,
   "metadata": {},
   "outputs": [],
   "source": [
    "from sklearn.metrics import mean_squared_error\n",
    "\n",
    "def get_rmse(R, P, Q, non_zeros):\n",
    "  error = 0\n",
    "\n",
    "  # 두 개의 분해된 행렬 P와 Q.T의 내적으로 예측 R 행렬 생성\n",
    "  full_pred_matrix = np.dot(P, Q.T)\n",
    "\n",
    "  # 실제 R 행렬에서 null이 아닌 값의 위치 인덱스를 추출해 실제 R 행렬과 예측 행렬의 RMSE 추출\n",
    "  x_non_zero_ind = [non_zero[0] for non_zero in non_zeros]\n",
    "  y_non_zero_ind = [non_zero[1] for non_zero in non_zeros]\n",
    "  R_non_zeros = R[x_non_zero_ind, y_non_zero_ind]\n",
    "  full_pred_matrix_non_zeros = full_pred_matrix[x_non_zero_ind, y_non_zero_ind]\n",
    "  mse = mean_squared_error(R_non_zeros, full_pred_matrix_non_zeros)\n",
    "  rmse = np.sqrt(mse)\n",
    "\n",
    "  return mse"
   ]
  },
  {
   "cell_type": "markdown",
   "metadata": {},
   "source": [
    "SGD를 기반으로 행렬 분해를 수행한다.\n",
    "- R에서 null값을 제외한 데이터의 행렬 인덱스를 추출한다.\n",
    "- steps : SGD를 반복해서 업데이트할 횟수\n",
    "- learning_rate : SGD의 학습률\n",
    "- r_lambda : L2 regularization 계수\n",
    "\n",
    "50회 반복할 때마다 오류 값을 출력하도록 함."
   ]
  },
  {
   "cell_type": "code",
   "execution_count": 3,
   "metadata": {},
   "outputs": [
    {
     "name": "stdout",
     "output_type": "stream",
     "text": [
      "### iteration step :  0 rmse :  10.47522280446722\n",
      "### iteration step :  50 rmse :  3.418585982566468\n",
      "### iteration step :  100 rmse :  3.273734855096425\n",
      "### iteration step :  150 rmse :  3.464220850838796\n",
      "### iteration step :  200 rmse :  3.4322385531999733\n",
      "### iteration step :  250 rmse :  3.3864046022230117\n",
      "### iteration step :  300 rmse :  3.27191594953962\n",
      "### iteration step :  350 rmse :  3.5611823070898994\n",
      "### iteration step :  400 rmse :  3.573074126162489\n",
      "### iteration step :  450 rmse :  3.5555201049264924\n",
      "### iteration step :  500 rmse :  3.5425397660106603\n",
      "### iteration step :  550 rmse :  3.5704393570420616\n",
      "### iteration step :  600 rmse :  3.6452169448009664\n",
      "### iteration step :  650 rmse :  3.7222722442802976\n",
      "### iteration step :  700 rmse :  3.7134141829891543\n",
      "### iteration step :  750 rmse :  3.148652364034001\n",
      "### iteration step :  800 rmse :  3.821174269088606\n",
      "### iteration step :  850 rmse :  3.7096692914597056\n",
      "### iteration step :  900 rmse :  3.7531498311026845\n",
      "### iteration step :  950 rmse :  3.89294514749716\n"
     ]
    }
   ],
   "source": [
    "# R > 0 인 행 위치, 열 위치, 값을 non_zeros 리스트에 저장\n",
    "non_zeros = [(i, j, R[i,j]) for i in range(num_users) for j in range(num_items) if R[i,j] >0]\n",
    "\n",
    "steps = 1000\n",
    "learning_rate = 0.01\n",
    "r_lambda = 0.01\n",
    "\n",
    "# SGD 기법으로 P와 Q 매트릭스를 계속 업데이트\n",
    "for step in range(steps):\n",
    "  for i, j, r in non_zeros:\n",
    "\n",
    "    # 실제 값과 예측 값의 차이인 오류 값을 구한다.\n",
    "    eij = r - np.dot(P[i,:], Q[j,:].T)\n",
    "\n",
    "    # Regularization을 반영한 SGD 업데이트 공식 적용\n",
    "    P[i,:] = P[i,:] + learning_rate*(eij*Q[j,:] - r_lambda*P[i,:])\n",
    "    Q[i,:] = Q[i,:] + learning_rate*(eij*P[i,:] - r_lambda*Q[j,:])\n",
    "\n",
    "  rmse = get_rmse(R, P, Q, non_zeros)\n",
    "  if (step % 50) == 0:\n",
    "    print('### iteration step : ', step, \"rmse : \",rmse)"
   ]
  },
  {
   "cell_type": "markdown",
   "metadata": {},
   "source": [
    "분해된 P, Q 함수를 P*Q.T로 예측 행렬을 만들어서 출력"
   ]
  },
  {
   "cell_type": "code",
   "execution_count": 5,
   "metadata": {},
   "outputs": [
    {
     "name": "stdout",
     "output_type": "stream",
     "text": [
      "예측 행렬 : \n",
      " [[  3.969 -17.204  16.879   2.011   0.496]\n",
      " [ -0.413   4.97   -1.872   3.044   0.075]\n",
      " [  0.892   0.247   3.106   4.226   0.271]\n",
      " [  0.316  -0.13   -1.4    -0.745   0.072]]\n"
     ]
    }
   ],
   "source": [
    "pred_matrix = np.dot(P, Q.T)\n",
    "print('예측 행렬 : \\n', np.round(pred_matrix, 3))"
   ]
  }
 ],
 "metadata": {
  "kernelspec": {
   "display_name": "Python 3",
   "language": "python",
   "name": "python3"
  },
  "language_info": {
   "codemirror_mode": {
    "name": "ipython",
    "version": 3
   },
   "file_extension": ".py",
   "mimetype": "text/x-python",
   "name": "python",
   "nbconvert_exporter": "python",
   "pygments_lexer": "ipython3",
   "version": "3.10.4"
  }
 },
 "nbformat": 4,
 "nbformat_minor": 2
}
