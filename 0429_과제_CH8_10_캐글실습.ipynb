{
 "cells": [
  {
   "cell_type": "markdown",
   "metadata": {},
   "source": [
    "과제: 파이썬 머신러닝 완벽 가이드 ch8.10\n",
    "\n",
    "마감: 5월 3일 금요일 18:30\n",
    "\n",
    "pg. 544~561 필사하여 깃허브 주소를 댓글로 남겨주세요."
   ]
  },
  {
   "cell_type": "markdown",
   "metadata": {},
   "source": [
    "# Chap8. 텍스트 분석"
   ]
  },
  {
   "cell_type": "markdown",
   "metadata": {},
   "source": [
    "## 8-10. 텍스트 분석 실습 - 캐글 Mercari Price Suggestion Challenge"
   ]
  },
  {
   "cell_type": "markdown",
   "metadata": {},
   "source": [
    "### 데이터 전처리"
   ]
  },
  {
   "cell_type": "code",
   "execution_count": 1,
   "metadata": {},
   "outputs": [
    {
     "name": "stdout",
     "output_type": "stream",
     "text": [
      "(1482535, 8)\n"
     ]
    }
   ],
   "source": [
    "from sklearn.linear_model import Ridge, LogisticRegression\n",
    "from sklearn.model_selection import train_test_split, cross_val_score\n",
    "from sklearn.feature_extraction.text import CountVectorizer, TfidfVectorizer\n",
    "import pandas as pd\n",
    "\n",
    "mercari_df = pd.read_csv('./data/mercari-price-suggestion-challenge/mercari_train.tsv', sep = '\\t')\n",
    "print(mercari_df.shape)"
   ]
  },
  {
   "cell_type": "code",
   "execution_count": 2,
   "metadata": {},
   "outputs": [
    {
     "data": {
      "text/html": [
       "<div>\n",
       "<style scoped>\n",
       "    .dataframe tbody tr th:only-of-type {\n",
       "        vertical-align: middle;\n",
       "    }\n",
       "\n",
       "    .dataframe tbody tr th {\n",
       "        vertical-align: top;\n",
       "    }\n",
       "\n",
       "    .dataframe thead th {\n",
       "        text-align: right;\n",
       "    }\n",
       "</style>\n",
       "<table border=\"1\" class=\"dataframe\">\n",
       "  <thead>\n",
       "    <tr style=\"text-align: right;\">\n",
       "      <th></th>\n",
       "      <th>train_id</th>\n",
       "      <th>name</th>\n",
       "      <th>item_condition_id</th>\n",
       "      <th>category_name</th>\n",
       "      <th>brand_name</th>\n",
       "      <th>price</th>\n",
       "      <th>shipping</th>\n",
       "      <th>item_description</th>\n",
       "    </tr>\n",
       "  </thead>\n",
       "  <tbody>\n",
       "    <tr>\n",
       "      <th>0</th>\n",
       "      <td>0</td>\n",
       "      <td>MLB Cincinnati Reds T Shirt Size XL</td>\n",
       "      <td>3</td>\n",
       "      <td>Men/Tops/T-shirts</td>\n",
       "      <td>NaN</td>\n",
       "      <td>10.0</td>\n",
       "      <td>1</td>\n",
       "      <td>No description yet</td>\n",
       "    </tr>\n",
       "    <tr>\n",
       "      <th>1</th>\n",
       "      <td>1</td>\n",
       "      <td>Razer BlackWidow Chroma Keyboard</td>\n",
       "      <td>3</td>\n",
       "      <td>Electronics/Computers &amp; Tablets/Components &amp; P...</td>\n",
       "      <td>Razer</td>\n",
       "      <td>52.0</td>\n",
       "      <td>0</td>\n",
       "      <td>This keyboard is in great condition and works ...</td>\n",
       "    </tr>\n",
       "    <tr>\n",
       "      <th>2</th>\n",
       "      <td>2</td>\n",
       "      <td>AVA-VIV Blouse</td>\n",
       "      <td>1</td>\n",
       "      <td>Women/Tops &amp; Blouses/Blouse</td>\n",
       "      <td>Target</td>\n",
       "      <td>10.0</td>\n",
       "      <td>1</td>\n",
       "      <td>Adorable top with a hint of lace and a key hol...</td>\n",
       "    </tr>\n",
       "  </tbody>\n",
       "</table>\n",
       "</div>"
      ],
      "text/plain": [
       "   train_id                                 name  item_condition_id  \\\n",
       "0         0  MLB Cincinnati Reds T Shirt Size XL                  3   \n",
       "1         1     Razer BlackWidow Chroma Keyboard                  3   \n",
       "2         2                       AVA-VIV Blouse                  1   \n",
       "\n",
       "                                       category_name brand_name  price  \\\n",
       "0                                  Men/Tops/T-shirts        NaN   10.0   \n",
       "1  Electronics/Computers & Tablets/Components & P...      Razer   52.0   \n",
       "2                        Women/Tops & Blouses/Blouse     Target   10.0   \n",
       "\n",
       "   shipping                                   item_description  \n",
       "0         1                                 No description yet  \n",
       "1         0  This keyboard is in great condition and works ...  \n",
       "2         1  Adorable top with a hint of lace and a key hol...  "
      ]
     },
     "execution_count": 2,
     "metadata": {},
     "output_type": "execute_result"
    }
   ],
   "source": [
    "mercari_df.head(3)"
   ]
  },
  {
   "cell_type": "code",
   "execution_count": 3,
   "metadata": {},
   "outputs": [
    {
     "name": "stdout",
     "output_type": "stream",
     "text": [
      "<class 'pandas.core.frame.DataFrame'>\n",
      "RangeIndex: 1482535 entries, 0 to 1482534\n",
      "Data columns (total 8 columns):\n",
      " #   Column             Non-Null Count    Dtype  \n",
      "---  ------             --------------    -----  \n",
      " 0   train_id           1482535 non-null  int64  \n",
      " 1   name               1482535 non-null  object \n",
      " 2   item_condition_id  1482535 non-null  int64  \n",
      " 3   category_name      1476208 non-null  object \n",
      " 4   brand_name         849853 non-null   object \n",
      " 5   price              1482535 non-null  float64\n",
      " 6   shipping           1482535 non-null  int64  \n",
      " 7   item_description   1482531 non-null  object \n",
      "dtypes: float64(1), int64(3), object(4)\n",
      "memory usage: 90.5+ MB\n",
      "None\n"
     ]
    }
   ],
   "source": [
    "print(mercari_df.info())"
   ]
  },
  {
   "cell_type": "markdown",
   "metadata": {},
   "source": [
    "- brand_name 칼럼에 null 값이 많다. \n",
    "- category_name 칼럼은 6300건 정도의 null 데이터가 있다.\n",
    "- item_description은 4개 정도의 null 데이터가 있다."
   ]
  },
  {
   "cell_type": "markdown",
   "metadata": {},
   "source": [
    "-----------\n",
    "#### target : price 칼럼"
   ]
  },
  {
   "cell_type": "code",
   "execution_count": 4,
   "metadata": {},
   "outputs": [
    {
     "name": "stderr",
     "output_type": "stream",
     "text": [
      "C:\\Users\\Public\\Documents\\ESTsoft\\CreatorTemp\\ipykernel_20544\\965257802.py:8: UserWarning: \n",
      "\n",
      "`distplot` is a deprecated function and will be removed in seaborn v0.14.0.\n",
      "\n",
      "Please adapt your code to use either `displot` (a figure-level function with\n",
      "similar flexibility) or `histplot` (an axes-level function for histograms).\n",
      "\n",
      "For a guide to updating your code to use the new functions, please see\n",
      "https://gist.github.com/mwaskom/de44147ed2974457ad6372750bbe5751\n",
      "\n",
      "  sns.distplot(y_train_df, kde = False)\n"
     ]
    },
    {
     "data": {
      "text/plain": [
       "<AxesSubplot:xlabel='price'>"
      ]
     },
     "execution_count": 4,
     "metadata": {},
     "output_type": "execute_result"
    },
    {
     "data": {
      "image/png": "[encoded data removed]",
      "text/plain": [
       "<Figure size 600x400 with 1 Axes>"
      ]
     },
     "metadata": {},
     "output_type": "display_data"
    }
   ],
   "source": [
    "# target 값인 price 칼럼의 데이터 분포도 확인\n",
    "import matplotlib.pyplot as plt\n",
    "import seaborn as sns\n",
    "%matplotlib inline\n",
    "\n",
    "y_train_df = mercari_df['price']\n",
    "plt.figure(figsize=(6, 4))\n",
    "sns.distplot(y_train_df, kde = False)"
   ]
  },
  {
   "cell_type": "code",
   "execution_count": 5,
   "metadata": {},
   "outputs": [
    {
     "data": {
      "text/plain": [
       "<AxesSubplot:xlabel='price', ylabel='Count'>"
      ]
     },
     "execution_count": 5,
     "metadata": {},
     "output_type": "execute_result"
    },
    {
     "data": {
      "image/png": "[encoded data removed]",
      "text/plain": [
       "<Figure size 640x480 with 1 Axes>"
      ]
     },
     "metadata": {},
     "output_type": "display_data"
    }
   ],
   "source": [
    "# price 값이 바교적 적은 가격에 왜곡되어 분포되어 있다.\n",
    "# log transformation을 취한 뒤 다시 확인\n",
    "import numpy as np\n",
    "\n",
    "y_train_df = np.log1p(y_train_df)\n",
    "sns.histplot(y_train_df, kde = False)"
   ]
  },
  {
   "cell_type": "markdown",
   "metadata": {},
   "source": [
    "price 값이 비교적 정규분포에 가까워졌다. "
   ]
  },
  {
   "cell_type": "code",
   "execution_count": 6,
   "metadata": {},
   "outputs": [
    {
     "data": {
      "text/plain": [
       "0    2.397895\n",
       "1    3.970292\n",
       "2    2.397895\n",
       "Name: price, dtype: float64"
      ]
     },
     "execution_count": 6,
     "metadata": {},
     "output_type": "execute_result"
    }
   ],
   "source": [
    "mercari_df['price'] = np.log1p(mercari_df['price'])\n",
    "mercari_df['price'].head(3)"
   ]
  },
  {
   "cell_type": "markdown",
   "metadata": {},
   "source": [
    "---------\n",
    "#### shipping 칼럼, item_condition_id 칼럼"
   ]
  },
  {
   "cell_type": "code",
   "execution_count": 7,
   "metadata": {},
   "outputs": [
    {
     "name": "stdout",
     "output_type": "stream",
     "text": [
      "Shipping 값 유형 : \n",
      " 0    819435\n",
      "1    663100\n",
      "Name: shipping, dtype: int64 \n",
      "\n",
      "\n",
      "item_condition_id 값 유형 : \n",
      " 1    640549\n",
      "3    432161\n",
      "2    375479\n",
      "4     31962\n",
      "5      2384\n",
      "Name: item_condition_id, dtype: int64\n"
     ]
    }
   ],
   "source": [
    "print('Shipping 값 유형 : \\n', mercari_df['shipping'].value_counts(),'\\n\\n')\n",
    "print('item_condition_id 값 유형 : \\n', mercari_df['item_condition_id'].value_counts())"
   ]
  },
  {
   "cell_type": "markdown",
   "metadata": {},
   "source": [
    "- shipping : 값이 비교적 균일\n",
    "- item_condition_id : 1, 2, 3이 주를 이룬다. description이 없는 경우 'No description yet'으로 되어 있다."
   ]
  },
  {
   "cell_type": "code",
   "execution_count": 8,
   "metadata": {},
   "outputs": [
    {
     "data": {
      "text/plain": [
       "82489"
      ]
     },
     "execution_count": 8,
     "metadata": {},
     "output_type": "execute_result"
    }
   ],
   "source": [
    "# 'item_description'칼럼의 No description yet을 살펴보자\n",
    "boolean_cond = mercari_df['item_description'] == 'No description yet'\n",
    "mercari_df[boolean_cond]['item_description'].count()"
   ]
  },
  {
   "cell_type": "markdown",
   "metadata": {},
   "source": [
    "----------\n",
    "#### category_name 칼럼"
   ]
  },
  {
   "cell_type": "markdown",
   "metadata": {},
   "source": [
    "'/'로 분리된 카테고리를 하나의 문자열로 나타내고 있다. 여기서는 category_name의 '/'를 기준으로 단어를 토큰화하여 별도의 피처로 저장하고 이를 이용하여 알고리즘을 학습시킨다.\n",
    "\n",
    "category_name 칼럼을 '/' 기준으로 대, 중, 소분류를 효과적으로 분리해내기 위해 별도의 split_cat() 함수를 생성하고 이를 apply lambda로 적용한다.\n",
    "\n",
    "- null이 아닌 경우에는 split('/')을 이용해 대, 중, 소분류로 분리한다. 이는 리스트로 반환된다.\n",
    "- null인 경우에는 split함수가 error를 발생하므로 이 error를 except catch하여 대, 중, 소분류 모두 'Other Null'값을 부여한다.\n",
    "- 대, 중, 소 칼럼은 mercari_df에서 cat_dae, cat_jung, cat_so로 부여한다.\n",
    "- pandas의 apply lambda로 반환되는 데이터 세트가 리스트를 요소로 갖고 있는데, 이것을 여러 칼럼으로 분류하는 것이 문제다. >> zip, *를 apply lambda식으로 분리한다"
   ]
  },
  {
   "cell_type": "code",
   "execution_count": 9,
   "metadata": {},
   "outputs": [
    {
     "data": {
      "text/plain": [
       "0                                    Men/Tops/T-shirts\n",
       "1    Electronics/Computers & Tablets/Components & P...\n",
       "2                          Women/Tops & Blouses/Blouse\n",
       "3                   Home/Home Décor/Home Décor Accents\n",
       "4                              Women/Jewelry/Necklaces\n",
       "5                                    Women/Other/Other\n",
       "6                             Women/Swimwear/Two-Piece\n",
       "7                      Sports & Outdoors/Apparel/Girls\n",
       "8                      Sports & Outdoors/Apparel/Girls\n",
       "9             Vintage & Collectibles/Collectibles/Doll\n",
       "Name: category_name, dtype: object"
      ]
     },
     "execution_count": 9,
     "metadata": {},
     "output_type": "execute_result"
    }
   ],
   "source": [
    "mercari_df['category_name'].head(10)"
   ]
  },
  {
   "cell_type": "code",
   "execution_count": 10,
   "metadata": {},
   "outputs": [],
   "source": [
    "# apply lambda에서 호출되는 대, 중, 소 분할 함수 생성\n",
    "# 대, 중, 소 값을 리스트로 반환\n",
    "\n",
    "def split_cat(category_name):\n",
    "    try :\n",
    "        return category_name.split('/')\n",
    "    except :\n",
    "        return ['Other_Null', 'Other_Null', 'Other_Null']\n",
    "    \n",
    "\n",
    "# 위의 split_cat()을 apply_lambda에서 호출해 대, 중, 소 칼럼을 mercar9_df에 생성\n",
    "mercari_df['cat_dae'], mercari_df['cat_jung'], mercari_df['cat_so'] = zip(*mercari_df['category_name'].apply(lambda x : split_cat(x)))"
   ]
  },
  {
   "cell_type": "code",
   "execution_count": 11,
   "metadata": {},
   "outputs": [
    {
     "name": "stdout",
     "output_type": "stream",
     "text": [
      "대분류 유형 : \n",
      "\n",
      " Women                     664385\n",
      "Beauty                    207828\n",
      "Kids                      171689\n",
      "Electronics               122690\n",
      "Men                        93680\n",
      "Home                       67871\n",
      "Vintage & Collectibles     46530\n",
      "Other                      45351\n",
      "Handmade                   30842\n",
      "Sports & Outdoors          25342\n",
      "Other_Null                  6327\n",
      "Name: cat_dae, dtype: int64 \n",
      "\n",
      "\n",
      "중분류 개수 :  114 \n",
      "\n",
      "\n",
      "소분류 개수 :  871\n"
     ]
    }
   ],
   "source": [
    "# 대분류만 값의 유형과 건수를 살펴보고, 중분류, 소분류는 값의 유형이 많으므로 분류 개수만 추출\n",
    "\n",
    "print('대분류 유형 : \\n\\n', mercari_df['cat_dae'].value_counts(), '\\n\\n')\n",
    "print('중분류 개수 : ', mercari_df['cat_jung'].nunique(), '\\n\\n')\n",
    "print('소분류 개수 : ', mercari_df['cat_so'].nunique())"
   ]
  },
  {
   "cell_type": "markdown",
   "metadata": {},
   "source": [
    "----\n",
    "#### 결측치 처리\n",
    "brand_name, category_name, item_description 칼럼의 null은 일괄적으로 'Other Null'로 변경"
   ]
  },
  {
   "cell_type": "code",
   "execution_count": 12,
   "metadata": {},
   "outputs": [
    {
     "data": {
      "text/plain": [
       "train_id             0\n",
       "name                 0\n",
       "item_condition_id    0\n",
       "category_name        0\n",
       "brand_name           0\n",
       "price                0\n",
       "shipping             0\n",
       "item_description     0\n",
       "cat_dae              0\n",
       "cat_jung             0\n",
       "cat_so               0\n",
       "dtype: int64"
      ]
     },
     "execution_count": 12,
     "metadata": {},
     "output_type": "execute_result"
    }
   ],
   "source": [
    "mercari_df['brand_name'] = mercari_df['brand_name'].fillna(value = 'Other_Null')\n",
    "mercari_df['category_name'] = mercari_df['category_name'].fillna(value = 'Other_Null')\n",
    "mercari_df['item_description'] = mercari_df['item_description'].fillna(value = 'Other_Null')\n",
    "\n",
    "# 각 칼럼별로 Null 값 건수 확인, 모두 0이 나와야 한다.\n",
    "mercari_df.isnull().sum()"
   ]
  },
  {
   "cell_type": "markdown",
   "metadata": {},
   "source": [
    "---------\n",
    "### 피처 인코딩과 피처 벡터화"
   ]
  },
  {
   "cell_type": "markdown",
   "metadata": {},
   "source": [
    "문자열 칼럼이 많으므로 이 중 레이블 인코딩 또는 원핫 인코딩을 수행하거나 피처 벡터화로 변환할 칼럼을 선별해보자. 먼저 이 피처를 어떤 방식으로 변환할지 검토한 후에 일괄적으로 변환작업을 수행하자.\n",
    "\n",
    "Mercari Price Suggestion에서 예측 모델은 price 값, 즉 상품 가격을 예측해야 하므로 회귀 모델을 기반으로 한다. 선형 회귀 모델과 회귀 트리 모델을 모두 적용할 예정이다.\n",
    "- 선형 회귀 : 원-핫 인코딩 적용이 훨씬 선호되므로 이때 인코딩할 피처는 모두 원-핫 인코딩을 적용한다.\n",
    "- 피처 벡터화 : 비교적 짧은 텍스트는 Count 기반의 벡터화를, 긴 텍스트는 TF-IDF 기반의 벡터화를 적용한다."
   ]
  },
  {
   "cell_type": "markdown",
   "metadata": {},
   "source": [
    "----------\n",
    "#### brand_name\n",
    "유형 건수와 대표 브랜드 5개만 알아보자"
   ]
  },
  {
   "cell_type": "code",
   "execution_count": 13,
   "metadata": {},
   "outputs": [
    {
     "name": "stdout",
     "output_type": "stream",
     "text": [
      "brand name의 유형 건수 :  4810\n",
      "brand name sample 5건 : \n",
      " Other_Null           632682\n",
      "PINK                  54088\n",
      "Nike                  54043\n",
      "Victoria's Secret     48036\n",
      "LuLaRoe               31024\n",
      "Name: brand_name, dtype: int64\n"
     ]
    }
   ],
   "source": [
    "print('brand name의 유형 건수 : ', mercari_df['brand_name'].nunique())\n",
    "print('brand name sample 5건 : \\n', mercari_df['brand_name'].value_counts()[:5])"
   ]
  },
  {
   "cell_type": "markdown",
   "metadata": {},
   "source": [
    "brand_name의 경우 대부분 명료한 문자열로 되어 있어 별도의 피처 벡터화 형태로 만들 필요 없이 인코딩 변환을 적용하면 된다. 4810건으로 원-핫 인코딩 변환하기엔 다소 많아보이나 ML 모델 구축상 큰 문제는 없다. "
   ]
  },
  {
   "cell_type": "markdown",
   "metadata": {},
   "source": [
    "------\n",
    "#### name : 상품명\n",
    "어떤 유형으로 되어 있는지 유형 건수와 상품명을 7개만 추출해본다."
   ]
  },
  {
   "cell_type": "code",
   "execution_count": 14,
   "metadata": {},
   "outputs": [
    {
     "name": "stdout",
     "output_type": "stream",
     "text": [
      "name의 종류 개수 :  1225273\n",
      "name sample 10건 : \n",
      " 0       MLB Cincinnati Reds T Shirt Size XL\n",
      "1          Razer BlackWidow Chroma Keyboard\n",
      "2                            AVA-VIV Blouse\n",
      "3                     Leather Horse Statues\n",
      "4                      24K GOLD plated rose\n",
      "5          Bundled items requested for Ruie\n",
      "6        Acacia pacific tides santorini top\n",
      "7      Girls cheer and tumbling bundle of 7\n",
      "8                     Girls Nike Pro shorts\n",
      "9    Porcelain clown doll checker pants VTG\n",
      "Name: name, dtype: object\n"
     ]
    }
   ],
   "source": [
    "print('name의 종류 개수 : ', mercari_df['name'].nunique())\n",
    "print('name sample 10건 : \\n', mercari_df['name'][:10])"
   ]
  },
  {
   "cell_type": "markdown",
   "metadata": {},
   "source": [
    "유형이 매우 많고, 적은 단어 위주위 텍스트 형태로 되어 있으므로 Count 기반으로 피처 벡터화 변환을 적용한다.\n",
    "\n",
    "- category_name : 이전의 전처리를 통해 대분류, 중분류, 소분류인 cat_dae, cat_jung, cat_so로 분리되었다. 이 세 칼럼도 원-핫 인코딩을 적용한다.\n",
    "- shipping : 배송비 무료 여부로, 0과 1 두 유형의 값을 갖는다. 원-핫 인코딩을 적용한다.\n",
    "- item_condition_id : 상품 상태로, 1-5까지 5개의 유형의 값을 갖는다. 원-핫 인코딩을 적용한다.\n",
    "- item_description : 상품에 대한 간단한 설명, 데이터셋에서 가장 긴 텍스트를 갖는다. 칼럼의 평균 문자열 크기와 텍스트 2개만 추출해보자."
   ]
  },
  {
   "cell_type": "code",
   "execution_count": 16,
   "metadata": {},
   "outputs": [
    {
     "name": "stdout",
     "output_type": "stream",
     "text": [
      "item_description 평균 문자열 크기 :  145.7113889385411\n"
     ]
    },
    {
     "data": {
      "text/plain": [
       "0                                                                                                                                                                              No description yet\n",
       "1    This keyboard is in great condition and works like it came out of the box. All of the ports are tested and work perfectly. The lights are customizable via the Razer Synapse app on your PC.\n",
       "Name: item_description, dtype: object"
      ]
     },
     "execution_count": 16,
     "metadata": {},
     "output_type": "execute_result"
    }
   ],
   "source": [
    "pd.set_option('max_colwidth', 200)\n",
    "\n",
    "# item_description 평균 문자열 크기\n",
    "print('item_description 평균 문자열 크기 : ', mercari_df['item_description'].str.len().mean())\n",
    "\n",
    "mercari_df['item_description'][:2]"
   ]
  },
  {
   "cell_type": "markdown",
   "metadata": {},
   "source": [
    "평균 문자열이 145자로 비교적 크므로, TF-IDF로 변환한다.\n",
    "\n",
    "------\n",
    "\n",
    "#### 주요 칼럼 인코딩 및 피처 벡터화\n",
    "- name : CountVectorizer로 피처 벡터화 (기본 파라미터)\n",
    "- item_description : TfidfVectorizer로 피처 벡터화 (max_features = 50000, n_gram = (1, 3), stop_words = english)"
   ]
  },
  {
   "cell_type": "code",
   "execution_count": 17,
   "metadata": {},
   "outputs": [
    {
     "name": "stdout",
     "output_type": "stream",
     "text": [
      "name vectorization shape :  (1482535, 105757)\n",
      "item_description vectorization shape :  (1482535, 50000)\n"
     ]
    }
   ],
   "source": [
    "# name 속성에 대한 피처 벡터화 변환\n",
    "cnt_vec = CountVectorizer()\n",
    "X_name = cnt_vec.fit_transform(mercari_df.name)\n",
    "\n",
    "# item_description에 대한 피처 벡터화 변환\n",
    "tfidf_descp = TfidfVectorizer(max_features=50000, ngram_range=(1,3), stop_words = 'english')\n",
    "X_descp = tfidf_descp.fit_transform(mercari_df['item_description'])\n",
    "\n",
    "print('name vectorization shape : ', X_name.shape)\n",
    "print('item_description vectorization shape : ', X_descp.shape)"
   ]
  },
  {
   "cell_type": "markdown",
   "metadata": {},
   "source": [
    "-----\n",
    "CountVectorizer, TfidfVectorizer가 fit_transform을 통해 반환하는 데이터는 희소 행렬 형태이다. 희소 행렬 객체 변수인 X_name과 X_descp를 새로 결합해 새로운 뎅터 세트로 구성해야 하며, 앞으로 인코딩될 칼럼들도 모두 X_name, X_descp와 결합되어 ML 모델을 실행하는 기반 데이터 세트로 재구성되어야 한다.\n",
    "\n",
    "이를 위해 다음과 같은 과정을 거친다. \n",
    "1. 이 인코딩 대상 칼럼도 밀집 행렬 형태가 아닌 희소 행렬 형태로 인코딩을 적용한 뒤, 함께 결합한다.\n",
    "2. LabelBinarizer 클래스는 희소 행렬 형태의 원-핫 인코딩 변환을 지원한다. 생성시 sparse_out = True로 파라미터를 설정해주면 된다.\n",
    "3. 개별 칼럼으로 만들어진 희소 행렬은 scipy 패키지 sparse 모듈의 hstack()함수를 이용해 결합한다. hstack()함수는 희소 행렬을 손쉽게 칼럼 레벨로 결합할 수 있게 해준다."
   ]
  },
  {
   "cell_type": "markdown",
   "metadata": {},
   "source": [
    "1. 인코딩 대상 칼럼을 모두 LabelBinarizer로 원-핫 인코딩 변환한다"
   ]
  },
  {
   "cell_type": "code",
   "execution_count": 18,
   "metadata": {},
   "outputs": [],
   "source": [
    "from sklearn.preprocessing import LabelBinarizer\n",
    "\n",
    "# brand_name, item_condition_id, shipping 각 피처들을 희소 행렬 원-핫 인코딩 변환\n",
    "lb_brand_name = LabelBinarizer(sparse_output = True)\n",
    "X_brand = lb_brand_name.fit_transform(mercari_df['brand_name'])\n",
    "lb_item_cond_id = LabelBinarizer(sparse_output = True)\n",
    "X_item_cond_id = lb_item_cond_id.fit_transform(mercari_df['item_condition_id'])\n",
    "lb_shipping = LabelBinarizer(sparse_output = True)\n",
    "X_shipping = lb_shipping.fit_transform(mercari_df['shipping'])\n",
    "\n",
    "# cat_dae, cat_jung, cat_so 각 피처들을 희소 행렬 원-핫 인코딩 변환\n",
    "lb_cat_dae = LabelBinarizer(sparse_output = True)\n",
    "X_cat_dae = lb_cat_dae.fit_transform(mercari_df[\"cat_dae\"])\n",
    "lb_cat_jung = LabelBinarizer(sparse_output = True)\n",
    "X_cat_jung = lb_cat_jung.fit_transform(mercari_df[\"cat_jung\"])\n",
    "lb_cat_so = LabelBinarizer(sparse_output = True)\n",
    "X_cat_so = lb_cat_so.fit_transform(mercari_df[\"cat_so\"])"
   ]
  },
  {
   "cell_type": "markdown",
   "metadata": {},
   "source": [
    "제대로 변환되었는지 생성된 인코딩 데이터 세트를 살펴본다."
   ]
  },
  {
   "cell_type": "code",
   "execution_count": 19,
   "metadata": {},
   "outputs": [
    {
     "name": "stdout",
     "output_type": "stream",
     "text": [
      "<class 'scipy.sparse._csr.csr_matrix'> <class 'scipy.sparse._csr.csr_matrix'> <class 'scipy.sparse._csr.csr_matrix'>\n",
      "X_brand shape : (1482535, 4810), X_item_cond_id shape : (1482535, 5)\n",
      "X_shipping shape : (1482535, 1), X_cat_dae shape : (1482535, 11)\n",
      "X_cat_jung shape: (1482535, 114), X_cat_so shape : (1482535, 871)\n"
     ]
    }
   ],
   "source": [
    "print(type(X_brand), type(X_item_cond_id), type(X_shipping))\n",
    "print(\"X_brand shape : {0}, X_item_cond_id shape : {1}\".format(X_brand.shape, X_item_cond_id.shape))\n",
    "print(\"X_shipping shape : {0}, X_cat_dae shape : {1}\".format(X_shipping.shape, X_cat_dae.shape))\n",
    "print(\"X_cat_jung shape: {0}, X_cat_so shape : {1}\".format(X_cat_jung.shape, X_cat_so.shape))"
   ]
  },
  {
   "cell_type": "markdown",
   "metadata": {},
   "source": [
    "- 인코딩 변환된 데이터 세트가 CSR 형태로 변환된 csr_matrix 타입이다. \n",
    "- brand_name 칼럼의 경우 유형이 4810개이므로 이를 원-핫 인코딩으로 변환한 X_brand_shape의 경우 4810개의 인코딩 칼럼을 가지게 되었다.\n",
    "- 인코딩 칼럼이 매우 많이 생겼지만, 피처 벡터화로 텍스트 형태의 문자열이 가지는 벡터 형태의 경우 매우 많은 칼럼과 함께 결합되므로 크게 문제 되지는 않는다."
   ]
  },
  {
   "cell_type": "markdown",
   "metadata": {},
   "source": [
    "2. hstack()으로 피처 벡터화 변환한 데이터 세트와 희소 인코딩 변환된 데이터 세트를 결합한다.\n",
    "만들어진 결합 데이터가 비교적 많은 메모리를 잡아먹기 때문에 del과 gc.collect()으로 결합한 데이터를 메모리에서 삭제한다."
   ]
  },
  {
   "cell_type": "code",
   "execution_count": 20,
   "metadata": {},
   "outputs": [
    {
     "name": "stdout",
     "output_type": "stream",
     "text": [
      "<class 'scipy.sparse._csr.csr_matrix'> (1482535, 161569)\n"
     ]
    },
    {
     "data": {
      "text/plain": [
       "166"
      ]
     },
     "execution_count": 20,
     "metadata": {},
     "output_type": "execute_result"
    }
   ],
   "source": [
    "from scipy.sparse import hstack\n",
    "import gc\n",
    "\n",
    "sparse_matrix_list = (X_name, X_descp, X_brand, X_item_cond_id, \n",
    "                      X_shipping, X_cat_dae, X_cat_jung, X_cat_so)\n",
    "\n",
    "# hstack 함수를 이용해 인코딩과 벡터화를 수행한 데이터 세트를 모두 결합\n",
    "X_features_sparse = hstack(sparse_matrix_list).tocsr()\n",
    "print(type(X_features_sparse), X_features_sparse.shape)\n",
    "\n",
    "# 데이터 세트가 메모리를 많이 차지하므로 사용 목적이 끝났으면 바로 메모리에서 삭제.\n",
    "del X_features_sparse\n",
    "gc.collect()"
   ]
  },
  {
   "cell_type": "markdown",
   "metadata": {},
   "source": [
    "------\n",
    "### 릿지 회귀 모델 구축 및 평가\n",
    "이제 이렇게 만들어진 데이터 세트에 회귀를 적용해 price 값을 예측하는 모델을 만들자."
   ]
  },
  {
   "cell_type": "markdown",
   "metadata": {},
   "source": [
    "#### 로직 함수화\n",
    "여러 알고리즘 모델과 희소 행렬을 변환하고 예측 성능을 비교하면서 수행할 것이므로 수행에 필요한 로직을 함수화한다.\n",
    "1. 모델을 평가하는 평가(Evaluation) 로직 함수화 : RMSLE 사용\n",
    "2. RMSLE를 구하는 함수 : price값을 다시 지수 변환을 통해 원복해야하는 것 유의\n",
    "3. evaluate_org_price(y_test, y_pred)함수 : 원복된 데이터를 기반으로 RMSLE 적용하는 함수"
   ]
  },
  {
   "cell_type": "code",
   "execution_count": 21,
   "metadata": {},
   "outputs": [],
   "source": [
    "def rmsle(y, y_pred):\n",
    "    # underflow, overflow를 막기 위해 log가 아닌 log1p로 rmsle 계산\n",
    "    return np.sqrt(np.mean(np.power(np.log1p(y) - np.log1p(y_pred), 2) ))"
   ]
  },
  {
   "cell_type": "code",
   "execution_count": 22,
   "metadata": {},
   "outputs": [],
   "source": [
    "def evaluate_org_price(y_test, preds):\n",
    "\n",
    "    # 원본 데이터는 log1p로 변환되었으므로 exmpm1로 원복 필요\n",
    "    preds_exmpm = np.expm1(preds)\n",
    "    y_test_exmpm = np.expm1(y_test)\n",
    "\n",
    "    # rmsle로 RMSLE 값 추출\n",
    "    rmsle_result = rmsle(y_test_exmpm, preds_exmpm)\n",
    "    return rmsle_result"
   ]
  },
  {
   "cell_type": "code",
   "execution_count": 23,
   "metadata": {},
   "outputs": [],
   "source": [
    "import gc\n",
    "from scipy.sparse import hstack\n",
    "\n",
    "def model_train_predict(model, matrix_list):\n",
    "    # scipy.sparse 모듈의 hstack을 이용해 희소 행렬 결합\n",
    "    X = hstack(matrix_list).tocsr()\n",
    "    X_train, X_test, y_train, y_test = train_test_split(X, mercari_df[\"price\"],\n",
    "                                                       test_size=0.2, random_state=156)\n",
    "    # 모델 학습 및 예측\n",
    "    model.fit(X_train, y_train)\n",
    "    preds = model.predict(X_test)\n",
    "\n",
    "    del X, X_train, X_test, y_train\n",
    "    gc.collect()\n",
    "\n",
    "    return preds, y_test"
   ]
  },
  {
   "cell_type": "markdown",
   "metadata": {},
   "source": [
    "----------\n",
    "\n",
    "Ridge를 이용해 Mercari Price의 회귀 예측 수행\n",
    "\n",
    "예측 수행 전에 Mercari 상품 가격 예측에 item_description과 같은 텍스트 형태의 속성이 얼마나 영향을 미치는지 확인해본다"
   ]
  },
  {
   "cell_type": "code",
   "execution_count": 24,
   "metadata": {},
   "outputs": [
    {
     "name": "stdout",
     "output_type": "stream",
     "text": [
      "Item Description을 제외했을 때 rmsle 값 :  0.498426733103894\n",
      "Item Description을 포함했을 때 rmsle 값: 0.5109085551253141\n"
     ]
    }
   ],
   "source": [
    "# item_description 속성의 피처 벡터화 데이터가 포함되지 않았을 때의 예측 성능\n",
    "linear_model = Ridge(solver = \"lsqr\", fit_intercept = False)\n",
    "\n",
    "sparse_matrix_list = (X_name, X_brand, X_item_cond_id, \n",
    "                      X_shipping, X_cat_dae, X_cat_jung, X_cat_so)\n",
    "\n",
    "linear_preds, y_test = model_train_predict(model = linear_model, matrix_list = sparse_matrix_list)\n",
    "print(\"Item Description을 제외했을 때 rmsle 값 : \", evaluate_org_price(y_test, linear_preds))\n",
    "\n",
    "# item_description 속성의 피처 벡터화 데이터가 포함되었을 때의 예측 성능\n",
    "sparse_matrix_list = (X_descp, X_brand, X_item_cond_id,\n",
    "                      X_shipping, X_cat_dae, X_cat_jung, X_cat_so)\n",
    "\n",
    "linear_preds, y_test = model_train_predict(model = linear_model, matrix_list = sparse_matrix_list)\n",
    "\n",
    "print(\"Item Description을 포함했을 때 rmsle 값:\", evaluate_org_price(y_test, linear_preds))"
   ]
  },
  {
   "cell_type": "markdown",
   "metadata": {},
   "source": [
    "--------\n",
    "### LightGBM 회귀 모델 구축과 앙상블을 이용한 최종 예측 평가"
   ]
  },
  {
   "cell_type": "markdown",
   "metadata": {},
   "source": [
    "LGBM을 이용해 회귀를 수행한 뒤, 위에서 구한 릿지 모델 예측값과 LGBM 모델 예측값을 간단한 앙상블 방식으로 섞어서 최종 회귀 예측값을 평가하자"
   ]
  },
  {
   "cell_type": "code",
   "execution_count": 25,
   "metadata": {},
   "outputs": [
    {
     "name": "stdout",
     "output_type": "stream",
     "text": [
      "LightGBM rmsle 값 :  0.5008074618917219\n"
     ]
    }
   ],
   "source": [
    "from lightgbm import LGBMRegressor\n",
    "\n",
    "sparse_matrix_list = (X_descp, X_brand, X_item_cond_id,\n",
    "                      X_shipping, X_cat_dae, X_cat_jung, X_cat_so)\n",
    "\n",
    "lgbm_model = LGBMRegressor(n_estimators = 100, learning_rate = 0.5, num_leaves = 125, random_state=156)\n",
    "lgbm_preds, y_test = model_train_predict(model = lgbm_model, matrix_list = sparse_matrix_list)\n",
    "print(\"LightGBM rmsle 값 : \", evaluate_org_price(y_test, lgbm_preds))"
   ]
  },
  {
   "cell_type": "code",
   "execution_count": 26,
   "metadata": {},
   "outputs": [
    {
     "name": "stdout",
     "output_type": "stream",
     "text": [
      "LightGBM과 Ridge를 ensemble한 최종 rmsle 값 :  0.4937656982768922\n"
     ]
    }
   ],
   "source": [
    "preds = lgbm_preds * 0.45 + linear_preds * 0.55\n",
    "\n",
    "print(\"LightGBM과 Ridge를 ensemble한 최종 rmsle 값 : \", evaluate_org_price(y_test, preds))"
   ]
  }
 ],
 "metadata": {
  "kernelspec": {
   "display_name": "Python 3",
   "language": "python",
   "name": "python3"
  },
  "language_info": {
   "codemirror_mode": {
    "name": "ipython",
    "version": 3
   },
   "file_extension": ".py",
   "mimetype": "text/x-python",
   "name": "python",
   "nbconvert_exporter": "python",
   "pygments_lexer": "ipython3",
   "version": "3.10.4"
  }
 },
 "nbformat": 4,
 "nbformat_minor": 2
}
