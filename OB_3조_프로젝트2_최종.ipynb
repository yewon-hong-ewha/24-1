{
  "nbformat": 4,
  "nbformat_minor": 0,
  "metadata": {
    "colab": {
      "provenance": [],
      "authorship_tag": "ABX9TyOhpg1zF48/yWBzDKFBVLBP"
    },
    "kernelspec": {
      "name": "python3",
      "display_name": "Python 3"
    },
    "language_info": {
      "name": "python"
    }
  },
  "cells": [
    {
      "cell_type": "markdown",
      "source": [
        "\n",
        "# ESAA 24-1 OB 3조 Project2\n",
        "\n",
        "[[월간 데이콘 소설 작가 분류 AI 경진대회]](https://dacon.io/competitions/official/235670/overview/description)\n",
        "\n"
      ],
      "metadata": {
        "id": "WvOqoEuAa-ME"
      }
    },
    {
      "cell_type": "code",
      "source": [
        "import pandas as pd\n",
        "import numpy as np\n",
        "import matplotlib.pyplot as plt\n",
        "import seaborn as sns\n",
        "import string\n",
        "import re\n",
        "\n",
        "import tensorflow as tf\n",
        "from tensorflow.keras.preprocessing.sequence import pad_sequences\n",
        "from tensorflow.keras.preprocessing.text import Tokenizer\n",
        "\n",
        "\n",
        "import nltk\n",
        "from nltk.corpus import stopwords\n",
        "nltk.download('stopwords')\n",
        "nltk.download('punkt')\n",
        "\n",
        "import warnings\n",
        "warnings.filterwarnings(action='ignore')"
      ],
      "metadata": {
        "colab": {
          "base_uri": "https://localhost:8080/"
        },
        "id": "E3ChIH_9fsEK",
        "outputId": "fc93d125-ebb7-418f-ec43-7393faa27f5e"
      },
      "execution_count": null,
      "outputs": [
        {
          "output_type": "stream",
          "name": "stderr",
          "text": [
            "[nltk_data] Downloading package stopwords to /root/nltk_data...\n",
            "[nltk_data]   Package stopwords is already up-to-date!\n"
          ]
        }
      ]
    },
    {
      "cell_type": "markdown",
      "source": [
        "## 1. 데이터"
      ],
      "metadata": {
        "id": "ozaCdY_bf5wg"
      }
    },
    {
      "cell_type": "code",
      "source": [
        "from google.colab import drive\n",
        "drive.mount('/content/drive')"
      ],
      "metadata": {
        "colab": {
          "base_uri": "https://localhost:8080/"
        },
        "id": "murUIfCZgC6R",
        "outputId": "918a73f0-c199-42e6-c8d2-e0d4c0c248c2"
      },
      "execution_count": null,
      "outputs": [
        {
          "output_type": "stream",
          "name": "stdout",
          "text": [
            "Mounted at /content/drive\n"
          ]
        }
      ]
    },
    {
      "cell_type": "code",
      "source": [
        "#파일 불러오기\n",
        "train = pd.read_csv('/content/drive/MyDrive/ESAA/OB/data/project2/train.csv', encoding = 'utf-8')\n",
        "test = pd.read_csv('/content/drive/MyDrive/ESAA/OB/data/project2/test_x.csv', encoding = 'utf-8')\n",
        "submission = pd.read_csv('/content/drive/MyDrive/ESAA/OB/data/project2/sample_submission.csv', encoding = 'utf-8')"
      ],
      "metadata": {
        "id": "7-LRlv5-f8c3"
      },
      "execution_count": null,
      "outputs": []
    },
    {
      "cell_type": "code",
      "source": [
        "#train 데이터 살펴보기\n",
        "train"
      ],
      "metadata": {
        "colab": {
          "base_uri": "https://localhost:8080/",
          "height": 423
        },
        "id": "oOTD8g2tg53v",
        "outputId": "c8e9d816-1020-4adc-d6e2-3f224d01c384"
      },
      "execution_count": null,
      "outputs": [
        {
          "output_type": "execute_result",
          "data": {
            "text/plain": [
              "       index                                               text  author\n",
              "0          0  He was almost choking. There was so much, so m...       3\n",
              "1          1             “Your sister asked for it, I suppose?”       2\n",
              "2          2   She was engaged one day as she walked, in per...       1\n",
              "3          3  The captain was in the porch, keeping himself ...       4\n",
              "4          4  “Have mercy, gentlemen!” odin flung up his han...       3\n",
              "...      ...                                                ...     ...\n",
              "54874  54874  “Is that you, Mr. Smith?” odin whispered. “I h...       2\n",
              "54875  54875  I told my plan to the captain, and between us ...       4\n",
              "54876  54876   \"Your sincere well-wisher, friend, and sister...       1\n",
              "54877  54877            “Then you wanted me to lend you money?”       3\n",
              "54878  54878  It certainly had not occurred to me before, bu...       0\n",
              "\n",
              "[54879 rows x 3 columns]"
            ],
            "text/html": [
              "\n",
              "  <div id=\"df-25b826fd-6970-4d63-af84-3c25735dd87d\" class=\"colab-df-container\">\n",
              "    <div>\n",
              "<style scoped>\n",
              "    .dataframe tbody tr th:only-of-type {\n",
              "        vertical-align: middle;\n",
              "    }\n",
              "\n",
              "    .dataframe tbody tr th {\n",
              "        vertical-align: top;\n",
              "    }\n",
              "\n",
              "    .dataframe thead th {\n",
              "        text-align: right;\n",
              "    }\n",
              "</style>\n",
              "<table border=\"1\" class=\"dataframe\">\n",
              "  <thead>\n",
              "    <tr style=\"text-align: right;\">\n",
              "      <th></th>\n",
              "      <th>index</th>\n",
              "      <th>text</th>\n",
              "      <th>author</th>\n",
              "    </tr>\n",
              "  </thead>\n",
              "  <tbody>\n",
              "    <tr>\n",
              "      <th>0</th>\n",
              "      <td>0</td>\n",
              "      <td>He was almost choking. There was so much, so m...</td>\n",
              "      <td>3</td>\n",
              "    </tr>\n",
              "    <tr>\n",
              "      <th>1</th>\n",
              "      <td>1</td>\n",
              "      <td>“Your sister asked for it, I suppose?”</td>\n",
              "      <td>2</td>\n",
              "    </tr>\n",
              "    <tr>\n",
              "      <th>2</th>\n",
              "      <td>2</td>\n",
              "      <td>She was engaged one day as she walked, in per...</td>\n",
              "      <td>1</td>\n",
              "    </tr>\n",
              "    <tr>\n",
              "      <th>3</th>\n",
              "      <td>3</td>\n",
              "      <td>The captain was in the porch, keeping himself ...</td>\n",
              "      <td>4</td>\n",
              "    </tr>\n",
              "    <tr>\n",
              "      <th>4</th>\n",
              "      <td>4</td>\n",
              "      <td>“Have mercy, gentlemen!” odin flung up his han...</td>\n",
              "      <td>3</td>\n",
              "    </tr>\n",
              "    <tr>\n",
              "      <th>...</th>\n",
              "      <td>...</td>\n",
              "      <td>...</td>\n",
              "      <td>...</td>\n",
              "    </tr>\n",
              "    <tr>\n",
              "      <th>54874</th>\n",
              "      <td>54874</td>\n",
              "      <td>“Is that you, Mr. Smith?” odin whispered. “I h...</td>\n",
              "      <td>2</td>\n",
              "    </tr>\n",
              "    <tr>\n",
              "      <th>54875</th>\n",
              "      <td>54875</td>\n",
              "      <td>I told my plan to the captain, and between us ...</td>\n",
              "      <td>4</td>\n",
              "    </tr>\n",
              "    <tr>\n",
              "      <th>54876</th>\n",
              "      <td>54876</td>\n",
              "      <td>\"Your sincere well-wisher, friend, and sister...</td>\n",
              "      <td>1</td>\n",
              "    </tr>\n",
              "    <tr>\n",
              "      <th>54877</th>\n",
              "      <td>54877</td>\n",
              "      <td>“Then you wanted me to lend you money?”</td>\n",
              "      <td>3</td>\n",
              "    </tr>\n",
              "    <tr>\n",
              "      <th>54878</th>\n",
              "      <td>54878</td>\n",
              "      <td>It certainly had not occurred to me before, bu...</td>\n",
              "      <td>0</td>\n",
              "    </tr>\n",
              "  </tbody>\n",
              "</table>\n",
              "<p>54879 rows × 3 columns</p>\n",
              "</div>\n",
              "    <div class=\"colab-df-buttons\">\n",
              "\n",
              "  <div class=\"colab-df-container\">\n",
              "    <button class=\"colab-df-convert\" onclick=\"convertToInteractive('df-25b826fd-6970-4d63-af84-3c25735dd87d')\"\n",
              "            title=\"Convert this dataframe to an interactive table.\"\n",
              "            style=\"display:none;\">\n",
              "\n",
              "  <svg xmlns=\"http://www.w3.org/2000/svg\" height=\"24px\" viewBox=\"0 -960 960 960\">\n",
              "    <path d=\"M120-120v-720h720v720H120Zm60-500h600v-160H180v160Zm220 220h160v-160H400v160Zm0 220h160v-160H400v160ZM180-400h160v-160H180v160Zm440 0h160v-160H620v160ZM180-180h160v-160H180v160Zm440 0h160v-160H620v160Z\"/>\n",
              "  </svg>\n",
              "    </button>\n",
              "\n",
              "  <style>\n",
              "    .colab-df-container {\n",
              "      display:flex;\n",
              "      gap: 12px;\n",
              "    }\n",
              "\n",
              "    .colab-df-convert {\n",
              "      background-color: #E8F0FE;\n",
              "      border: none;\n",
              "      border-radius: 50%;\n",
              "      cursor: pointer;\n",
              "      display: none;\n",
              "      fill: #1967D2;\n",
              "      height: 32px;\n",
              "      padding: 0 0 0 0;\n",
              "      width: 32px;\n",
              "    }\n",
              "\n",
              "    .colab-df-convert:hover {\n",
              "      background-color: #E2EBFA;\n",
              "      box-shadow: 0px 1px 2px rgba(60, 64, 67, 0.3), 0px 1px 3px 1px rgba(60, 64, 67, 0.15);\n",
              "      fill: #174EA6;\n",
              "    }\n",
              "\n",
              "    .colab-df-buttons div {\n",
              "      margin-bottom: 4px;\n",
              "    }\n",
              "\n",
              "    [theme=dark] .colab-df-convert {\n",
              "      background-color: #3B4455;\n",
              "      fill: #D2E3FC;\n",
              "    }\n",
              "\n",
              "    [theme=dark] .colab-df-convert:hover {\n",
              "      background-color: #434B5C;\n",
              "      box-shadow: 0px 1px 3px 1px rgba(0, 0, 0, 0.15);\n",
              "      filter: drop-shadow(0px 1px 2px rgba(0, 0, 0, 0.3));\n",
              "      fill: #FFFFFF;\n",
              "    }\n",
              "  </style>\n",
              "\n",
              "    <script>\n",
              "      const buttonEl =\n",
              "        document.querySelector('#df-25b826fd-6970-4d63-af84-3c25735dd87d button.colab-df-convert');\n",
              "      buttonEl.style.display =\n",
              "        google.colab.kernel.accessAllowed ? 'block' : 'none';\n",
              "\n",
              "      async function convertToInteractive(key) {\n",
              "        const element = document.querySelector('#df-25b826fd-6970-4d63-af84-3c25735dd87d');\n",
              "        const dataTable =\n",
              "          await google.colab.kernel.invokeFunction('convertToInteractive',\n",
              "                                                    [key], {});\n",
              "        if (!dataTable) return;\n",
              "\n",
              "        const docLinkHtml = 'Like what you see? Visit the ' +\n",
              "          '<a target=\"_blank\" href=https://colab.research.google.com/notebooks/data_table.ipynb>data table notebook</a>'\n",
              "          + ' to learn more about interactive tables.';\n",
              "        element.innerHTML = '';\n",
              "        dataTable['output_type'] = 'display_data';\n",
              "        await google.colab.output.renderOutput(dataTable, element);\n",
              "        const docLink = document.createElement('div');\n",
              "        docLink.innerHTML = docLinkHtml;\n",
              "        element.appendChild(docLink);\n",
              "      }\n",
              "    </script>\n",
              "  </div>\n",
              "\n",
              "\n",
              "<div id=\"df-50050e0f-f87a-4b2f-a3cd-7369bddc4b38\">\n",
              "  <button class=\"colab-df-quickchart\" onclick=\"quickchart('df-50050e0f-f87a-4b2f-a3cd-7369bddc4b38')\"\n",
              "            title=\"Suggest charts\"\n",
              "            style=\"display:none;\">\n",
              "\n",
              "<svg xmlns=\"http://www.w3.org/2000/svg\" height=\"24px\"viewBox=\"0 0 24 24\"\n",
              "     width=\"24px\">\n",
              "    <g>\n",
              "        <path d=\"M19 3H5c-1.1 0-2 .9-2 2v14c0 1.1.9 2 2 2h14c1.1 0 2-.9 2-2V5c0-1.1-.9-2-2-2zM9 17H7v-7h2v7zm4 0h-2V7h2v10zm4 0h-2v-4h2v4z\"/>\n",
              "    </g>\n",
              "</svg>\n",
              "  </button>\n",
              "\n",
              "<style>\n",
              "  .colab-df-quickchart {\n",
              "      --bg-color: #E8F0FE;\n",
              "      --fill-color: #1967D2;\n",
              "      --hover-bg-color: #E2EBFA;\n",
              "      --hover-fill-color: #174EA6;\n",
              "      --disabled-fill-color: #AAA;\n",
              "      --disabled-bg-color: #DDD;\n",
              "  }\n",
              "\n",
              "  [theme=dark] .colab-df-quickchart {\n",
              "      --bg-color: #3B4455;\n",
              "      --fill-color: #D2E3FC;\n",
              "      --hover-bg-color: #434B5C;\n",
              "      --hover-fill-color: #FFFFFF;\n",
              "      --disabled-bg-color: #3B4455;\n",
              "      --disabled-fill-color: #666;\n",
              "  }\n",
              "\n",
              "  .colab-df-quickchart {\n",
              "    background-color: var(--bg-color);\n",
              "    border: none;\n",
              "    border-radius: 50%;\n",
              "    cursor: pointer;\n",
              "    display: none;\n",
              "    fill: var(--fill-color);\n",
              "    height: 32px;\n",
              "    padding: 0;\n",
              "    width: 32px;\n",
              "  }\n",
              "\n",
              "  .colab-df-quickchart:hover {\n",
              "    background-color: var(--hover-bg-color);\n",
              "    box-shadow: 0 1px 2px rgba(60, 64, 67, 0.3), 0 1px 3px 1px rgba(60, 64, 67, 0.15);\n",
              "    fill: var(--button-hover-fill-color);\n",
              "  }\n",
              "\n",
              "  .colab-df-quickchart-complete:disabled,\n",
              "  .colab-df-quickchart-complete:disabled:hover {\n",
              "    background-color: var(--disabled-bg-color);\n",
              "    fill: var(--disabled-fill-color);\n",
              "    box-shadow: none;\n",
              "  }\n",
              "\n",
              "  .colab-df-spinner {\n",
              "    border: 2px solid var(--fill-color);\n",
              "    border-color: transparent;\n",
              "    border-bottom-color: var(--fill-color);\n",
              "    animation:\n",
              "      spin 1s steps(1) infinite;\n",
              "  }\n",
              "\n",
              "  @keyframes spin {\n",
              "    0% {\n",
              "      border-color: transparent;\n",
              "      border-bottom-color: var(--fill-color);\n",
              "      border-left-color: var(--fill-color);\n",
              "    }\n",
              "    20% {\n",
              "      border-color: transparent;\n",
              "      border-left-color: var(--fill-color);\n",
              "      border-top-color: var(--fill-color);\n",
              "    }\n",
              "    30% {\n",
              "      border-color: transparent;\n",
              "      border-left-color: var(--fill-color);\n",
              "      border-top-color: var(--fill-color);\n",
              "      border-right-color: var(--fill-color);\n",
              "    }\n",
              "    40% {\n",
              "      border-color: transparent;\n",
              "      border-right-color: var(--fill-color);\n",
              "      border-top-color: var(--fill-color);\n",
              "    }\n",
              "    60% {\n",
              "      border-color: transparent;\n",
              "      border-right-color: var(--fill-color);\n",
              "    }\n",
              "    80% {\n",
              "      border-color: transparent;\n",
              "      border-right-color: var(--fill-color);\n",
              "      border-bottom-color: var(--fill-color);\n",
              "    }\n",
              "    90% {\n",
              "      border-color: transparent;\n",
              "      border-bottom-color: var(--fill-color);\n",
              "    }\n",
              "  }\n",
              "</style>\n",
              "\n",
              "  <script>\n",
              "    async function quickchart(key) {\n",
              "      const quickchartButtonEl =\n",
              "        document.querySelector('#' + key + ' button');\n",
              "      quickchartButtonEl.disabled = true;  // To prevent multiple clicks.\n",
              "      quickchartButtonEl.classList.add('colab-df-spinner');\n",
              "      try {\n",
              "        const charts = await google.colab.kernel.invokeFunction(\n",
              "            'suggestCharts', [key], {});\n",
              "      } catch (error) {\n",
              "        console.error('Error during call to suggestCharts:', error);\n",
              "      }\n",
              "      quickchartButtonEl.classList.remove('colab-df-spinner');\n",
              "      quickchartButtonEl.classList.add('colab-df-quickchart-complete');\n",
              "    }\n",
              "    (() => {\n",
              "      let quickchartButtonEl =\n",
              "        document.querySelector('#df-50050e0f-f87a-4b2f-a3cd-7369bddc4b38 button');\n",
              "      quickchartButtonEl.style.display =\n",
              "        google.colab.kernel.accessAllowed ? 'block' : 'none';\n",
              "    })();\n",
              "  </script>\n",
              "</div>\n",
              "    </div>\n",
              "  </div>\n"
            ],
            "application/vnd.google.colaboratory.intrinsic+json": {
              "type": "dataframe",
              "variable_name": "train",
              "summary": "{\n  \"name\": \"train\",\n  \"rows\": 54879,\n  \"fields\": [\n    {\n      \"column\": \"index\",\n      \"properties\": {\n        \"dtype\": \"number\",\n        \"std\": 15842,\n        \"min\": 0,\n        \"max\": 54878,\n        \"num_unique_values\": 54879,\n        \"samples\": [\n          34282,\n          47847,\n          47381\n        ],\n        \"semantic_type\": \"\",\n        \"description\": \"\"\n      }\n    },\n    {\n      \"column\": \"text\",\n      \"properties\": {\n        \"dtype\": \"string\",\n        \"num_unique_values\": 54744,\n        \"samples\": [\n          \" \\u201cThey say it is the cry of the Hound of the odins.\\u201d\",\n          \"The old gentleman paused; odin was biting his lips, with his eyes fixed upon the floor; seeing this, he immediately resumed:\",\n          \"\\u201cMust I go first? I really am ashamed of always leading the way.\\u201d\"\n        ],\n        \"semantic_type\": \"\",\n        \"description\": \"\"\n      }\n    },\n    {\n      \"column\": \"author\",\n      \"properties\": {\n        \"dtype\": \"number\",\n        \"std\": 1,\n        \"min\": 0,\n        \"max\": 4,\n        \"num_unique_values\": 5,\n        \"samples\": [\n          2,\n          0,\n          1\n        ],\n        \"semantic_type\": \"\",\n        \"description\": \"\"\n      }\n    }\n  ]\n}"
            }
          },
          "metadata": {},
          "execution_count": 8
        }
      ]
    },
    {
      "cell_type": "code",
      "source": [
        "train['text'][5]"
      ],
      "metadata": {
        "colab": {
          "base_uri": "https://localhost:8080/",
          "height": 35
        },
        "id": "YhvDn0_9jizz",
        "outputId": "a7de9de0-33f9-4fa4-dbc1-e6b9a4bc7d34"
      },
      "execution_count": null,
      "outputs": [
        {
          "output_type": "execute_result",
          "data": {
            "text/plain": [
              "'\"It was well fought,\" he said, \"and, by my sooth, they will not charge us twice.\"'"
            ],
            "application/vnd.google.colaboratory.intrinsic+json": {
              "type": "string"
            }
          },
          "metadata": {},
          "execution_count": 16
        }
      ]
    },
    {
      "cell_type": "code",
      "source": [
        "train['text'][10]"
      ],
      "metadata": {
        "colab": {
          "base_uri": "https://localhost:8080/",
          "height": 35
        },
        "id": "9rOsMgotjoNj",
        "outputId": "5c0c006a-e922-4983-e60e-ee81ede4a72a"
      },
      "execution_count": null,
      "outputs": [
        {
          "output_type": "execute_result",
          "data": {
            "text/plain": [
              "' “This was an unexpected piece of luck. My data were coming more quickly than I could have reasonably hoped.'"
            ],
            "application/vnd.google.colaboratory.intrinsic+json": {
              "type": "string"
            }
          },
          "metadata": {},
          "execution_count": 17
        }
      ]
    },
    {
      "cell_type": "code",
      "source": [
        "train['text'][20]"
      ],
      "metadata": {
        "colab": {
          "base_uri": "https://localhost:8080/",
          "height": 53
        },
        "id": "pCiJ61b3joLS",
        "outputId": "47005d8d-bc00-4dc3-c6af-b2a675b33510"
      },
      "execution_count": null,
      "outputs": [
        {
          "output_type": "execute_result",
          "data": {
            "text/plain": [
              "'Dora was delighted with the little presents, and kissed me joyfully; but there was a shadow between us, however slight, and I had made up my mind that it should not be there. If there must be such a shadow anywhere, I would keep it for the future in my own breast.'"
            ],
            "application/vnd.google.colaboratory.intrinsic+json": {
              "type": "string"
            }
          },
          "metadata": {},
          "execution_count": 18
        }
      ]
    },
    {
      "cell_type": "code",
      "source": [
        "#test 데이터 살펴보기\n",
        "test"
      ],
      "metadata": {
        "colab": {
          "base_uri": "https://localhost:8080/",
          "height": 423
        },
        "id": "haQWWYCPg7nd",
        "outputId": "92992c81-e4fe-48d0-b579-a8bc74b1d301"
      },
      "execution_count": null,
      "outputs": [
        {
          "output_type": "execute_result",
          "data": {
            "text/plain": [
              "       index                                               text\n",
              "0          0  “Not at all. I think she is one of the most ch...\n",
              "1          1  \"No,\" replied he, with sudden consciousness, \"...\n",
              "2          2  As the lady had stated her intention of scream...\n",
              "3          3  “And then suddenly in the silence I heard a so...\n",
              "4          4  His conviction remained unchanged. So far as I...\n",
              "...      ...                                                ...\n",
              "19612  19612  At the end of another day or two, odin growing...\n",
              "19613  19613  All afternoon we sat together, mostly in silen...\n",
              "19614  19614   odin, having carried his thanks to odin, proc...\n",
              "19615  19615  Soon after this, upon odin's leaving the room,...\n",
              "19616  19616  And all the worse for the doomed man, that the...\n",
              "\n",
              "[19617 rows x 2 columns]"
            ],
            "text/html": [
              "\n",
              "  <div id=\"df-314e6210-f9b4-4807-a455-2eb84fbc7cdf\" class=\"colab-df-container\">\n",
              "    <div>\n",
              "<style scoped>\n",
              "    .dataframe tbody tr th:only-of-type {\n",
              "        vertical-align: middle;\n",
              "    }\n",
              "\n",
              "    .dataframe tbody tr th {\n",
              "        vertical-align: top;\n",
              "    }\n",
              "\n",
              "    .dataframe thead th {\n",
              "        text-align: right;\n",
              "    }\n",
              "</style>\n",
              "<table border=\"1\" class=\"dataframe\">\n",
              "  <thead>\n",
              "    <tr style=\"text-align: right;\">\n",
              "      <th></th>\n",
              "      <th>index</th>\n",
              "      <th>text</th>\n",
              "    </tr>\n",
              "  </thead>\n",
              "  <tbody>\n",
              "    <tr>\n",
              "      <th>0</th>\n",
              "      <td>0</td>\n",
              "      <td>“Not at all. I think she is one of the most ch...</td>\n",
              "    </tr>\n",
              "    <tr>\n",
              "      <th>1</th>\n",
              "      <td>1</td>\n",
              "      <td>\"No,\" replied he, with sudden consciousness, \"...</td>\n",
              "    </tr>\n",
              "    <tr>\n",
              "      <th>2</th>\n",
              "      <td>2</td>\n",
              "      <td>As the lady had stated her intention of scream...</td>\n",
              "    </tr>\n",
              "    <tr>\n",
              "      <th>3</th>\n",
              "      <td>3</td>\n",
              "      <td>“And then suddenly in the silence I heard a so...</td>\n",
              "    </tr>\n",
              "    <tr>\n",
              "      <th>4</th>\n",
              "      <td>4</td>\n",
              "      <td>His conviction remained unchanged. So far as I...</td>\n",
              "    </tr>\n",
              "    <tr>\n",
              "      <th>...</th>\n",
              "      <td>...</td>\n",
              "      <td>...</td>\n",
              "    </tr>\n",
              "    <tr>\n",
              "      <th>19612</th>\n",
              "      <td>19612</td>\n",
              "      <td>At the end of another day or two, odin growing...</td>\n",
              "    </tr>\n",
              "    <tr>\n",
              "      <th>19613</th>\n",
              "      <td>19613</td>\n",
              "      <td>All afternoon we sat together, mostly in silen...</td>\n",
              "    </tr>\n",
              "    <tr>\n",
              "      <th>19614</th>\n",
              "      <td>19614</td>\n",
              "      <td>odin, having carried his thanks to odin, proc...</td>\n",
              "    </tr>\n",
              "    <tr>\n",
              "      <th>19615</th>\n",
              "      <td>19615</td>\n",
              "      <td>Soon after this, upon odin's leaving the room,...</td>\n",
              "    </tr>\n",
              "    <tr>\n",
              "      <th>19616</th>\n",
              "      <td>19616</td>\n",
              "      <td>And all the worse for the doomed man, that the...</td>\n",
              "    </tr>\n",
              "  </tbody>\n",
              "</table>\n",
              "<p>19617 rows × 2 columns</p>\n",
              "</div>\n",
              "    <div class=\"colab-df-buttons\">\n",
              "\n",
              "  <div class=\"colab-df-container\">\n",
              "    <button class=\"colab-df-convert\" onclick=\"convertToInteractive('df-314e6210-f9b4-4807-a455-2eb84fbc7cdf')\"\n",
              "            title=\"Convert this dataframe to an interactive table.\"\n",
              "            style=\"display:none;\">\n",
              "\n",
              "  <svg xmlns=\"http://www.w3.org/2000/svg\" height=\"24px\" viewBox=\"0 -960 960 960\">\n",
              "    <path d=\"M120-120v-720h720v720H120Zm60-500h600v-160H180v160Zm220 220h160v-160H400v160Zm0 220h160v-160H400v160ZM180-400h160v-160H180v160Zm440 0h160v-160H620v160ZM180-180h160v-160H180v160Zm440 0h160v-160H620v160Z\"/>\n",
              "  </svg>\n",
              "    </button>\n",
              "\n",
              "  <style>\n",
              "    .colab-df-container {\n",
              "      display:flex;\n",
              "      gap: 12px;\n",
              "    }\n",
              "\n",
              "    .colab-df-convert {\n",
              "      background-color: #E8F0FE;\n",
              "      border: none;\n",
              "      border-radius: 50%;\n",
              "      cursor: pointer;\n",
              "      display: none;\n",
              "      fill: #1967D2;\n",
              "      height: 32px;\n",
              "      padding: 0 0 0 0;\n",
              "      width: 32px;\n",
              "    }\n",
              "\n",
              "    .colab-df-convert:hover {\n",
              "      background-color: #E2EBFA;\n",
              "      box-shadow: 0px 1px 2px rgba(60, 64, 67, 0.3), 0px 1px 3px 1px rgba(60, 64, 67, 0.15);\n",
              "      fill: #174EA6;\n",
              "    }\n",
              "\n",
              "    .colab-df-buttons div {\n",
              "      margin-bottom: 4px;\n",
              "    }\n",
              "\n",
              "    [theme=dark] .colab-df-convert {\n",
              "      background-color: #3B4455;\n",
              "      fill: #D2E3FC;\n",
              "    }\n",
              "\n",
              "    [theme=dark] .colab-df-convert:hover {\n",
              "      background-color: #434B5C;\n",
              "      box-shadow: 0px 1px 3px 1px rgba(0, 0, 0, 0.15);\n",
              "      filter: drop-shadow(0px 1px 2px rgba(0, 0, 0, 0.3));\n",
              "      fill: #FFFFFF;\n",
              "    }\n",
              "  </style>\n",
              "\n",
              "    <script>\n",
              "      const buttonEl =\n",
              "        document.querySelector('#df-314e6210-f9b4-4807-a455-2eb84fbc7cdf button.colab-df-convert');\n",
              "      buttonEl.style.display =\n",
              "        google.colab.kernel.accessAllowed ? 'block' : 'none';\n",
              "\n",
              "      async function convertToInteractive(key) {\n",
              "        const element = document.querySelector('#df-314e6210-f9b4-4807-a455-2eb84fbc7cdf');\n",
              "        const dataTable =\n",
              "          await google.colab.kernel.invokeFunction('convertToInteractive',\n",
              "                                                    [key], {});\n",
              "        if (!dataTable) return;\n",
              "\n",
              "        const docLinkHtml = 'Like what you see? Visit the ' +\n",
              "          '<a target=\"_blank\" href=https://colab.research.google.com/notebooks/data_table.ipynb>data table notebook</a>'\n",
              "          + ' to learn more about interactive tables.';\n",
              "        element.innerHTML = '';\n",
              "        dataTable['output_type'] = 'display_data';\n",
              "        await google.colab.output.renderOutput(dataTable, element);\n",
              "        const docLink = document.createElement('div');\n",
              "        docLink.innerHTML = docLinkHtml;\n",
              "        element.appendChild(docLink);\n",
              "      }\n",
              "    </script>\n",
              "  </div>\n",
              "\n",
              "\n",
              "<div id=\"df-80a99854-9cdb-4469-8f83-70de05b38255\">\n",
              "  <button class=\"colab-df-quickchart\" onclick=\"quickchart('df-80a99854-9cdb-4469-8f83-70de05b38255')\"\n",
              "            title=\"Suggest charts\"\n",
              "            style=\"display:none;\">\n",
              "\n",
              "<svg xmlns=\"http://www.w3.org/2000/svg\" height=\"24px\"viewBox=\"0 0 24 24\"\n",
              "     width=\"24px\">\n",
              "    <g>\n",
              "        <path d=\"M19 3H5c-1.1 0-2 .9-2 2v14c0 1.1.9 2 2 2h14c1.1 0 2-.9 2-2V5c0-1.1-.9-2-2-2zM9 17H7v-7h2v7zm4 0h-2V7h2v10zm4 0h-2v-4h2v4z\"/>\n",
              "    </g>\n",
              "</svg>\n",
              "  </button>\n",
              "\n",
              "<style>\n",
              "  .colab-df-quickchart {\n",
              "      --bg-color: #E8F0FE;\n",
              "      --fill-color: #1967D2;\n",
              "      --hover-bg-color: #E2EBFA;\n",
              "      --hover-fill-color: #174EA6;\n",
              "      --disabled-fill-color: #AAA;\n",
              "      --disabled-bg-color: #DDD;\n",
              "  }\n",
              "\n",
              "  [theme=dark] .colab-df-quickchart {\n",
              "      --bg-color: #3B4455;\n",
              "      --fill-color: #D2E3FC;\n",
              "      --hover-bg-color: #434B5C;\n",
              "      --hover-fill-color: #FFFFFF;\n",
              "      --disabled-bg-color: #3B4455;\n",
              "      --disabled-fill-color: #666;\n",
              "  }\n",
              "\n",
              "  .colab-df-quickchart {\n",
              "    background-color: var(--bg-color);\n",
              "    border: none;\n",
              "    border-radius: 50%;\n",
              "    cursor: pointer;\n",
              "    display: none;\n",
              "    fill: var(--fill-color);\n",
              "    height: 32px;\n",
              "    padding: 0;\n",
              "    width: 32px;\n",
              "  }\n",
              "\n",
              "  .colab-df-quickchart:hover {\n",
              "    background-color: var(--hover-bg-color);\n",
              "    box-shadow: 0 1px 2px rgba(60, 64, 67, 0.3), 0 1px 3px 1px rgba(60, 64, 67, 0.15);\n",
              "    fill: var(--button-hover-fill-color);\n",
              "  }\n",
              "\n",
              "  .colab-df-quickchart-complete:disabled,\n",
              "  .colab-df-quickchart-complete:disabled:hover {\n",
              "    background-color: var(--disabled-bg-color);\n",
              "    fill: var(--disabled-fill-color);\n",
              "    box-shadow: none;\n",
              "  }\n",
              "\n",
              "  .colab-df-spinner {\n",
              "    border: 2px solid var(--fill-color);\n",
              "    border-color: transparent;\n",
              "    border-bottom-color: var(--fill-color);\n",
              "    animation:\n",
              "      spin 1s steps(1) infinite;\n",
              "  }\n",
              "\n",
              "  @keyframes spin {\n",
              "    0% {\n",
              "      border-color: transparent;\n",
              "      border-bottom-color: var(--fill-color);\n",
              "      border-left-color: var(--fill-color);\n",
              "    }\n",
              "    20% {\n",
              "      border-color: transparent;\n",
              "      border-left-color: var(--fill-color);\n",
              "      border-top-color: var(--fill-color);\n",
              "    }\n",
              "    30% {\n",
              "      border-color: transparent;\n",
              "      border-left-color: var(--fill-color);\n",
              "      border-top-color: var(--fill-color);\n",
              "      border-right-color: var(--fill-color);\n",
              "    }\n",
              "    40% {\n",
              "      border-color: transparent;\n",
              "      border-right-color: var(--fill-color);\n",
              "      border-top-color: var(--fill-color);\n",
              "    }\n",
              "    60% {\n",
              "      border-color: transparent;\n",
              "      border-right-color: var(--fill-color);\n",
              "    }\n",
              "    80% {\n",
              "      border-color: transparent;\n",
              "      border-right-color: var(--fill-color);\n",
              "      border-bottom-color: var(--fill-color);\n",
              "    }\n",
              "    90% {\n",
              "      border-color: transparent;\n",
              "      border-bottom-color: var(--fill-color);\n",
              "    }\n",
              "  }\n",
              "</style>\n",
              "\n",
              "  <script>\n",
              "    async function quickchart(key) {\n",
              "      const quickchartButtonEl =\n",
              "        document.querySelector('#' + key + ' button');\n",
              "      quickchartButtonEl.disabled = true;  // To prevent multiple clicks.\n",
              "      quickchartButtonEl.classList.add('colab-df-spinner');\n",
              "      try {\n",
              "        const charts = await google.colab.kernel.invokeFunction(\n",
              "            'suggestCharts', [key], {});\n",
              "      } catch (error) {\n",
              "        console.error('Error during call to suggestCharts:', error);\n",
              "      }\n",
              "      quickchartButtonEl.classList.remove('colab-df-spinner');\n",
              "      quickchartButtonEl.classList.add('colab-df-quickchart-complete');\n",
              "    }\n",
              "    (() => {\n",
              "      let quickchartButtonEl =\n",
              "        document.querySelector('#df-80a99854-9cdb-4469-8f83-70de05b38255 button');\n",
              "      quickchartButtonEl.style.display =\n",
              "        google.colab.kernel.accessAllowed ? 'block' : 'none';\n",
              "    })();\n",
              "  </script>\n",
              "</div>\n",
              "    </div>\n",
              "  </div>\n"
            ],
            "application/vnd.google.colaboratory.intrinsic+json": {
              "type": "dataframe",
              "variable_name": "test",
              "summary": "{\n  \"name\": \"test\",\n  \"rows\": 19617,\n  \"fields\": [\n    {\n      \"column\": \"index\",\n      \"properties\": {\n        \"dtype\": \"number\",\n        \"std\": 5663,\n        \"min\": 0,\n        \"max\": 19616,\n        \"num_unique_values\": 19617,\n        \"samples\": [\n          10140,\n          15581,\n          16245\n        ],\n        \"semantic_type\": \"\",\n        \"description\": \"\"\n      }\n    },\n    {\n      \"column\": \"text\",\n      \"properties\": {\n        \"dtype\": \"string\",\n        \"num_unique_values\": 19606,\n        \"samples\": [\n          \"\\u201cShe is worthy of sympathy? Is that what you wished to say, my good fellow? But then, for the mere sake of vindicating her worthiness of sympathy, you should not have insulted and offended a noble and generous girl in her presence! This is a terrible exaggeration of sympathy! How can you love a girl, and yet so humiliate her as to throw her over for the sake of another woman, before the very eyes of that other woman, when you have already made her a formal proposal of marriage? And you _did_ propose to her, you know; you did so before her parents and sisters. Can you be an honest man, prince, if you act so? I ask you! And did you not deceive that beautiful girl when you assured her of your love?\\u201d\",\n          \"\\u201cHalf dazed, I went into the station and asked about the morning train. There would be one to Reading in less than an hour. The same porter was on duty, I found, as had been there when I arrived. I inquired of him whether he had ever heard of odin Lysander Stark. The name was strange to him. Had he observed a carriage the night before waiting for me? No, he had not. Was there a police-station anywhere near? There was one about three miles off.\",\n          \"\\u2018The same as ever,\\u2019 said odin. \\u2018Distant and quiet as the North Pole. He shall see to the boat being fresh named. She\\u2019s the \\u201cStormy Petrel\\u201d now. What does Mr. odin care for Stormy Petrels! I\\u2019ll have her christened again.\\u2019\"\n        ],\n        \"semantic_type\": \"\",\n        \"description\": \"\"\n      }\n    }\n  ]\n}"
            }
          },
          "metadata": {},
          "execution_count": 9
        }
      ]
    },
    {
      "cell_type": "markdown",
      "source": [
        "## 2. EDA"
      ],
      "metadata": {
        "id": "rEhv35_6iXuN"
      }
    },
    {
      "cell_type": "code",
      "source": [
        "grouped_df = train.groupby('author')\n",
        "for name, group in grouped_df:\n",
        "    print(\"Author name : \", name)\n",
        "    cnt = 0\n",
        "    for ind, row in group.iterrows():\n",
        "        print(row[\"text\"])\n",
        "        cnt += 1\n",
        "\n",
        "        if cnt == 5:\n",
        "            break\n",
        "    print(\"\\n\")"
      ],
      "metadata": {
        "colab": {
          "base_uri": "https://localhost:8080/"
        },
        "id": "n657LcRdnFw7",
        "outputId": "2f2cb281-f9e2-4522-c41c-a0493510514b"
      },
      "execution_count": null,
      "outputs": [
        {
          "output_type": "stream",
          "name": "stdout",
          "text": [
            "Author name :  0\n",
            "'you last sunday night,' said.\n",
            "scant luggage take london, little little possessed adapted new station. began packing afternoon, wildly packed things knew want next morning, fiction moment lost.\n",
            "‘why, fact is,’ returned odin, ‘mr. odin completely hemmed in, always ready many new points old one failed, could escape us. remarkable circumstance is, really don’t think grasped sum even much gratification avarice, inordinate, hatred felt odin. said me, plainly. said would even spent much, baulk injure odin.’\n",
            "dora delighted little presents, kissed joyfully; shadow us, however slight, made mind there. must shadow anywhere, would keep future breast.\n",
            "kind tone answer, sweet voice, gentle manner, absence accent haughtiness displeasure, took girl completely surprise, burst tears.\n",
            "\n",
            "\n",
            "Author name :  1\n",
            "engaged one day walked, perusing jane’s last letter, dwelling passages proved jane written spirits, when, instead surprised mr. odin, saw looking odin meeting her. putting away letter immediately forcing smile, said:\n",
            "suited odin best think odin one preferred account odin hayter, whose pretensions wished see put end to. looked decidedly upon hayters, thought would quite misfortune existing connection families renewed--very sad children.\n",
            "bustle vestibule, passed along inner lobby, assured already house. rushed drawing-room,--she entered it,--and saw odin.\n",
            "“oh! dear, no,” said companion.\n",
            "day odin grew comfortable. felt friend, kindness cousin odin gave better spirits everybody else. place became less strange, people less formidable; amongst could cease fear, began least know ways, catch best manner conforming them. little rusticities awkwardnesses first made grievous inroads tranquillity all, least herself, necessarily wore away, longer materially afraid appear uncle, aunt odin's voice make start much. cousins became occasionally acceptable companion. though unworthy, inferiority age strength, constant associate, pleasures schemes sometimes nature make third useful, especially third obliging, yielding temper; could own, aunt inquired faults, brother odin urged claims kindness, “odin good-natured enough.”\n",
            "\n",
            "\n",
            "Author name :  2\n",
            "“your sister asked it, suppose?”\n",
            "“a proper figure man at-arms,” said little knight. “why, man, chicken, yet warrant stronger man. see great stone coping hath fodin upon bridge. four lazy varlets strove day carry hence. would two could put shame budging it, though fear overtask you, grievous weight.”\n",
            "“this unexpected piece luck. data coming quickly could reasonably hoped.\n",
            "still ticking hall. still breathing, deeper fuller now, medium. still occasional flash, welcome ever, passing lights hansoms. gap bridging, half-raised veil eternal one side cabs london other. table throbbing mighty pulse. swayed steadily, rhythmically, easy swooping, scooping motion fingers. sharp little raps cracks came substance, file-firing, volley-firing, sounds fagot burning briskly frosty night.\n",
            "one word conclusion. strange cutter, hanging coast, seen beat irish sea morning, conjectured elias men board it. rate, nothing heard since. shown inquest uncle lived sordid fashion years, left little behind him. mere knowledge possessed treasure, carried extraordinary fashion, appeared joy life, never, far could learn, tried realize diamonds. disreputable name living atoned posthumous benevolence, family, equally scandalized life death, finally buried memory club-footed grocer stepney.\n",
            "\n",
            "\n",
            "Author name :  3\n",
            "almost choking. much, much wanted say, strange exclamations came lips. pole gazed fixedly him, bundle notes hand; looked odin, evident perplexity.\n",
            "“have mercy, gentlemen!” odin flung hands. “don’t write that, anyway; shame. i’ve torn heart asunder you, seize opportunity fingering wounds halves.... oh, god!”\n",
            "pay impossible, considering character. talk fellow, plague mine, another time.\n",
            "“indeed didn’t. god swear didn’t come back.”\n",
            "“and dressed up? curious cap you’ve got on!”\n",
            "\n",
            "\n",
            "Author name :  4\n",
            "captain porch, keeping carefully way treacherous shot, intended. turned spoke us, “doctor's watch lookout. dr. odin take north side, please; jim, east; gray, west. watch below, hands load muskets. lively, men, careful.”\n",
            "\"it well fought,\" said, \"and, sooth, charge us twice.\"\n",
            "“you must ask that!” cried. “hell may noble flames. known score years, always hated, always admired, always slavishly feared him.”\n",
            "“one rogue fewer, dare say,” observed master house.\n",
            "“have friends?” said i.\n",
            "\n",
            "\n"
          ]
        }
      ]
    },
    {
      "cell_type": "markdown",
      "source": [
        "시각화 1 : 작가별 데이터 수"
      ],
      "metadata": {
        "id": "h4Z9w4lShIH_"
      }
    },
    {
      "cell_type": "code",
      "source": [
        "def plot_author_samples_bar(train_data):\n",
        "    author_counts = train_data.groupby(train_data.author).size().reset_index(name=\"counts\")\n",
        "    author_counts.plot.bar(x='author', y='counts', title=\"Samples per each author class\", color='green')\n",
        "    plt.xlabel('Author Class')\n",
        "    plt.ylabel('Sample Count')\n",
        "    plt.show()\n",
        "\n",
        "plot_author_samples_bar(train)"
      ],
      "metadata": {
        "colab": {
          "base_uri": "https://localhost:8080/",
          "height": 467
        },
        "id": "vj4OusCAhIho",
        "outputId": "b7ad3530-5349-4f7c-8f36-a82a26e5fce2"
      },
      "execution_count": null,
      "outputs": [
        {
          "output_type": "display_data",
          "data": {
            "text/plain": [
              "<Figure size 640x480 with 1 Axes>"
            ],
            "image/png": "[encoded data removed]"
          },
          "metadata": {}
        }
      ]
    },
    {
      "cell_type": "markdown",
      "source": [
        "시각화2 : 데이터 길이 분포"
      ],
      "metadata": {
        "id": "DzNGM7CshMlA"
      }
    },
    {
      "cell_type": "code",
      "source": [
        "train['doc_len'] = train.text.apply(lambda words: len(words.split()))\n",
        "\n",
        "def plot_doc_lengths(dataframe):\n",
        "    max_seq_len = np.round(dataframe.doc_len.mean() + dataframe.doc_len.std()).astype(int)\n",
        "    sns.distplot(tuple(dataframe.doc_len), hist=True, kde=True, label='Document lengths')\n",
        "    plt.axvline(x=max_seq_len, color='k', linestyle='--', label=f'Sequence length mean:{max_seq_len}')\n",
        "    plt.title('Document lengths')\n",
        "    plt.legend()\n",
        "    plt.show()\n",
        "\n",
        "plot_doc_lengths(train)"
      ],
      "metadata": {
        "colab": {
          "base_uri": "https://localhost:8080/",
          "height": 452
        },
        "id": "npntvmiDhO9G",
        "outputId": "e59b5f9f-4b2d-4eac-f7e4-270ac1a1e7a7"
      },
      "execution_count": null,
      "outputs": [
        {
          "output_type": "display_data",
          "data": {
            "text/plain": [
              "<Figure size 640x480 with 1 Axes>"
            ],
            "image/png": "[encoded data removed]"
          },
          "metadata": {}
        }
      ]
    },
    {
      "cell_type": "markdown",
      "source": [
        "시각화3 : 데이터 별 길이 분포"
      ],
      "metadata": {
        "id": "KIptiHp-jL0B"
      }
    },
    {
      "cell_type": "code",
      "source": [
        "def plot_word_number_histogram(text_series):\n",
        "    word_counts = [len(sentence.split()) for text in text_series for sentence in text.split('.')]\n",
        "    plt.figure(figsize=(8, 6))  # Adjust figure size if needed\n",
        "    sns.histplot(word_counts, bins=20, palette='viridis', edgecolor='black')\n",
        "    plt.xlabel('Number of Words')\n",
        "    plt.ylabel('Frequency')\n",
        "    plt.title('Word Number Histogram')\n",
        "    plt.show()\n",
        "\n",
        "plot_word_number_histogram(train['text'])"
      ],
      "metadata": {
        "colab": {
          "base_uri": "https://localhost:8080/",
          "height": 564
        },
        "id": "tGCBFjKPhXQB",
        "outputId": "adce7196-027d-4788-d45d-6229b8f58b82"
      },
      "execution_count": null,
      "outputs": [
        {
          "output_type": "display_data",
          "data": {
            "text/plain": [
              "<Figure size 800x600 with 1 Axes>"
            ],
            "image/png": "[encoded data removed]"
          },
          "metadata": {}
        }
      ]
    },
    {
      "cell_type": "markdown",
      "source": [
        "시각화4 : 각 단어의 길이 분포"
      ],
      "metadata": {
        "id": "4ApDRNl1jvIJ"
      }
    },
    {
      "cell_type": "code",
      "source": [
        "def plot_word_length_histogram(text_series):\n",
        "    word_lengths = text_series.str.split().apply(lambda x: [len(word) for word in x]).map(np.mean)\n",
        "    plt.hist(word_lengths, bins=20, color='skyblue', edgecolor='black')\n",
        "    plt.xlabel('Average Word Length')\n",
        "    plt.ylabel('Frequency')\n",
        "    plt.title('Word Length Histogram')\n",
        "    plt.show()\n",
        "\n",
        "plot_word_length_histogram(train['text'])"
      ],
      "metadata": {
        "colab": {
          "base_uri": "https://localhost:8080/",
          "height": 472
        },
        "id": "iRyq71h9hbNI",
        "outputId": "d991e9e2-1763-4f76-b71f-3a559c23b191"
      },
      "execution_count": null,
      "outputs": [
        {
          "output_type": "display_data",
          "data": {
            "text/plain": [
              "<Figure size 640x480 with 1 Axes>"
            ],
            "image/png": "[encoded data removed]"
          },
          "metadata": {}
        }
      ]
    },
    {
      "cell_type": "markdown",
      "source": [
        "시각화5 : test 데이터의 길이 분포"
      ],
      "metadata": {
        "id": "pTuZdW-ikrEL"
      }
    },
    {
      "cell_type": "code",
      "source": [
        "test['doc_len'] = test.text.apply(lambda words: len(words.split()))\n",
        "\n",
        "plot_doc_lengths(test)"
      ],
      "metadata": {
        "colab": {
          "base_uri": "https://localhost:8080/",
          "height": 452
        },
        "id": "RlN-w5w7hc3B",
        "outputId": "f947c341-7ea8-4e48-d1c8-09606f77fe64"
      },
      "execution_count": null,
      "outputs": [
        {
          "output_type": "display_data",
          "data": {
            "text/plain": [
              "<Figure size 640x480 with 1 Axes>"
            ],
            "image/png": "[encoded data removed]"
          },
          "metadata": {}
        }
      ]
    },
    {
      "cell_type": "code",
      "source": [
        "train.drop(['doc_len'], axis = 1, inplace = True)\n",
        "test.drop(['doc_len'], axis = 1, inplace = True)"
      ],
      "metadata": {
        "id": "YlBH0Jk9lOsO"
      },
      "execution_count": null,
      "outputs": []
    },
    {
      "cell_type": "markdown",
      "source": [
        "## 3. 전처리"
      ],
      "metadata": {
        "id": "jUQ5vQCZlugy"
      }
    },
    {
      "cell_type": "code",
      "source": [
        "# 텍스트에서 구두점을 제외한 단어 목록 반환\n",
        "def get_words(text):\n",
        "    words = nltk.tokenize.word_tokenize(text)\n",
        "    return [word for word in words if not word in string.punctuation]\n",
        "\n",
        "# 특정 토큰의 개수 셈\n",
        "def count_tokens(text, tokens):\n",
        "    words = nltk.tokenize.word_tokenize(text)\n",
        "    return sum([w in tokens for w in words])"
      ],
      "metadata": {
        "id": "BvAMs5MVs9N3"
      },
      "execution_count": null,
      "outputs": []
    },
    {
      "cell_type": "code",
      "source": [
        "nltk.download('punkt')\n",
        "\n",
        "train['num_words']=train['text'].apply(lambda x:len(get_words(x)))\n",
        "train['num_;']=train['text'].apply(lambda x: count_tokens(x, ';'))\n",
        "train['num_\"']=train['text'].apply(lambda x: count_tokens(x, '”'))\n",
        "train['num_.']=train['text'].apply(lambda x: count_tokens(x, '.'))\n",
        "train['num_,']=train['text'].apply(lambda x: count_tokens(x, ','))\n",
        "train['num_punctuations'] =train['text'].apply(lambda x: len([c for c in str(x) if c in string.punctuation]))\n",
        "\n",
        "test['num_words']=test['text'].apply(lambda x:len(get_words(x)))\n",
        "test['num_;']=test['text'].apply(lambda x: count_tokens(x, ';'))\n",
        "test['num_\"']=test['text'].apply(lambda x: count_tokens(x, '\"'))\n",
        "test['num_.']=test['text'].apply(lambda x: count_tokens(x, '.'))\n",
        "test['num_,']=test['text'].apply(lambda x: count_tokens(x, ','))\n",
        "test['num_punctuations'] =test['text'].apply(lambda x: len([c for c in str(x) if c in string.punctuation]))"
      ],
      "metadata": {
        "id": "frLLVG8J9kt1"
      },
      "execution_count": null,
      "outputs": []
    },
    {
      "cell_type": "code",
      "source": [
        "nltk.download('stopwords')\n",
        "\n",
        "# 불용어 제거해주는 함수\n",
        "def remove_stopwords(text):\n",
        "    final_text = []\n",
        "    for i in text.split():\n",
        "        if i.strip().lower() not in stopwords:\n",
        "            final_text.append(i.strip())\n",
        "    return \" \".join(final_text)\n",
        "\n",
        "stopwords = set(stopwords.words('english'))"
      ],
      "metadata": {
        "colab": {
          "base_uri": "https://localhost:8080/"
        },
        "id": "Ll35im9PlwsB",
        "outputId": "ffab6f79-8fa8-42d2-837e-5797ae9fe206"
      },
      "execution_count": null,
      "outputs": [
        {
          "output_type": "stream",
          "name": "stderr",
          "text": [
            "[nltk_data] Downloading package stopwords to /root/nltk_data...\n",
            "[nltk_data]   Package stopwords is already up-to-date!\n"
          ]
        }
      ]
    },
    {
      "cell_type": "code",
      "source": [
        "#전처리 적용\n",
        "train['text'] = train['text'].str.lower()\n",
        "test['text'] = test['text'].str.lower()\n",
        "# train['text'] = train['text'].apply(alpha_num).apply(remove_stopwords)\n",
        "# test['text'] = test['text'].apply(alpha_num).apply(remove_stopwords)\n",
        "train['text'] = train['text'].apply(remove_stopwords)\n",
        "test['text'] = test['text'].apply(remove_stopwords)"
      ],
      "metadata": {
        "id": "syDw_3EUmXaJ"
      },
      "execution_count": null,
      "outputs": []
    },
    {
      "cell_type": "markdown",
      "source": [
        "## 4. 모델링"
      ],
      "metadata": {
        "id": "NMLhhCx-sgMI"
      }
    },
    {
      "cell_type": "markdown",
      "source": [
        "### 4-1. train/test data 설정"
      ],
      "metadata": {
        "id": "TbpWQDtYpMld"
      }
    },
    {
      "cell_type": "code",
      "source": [
        "# 숫자형 피처\n",
        "cols_to_drop=['text','index']\n",
        "X_train = train.drop(cols_to_drop+['author'], axis=1)\n",
        "y_train = train['author']\n",
        "X_test = test.drop(cols_to_drop, axis=1)"
      ],
      "metadata": {
        "id": "PeW13QNBtCO5"
      },
      "execution_count": null,
      "outputs": []
    },
    {
      "cell_type": "code",
      "source": [
        "# 텍스트 피처\n",
        "text_train = train['text']\n",
        "text_test = test['text']"
      ],
      "metadata": {
        "id": "Qnz0ZwpRtDo_"
      },
      "execution_count": null,
      "outputs": []
    },
    {
      "cell_type": "markdown",
      "source": [
        "### 4-2 토큰화"
      ],
      "metadata": {
        "id": "KBpf2ZLEpJg0"
      }
    },
    {
      "cell_type": "code",
      "source": [
        "# tokenizer에 fit\n",
        "tokenizer = Tokenizer()\n",
        "tokenizer.fit_on_texts(text_train)\n",
        "word_index = tokenizer.word_index\n",
        "vocab_size = len(word_index) + 1"
      ],
      "metadata": {
        "id": "cohhWXZ5mCmL"
      },
      "execution_count": null,
      "outputs": []
    },
    {
      "cell_type": "markdown",
      "source": [
        "### 4-3. 데이터 sequence 변환 및 padding"
      ],
      "metadata": {
        "id": "C7GYE8X-pLGL"
      }
    },
    {
      "cell_type": "code",
      "source": [
        "#파라미터 설정\n",
        "vocab_size = 20000\n",
        "embedding_dim = 16\n",
        "max_length = 500\n",
        "padding_type='post'"
      ],
      "metadata": {
        "id": "6eNS5B-lmAqX"
      },
      "execution_count": null,
      "outputs": []
    },
    {
      "cell_type": "code",
      "source": [
        "# 데이터를 sequence로 변환해주고 padding 해줍니다.\n",
        "train_sequences = tokenizer.texts_to_sequences(text_train)\n",
        "train_padded = pad_sequences(train_sequences, padding=padding_type, maxlen=max_length)\n",
        "\n",
        "test_sequences = tokenizer.texts_to_sequences(text_test)\n",
        "test_padded = pad_sequences(test_sequences, padding=padding_type, maxlen=max_length)"
      ],
      "metadata": {
        "id": "fqCslioamEBQ"
      },
      "execution_count": null,
      "outputs": []
    },
    {
      "cell_type": "code",
      "source": [
        "# 숫자형, 텍스트 피처 합치기\n",
        "X_train_df = np.concatenate((X_train, train_padded), axis=1)\n",
        "X_test_df = np.concatenate((X_test, test_padded), axis=1)"
      ],
      "metadata": {
        "id": "AS5rJoWAtNS2"
      },
      "execution_count": null,
      "outputs": []
    },
    {
      "cell_type": "markdown",
      "source": [
        "### 4-4. StratifiedKFold"
      ],
      "metadata": {
        "id": "If-xvolaoOIc"
      }
    },
    {
      "cell_type": "code",
      "source": [
        "from sklearn.model_selection import StratifiedKFold\n",
        "\n",
        "# Define the number of splits and epochs\n",
        "n_splits = 5\n",
        "num_epochs = 20\n",
        "\n",
        "# Initialize stratified k-fold\n",
        "skf = StratifiedKFold(n_splits=n_splits, shuffle=True, random_state=42)"
      ],
      "metadata": {
        "id": "VPZYWSGnoKKx"
      },
      "execution_count": null,
      "outputs": []
    },
    {
      "cell_type": "markdown",
      "source": [
        "### 4-5. 모델 생성 및 학습"
      ],
      "metadata": {
        "id": "lEQ_bAOooQXz"
      }
    },
    {
      "cell_type": "code",
      "source": [
        "max_length2 = X_train_df.shape[1]\n",
        "max_length2"
      ],
      "metadata": {
        "colab": {
          "base_uri": "https://localhost:8080/"
        },
        "id": "MuzUvIURtOpG",
        "outputId": "da1f847b-fc6f-4feb-e0d0-549f3cc9bdd6"
      },
      "execution_count": null,
      "outputs": [
        {
          "output_type": "execute_result",
          "data": {
            "text/plain": [
              "106"
            ]
          },
          "metadata": {},
          "execution_count": 78
        }
      ]
    },
    {
      "cell_type": "code",
      "source": [
        "# EarlyStopping callback definition\n",
        "early_stopping = tf.keras.callbacks.EarlyStopping(monitor='val_loss', patience=3, restore_best_weights=True)\n",
        "\n",
        "# Placeholder for test set predictions\n",
        "pred_list = []\n",
        "\n",
        "for train_index, val_index in skf.split(train_padded, y_train):\n",
        "    # NLP 모델 생성\n",
        "    model = tf.keras.Sequential([\n",
        "        tf.keras.layers.Embedding(vocab_size, embedding_dim, input_length=max_length2),\n",
        "        tf.keras.layers.Dropout(0.3),\n",
        "        tf.keras.layers.Conv1D(64, 5, padding=\"valid\", activation=\"relu\"),\n",
        "        tf.keras.layers.Dropout(0.3),\n",
        "        tf.keras.layers.MaxPooling1D(),\n",
        "        tf.keras.layers.Flatten(),\n",
        "        tf.keras.layers.Dense(800, activation='relu'),\n",
        "        tf.keras.layers.Dropout(0.5),\n",
        "        tf.keras.layers.Dense(5, activation='softmax')\n",
        "    ])\n",
        "\n",
        "    # Compile the model\n",
        "    model.compile(loss='sparse_categorical_crossentropy',\n",
        "                  optimizer='adam',\n",
        "                  metrics=['accuracy'])\n",
        "\n",
        "    # Fit the model\n",
        "    history = model.fit(X_train_fold, y_train_fold,\n",
        "                        epochs=num_epochs, verbose=2,\n",
        "                        validation_data=(X_val_fold, y_val_fold),\n",
        "                        callbacks=[early_stopping])\n",
        "\n",
        "    # Predict values for the test set and store them\n",
        "    pred = model.predict(test_padded)\n",
        "    pred_list.append(pred)\n"
      ],
      "metadata": {
        "colab": {
          "base_uri": "https://localhost:8080/"
        },
        "id": "nednnCXqrfXn",
        "outputId": "115843be-9e0f-413d-83b5-8c06ce9e104c"
      },
      "execution_count": null,
      "outputs": [
        {
          "output_type": "stream",
          "name": "stdout",
          "text": [
            "Epoch 1/20\n",
            "1372/1372 - 96s - loss: 1.0077 - accuracy: 0.5957 - val_loss: 0.7180 - val_accuracy: 0.7310 - 96s/epoch - 70ms/step\n",
            "Epoch 2/20\n",
            "1372/1372 - 100s - loss: 0.5701 - accuracy: 0.7916 - val_loss: 0.6407 - val_accuracy: 0.7624 - 100s/epoch - 73ms/step\n",
            "Epoch 3/20\n",
            "1372/1372 - 98s - loss: 0.4171 - accuracy: 0.8505 - val_loss: 0.6526 - val_accuracy: 0.7664 - 98s/epoch - 71ms/step\n",
            "Epoch 4/20\n",
            "1372/1372 - 97s - loss: 0.3451 - accuracy: 0.8757 - val_loss: 0.6955 - val_accuracy: 0.7606 - 97s/epoch - 71ms/step\n",
            "Epoch 5/20\n",
            "1372/1372 - 94s - loss: 0.2932 - accuracy: 0.8946 - val_loss: 0.7215 - val_accuracy: 0.7675 - 94s/epoch - 69ms/step\n",
            "614/614 [==============================] - 8s 13ms/step\n",
            "Epoch 1/20\n",
            "1372/1372 - 94s - loss: 1.0077 - accuracy: 0.5983 - val_loss: 0.7265 - val_accuracy: 0.7328 - 94s/epoch - 69ms/step\n",
            "Epoch 2/20\n",
            "1372/1372 - 91s - loss: 0.5716 - accuracy: 0.7936 - val_loss: 0.6371 - val_accuracy: 0.7655 - 91s/epoch - 66ms/step\n",
            "Epoch 3/20\n",
            "1372/1372 - 91s - loss: 0.4184 - accuracy: 0.8493 - val_loss: 0.6347 - val_accuracy: 0.7709 - 91s/epoch - 67ms/step\n",
            "Epoch 4/20\n",
            "1372/1372 - 94s - loss: 0.3434 - accuracy: 0.8761 - val_loss: 0.6700 - val_accuracy: 0.7704 - 94s/epoch - 68ms/step\n",
            "Epoch 5/20\n",
            "1372/1372 - 95s - loss: 0.2955 - accuracy: 0.8946 - val_loss: 0.7023 - val_accuracy: 0.7656 - 95s/epoch - 69ms/step\n",
            "Epoch 6/20\n",
            "1372/1372 - 95s - loss: 0.2622 - accuracy: 0.9059 - val_loss: 0.7688 - val_accuracy: 0.7671 - 95s/epoch - 70ms/step\n",
            "614/614 [==============================] - 8s 13ms/step\n",
            "Epoch 1/20\n",
            "1372/1372 - 100s - loss: 1.0120 - accuracy: 0.5927 - val_loss: 0.7450 - val_accuracy: 0.7249 - 100s/epoch - 73ms/step\n",
            "Epoch 2/20\n",
            "1372/1372 - 97s - loss: 0.5815 - accuracy: 0.7892 - val_loss: 0.6441 - val_accuracy: 0.7642 - 97s/epoch - 71ms/step\n",
            "Epoch 3/20\n",
            "1372/1372 - 97s - loss: 0.4290 - accuracy: 0.8450 - val_loss: 0.6459 - val_accuracy: 0.7686 - 97s/epoch - 71ms/step\n",
            "Epoch 4/20\n",
            "1372/1372 - 96s - loss: 0.3483 - accuracy: 0.8756 - val_loss: 0.6606 - val_accuracy: 0.7696 - 96s/epoch - 70ms/step\n",
            "Epoch 5/20\n",
            "1372/1372 - 95s - loss: 0.2972 - accuracy: 0.8921 - val_loss: 0.7440 - val_accuracy: 0.7652 - 95s/epoch - 70ms/step\n",
            "614/614 [==============================] - 6s 10ms/step\n",
            "Epoch 1/20\n",
            "1372/1372 - 100s - loss: 1.0110 - accuracy: 0.5936 - val_loss: 0.7279 - val_accuracy: 0.7310 - 100s/epoch - 73ms/step\n",
            "Epoch 2/20\n",
            "1372/1372 - 93s - loss: 0.5742 - accuracy: 0.7915 - val_loss: 0.6383 - val_accuracy: 0.7669 - 93s/epoch - 67ms/step\n",
            "Epoch 3/20\n",
            "1372/1372 - 91s - loss: 0.4218 - accuracy: 0.8480 - val_loss: 0.6547 - val_accuracy: 0.7646 - 91s/epoch - 66ms/step\n",
            "Epoch 4/20\n",
            "1372/1372 - 87s - loss: 0.3431 - accuracy: 0.8760 - val_loss: 0.6765 - val_accuracy: 0.7678 - 87s/epoch - 63ms/step\n",
            "Epoch 5/20\n",
            "1372/1372 - 86s - loss: 0.2976 - accuracy: 0.8935 - val_loss: 0.6982 - val_accuracy: 0.7689 - 86s/epoch - 62ms/step\n",
            "614/614 [==============================] - 7s 12ms/step\n",
            "Epoch 1/20\n",
            "1372/1372 - 86s - loss: 1.0010 - accuracy: 0.6011 - val_loss: 0.7007 - val_accuracy: 0.7402 - 86s/epoch - 63ms/step\n",
            "Epoch 2/20\n",
            "1372/1372 - 84s - loss: 0.5670 - accuracy: 0.7949 - val_loss: 0.6286 - val_accuracy: 0.7696 - 84s/epoch - 61ms/step\n",
            "Epoch 3/20\n",
            "1372/1372 - 86s - loss: 0.4178 - accuracy: 0.8496 - val_loss: 0.6300 - val_accuracy: 0.7718 - 86s/epoch - 63ms/step\n",
            "Epoch 4/20\n",
            "1372/1372 - 84s - loss: 0.3422 - accuracy: 0.8776 - val_loss: 0.6662 - val_accuracy: 0.7658 - 84s/epoch - 61ms/step\n",
            "Epoch 5/20\n",
            "1372/1372 - 86s - loss: 0.2947 - accuracy: 0.8940 - val_loss: 0.7234 - val_accuracy: 0.7614 - 86s/epoch - 62ms/step\n",
            "614/614 [==============================] - 5s 8ms/step\n"
          ]
        }
      ]
    },
    {
      "cell_type": "markdown",
      "source": [
        "### 4-6. 결과 확인"
      ],
      "metadata": {
        "id": "2IHVMfXQqxM1"
      }
    },
    {
      "cell_type": "code",
      "source": [
        "pred_list"
      ],
      "metadata": {
        "colab": {
          "base_uri": "https://localhost:8080/"
        },
        "id": "e3H41uyLofIv",
        "outputId": "4a4dee09-5c5c-45d5-d694-0e962a2c331f"
      },
      "execution_count": null,
      "outputs": [
        {
          "output_type": "execute_result",
          "data": {
            "text/plain": [
              "[array([[2.6124911e-02, 9.1298324e-01, 1.0752710e-02, 4.9209580e-02,\n",
              "         9.2951348e-04],\n",
              "        [1.6803342e-03, 9.5620430e-01, 1.5855579e-02, 3.4842347e-03,\n",
              "         2.2775512e-02],\n",
              "        [6.0264146e-01, 1.5172465e-01, 1.2224924e-01, 4.5507219e-02,\n",
              "         7.7877529e-02],\n",
              "        ...,\n",
              "        [1.1790693e-02, 9.8557872e-01, 3.2587667e-04, 5.5875606e-04,\n",
              "         1.7458082e-03],\n",
              "        [2.4759674e-02, 9.6992004e-01, 5.8568484e-04, 1.3358345e-03,\n",
              "         3.3987085e-03],\n",
              "        [9.8016000e-01, 2.2648450e-03, 1.0294878e-02, 4.4495781e-04,\n",
              "         6.8353927e-03]], dtype=float32),\n",
              " array([[1.2825023e-03, 4.1327515e-01, 4.3955860e-01, 1.4435260e-01,\n",
              "         1.5311757e-03],\n",
              "        [1.8354535e-02, 9.1019583e-01, 4.0533122e-02, 6.2316549e-03,\n",
              "         2.4684811e-02],\n",
              "        [9.4768077e-01, 4.7992345e-02, 1.8639686e-03, 2.3755175e-03,\n",
              "         8.7444510e-05],\n",
              "        ...,\n",
              "        [5.6023459e-04, 9.9927831e-01, 8.2352990e-06, 1.3432186e-04,\n",
              "         1.8980219e-05],\n",
              "        [6.2241312e-04, 9.9897623e-01, 1.3157820e-04, 1.0800889e-04,\n",
              "         1.6163077e-04],\n",
              "        [9.9666119e-01, 6.4688985e-04, 1.9331404e-03, 2.1021206e-04,\n",
              "         5.4851628e-04]], dtype=float32),\n",
              " array([[3.9460514e-02, 8.0928075e-01, 5.8989394e-02, 8.7792344e-02,\n",
              "         4.4771088e-03],\n",
              "        [1.1728339e-02, 8.5088205e-01, 2.6948091e-02, 3.6312200e-02,\n",
              "         7.4129194e-02],\n",
              "        [8.5710675e-01, 8.2365595e-02, 4.8410829e-02, 2.0978008e-03,\n",
              "         1.0019073e-02],\n",
              "        ...,\n",
              "        [9.8555284e-03, 9.8866749e-01, 2.5989406e-04, 1.0350464e-03,\n",
              "         1.8212353e-04],\n",
              "        [6.3144048e-03, 9.9202448e-01, 7.7077752e-04, 6.1526650e-04,\n",
              "         2.7490506e-04],\n",
              "        [2.9867128e-01, 2.4679510e-02, 6.2438214e-01, 2.6662147e-03,\n",
              "         4.9600776e-02]], dtype=float32),\n",
              " array([[2.5693155e-03, 9.4532514e-01, 2.3754321e-02, 2.8243141e-02,\n",
              "         1.0805159e-04],\n",
              "        [5.6678191e-02, 3.6487839e-01, 4.7523561e-01, 4.5303404e-02,\n",
              "         5.7904463e-02],\n",
              "        [8.6004853e-01, 5.6133747e-02, 7.3129974e-02, 3.5403997e-03,\n",
              "         7.1473136e-03],\n",
              "        ...,\n",
              "        [2.0428063e-04, 9.9961823e-01, 1.1511982e-05, 1.5431091e-04,\n",
              "         1.1631142e-05],\n",
              "        [3.2101039e-04, 9.9957067e-01, 3.8958056e-05, 5.8900136e-05,\n",
              "         1.0453219e-05],\n",
              "        [9.9556583e-01, 1.0025782e-04, 1.1747676e-03, 7.6005279e-05,\n",
              "         3.0831043e-03]], dtype=float32),\n",
              " array([[1.27601977e-02, 9.47364390e-01, 1.13598043e-02, 2.67505981e-02,\n",
              "         1.76506094e-03],\n",
              "        [3.50593925e-02, 8.86534095e-01, 3.20764594e-02, 1.18637821e-02,\n",
              "         3.44662592e-02],\n",
              "        [8.26490283e-01, 9.80553403e-02, 4.65283655e-02, 5.59093710e-03,\n",
              "         2.33350731e-02],\n",
              "        ...,\n",
              "        [2.89394683e-03, 9.95791435e-01, 1.15143164e-04, 9.13970347e-04,\n",
              "         2.85455608e-04],\n",
              "        [4.21462301e-03, 9.93256271e-01, 5.66304487e-04, 8.41555069e-04,\n",
              "         1.12121820e-03],\n",
              "        [8.39320600e-01, 6.97788503e-03, 7.26704523e-02, 7.75942230e-04,\n",
              "         8.02551657e-02]], dtype=float32)]"
            ]
          },
          "metadata": {},
          "execution_count": 85
        }
      ]
    },
    {
      "cell_type": "code",
      "source": [
        "# Average the predictions for the test set\n",
        "pred = np.mean(pred_list, axis=0)"
      ],
      "metadata": {
        "id": "lMmoumvUofG7"
      },
      "execution_count": null,
      "outputs": []
    },
    {
      "cell_type": "code",
      "source": [
        "# submission\n",
        "submission[['0','1','2','3','4']] = pred\n",
        "submission.to_csv('/content/drive/MyDrive/ESAA/OB/data/project2/submission_최종.csv', index = False, encoding = 'utf-8')"
      ],
      "metadata": {
        "id": "h4nTM9hjkqMz"
      },
      "execution_count": null,
      "outputs": []
    }
  ]
}